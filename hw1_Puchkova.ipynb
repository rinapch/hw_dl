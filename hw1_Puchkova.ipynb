{
 "cells": [
  {
   "cell_type": "markdown",
   "metadata": {
    "id": "Kj5fHTrQWQT9"
   },
   "source": [
    "## Домашнее задание №1\n",
    "\n",
    "В этом домашнем задании вы познакомитесь с pytorch сами и сможете попрактиковаться в его применении. \n",
    "\n",
    "#### План:\n",
    "\n",
    "1. Простейшие операции в pytorch\n",
    "2. Пишем Adam и применяем его к ручной модели\n",
    "3. Обучаем свою первую нейросеть"
   ]
  },
  {
   "cell_type": "code",
   "execution_count": 1,
   "metadata": {
    "id": "BA7lpdZbWQT-"
   },
   "outputs": [],
   "source": [
    "import os\n",
    "import sys\n",
    "import math\n",
    "import torch\n",
    "import random\n",
    "import numpy as np\n",
    "from tqdm import tqdm\n",
    "import torch.nn.functional as F\n",
    "import torch.nn as nn\n",
    "import matplotlib.pyplot as plt\n",
    "import numpy as np"
   ]
  },
  {
   "cell_type": "markdown",
   "metadata": {
    "id": "Yo1d9RN_WQUB"
   },
   "source": [
    "### Простейшие операции на pytorch (2 балла)"
   ]
  },
  {
   "cell_type": "markdown",
   "metadata": {
    "id": "6jhfhDQSWQUC"
   },
   "source": [
    "**Task**: Cоздайте два случайных тензора (двумерных, не квадратных):"
   ]
  },
  {
   "cell_type": "code",
   "execution_count": 2,
   "metadata": {
    "id": "d22AvWaDWQUC"
   },
   "outputs": [],
   "source": [
    "x = torch.randn(3, 2)\n",
    "y = torch.randn(3, 2)"
   ]
  },
  {
   "cell_type": "code",
   "execution_count": 3,
   "metadata": {
    "colab": {
     "base_uri": "https://localhost:8080/"
    },
    "id": "Bs-_uUvIWQUE",
    "outputId": "a5d966d1-c773-40a0-b84c-822e4f99edde"
   },
   "outputs": [
    {
     "data": {
      "text/plain": [
       "tensor([[ 1.4788,  2.5016],\n",
       "        [ 1.5650,  1.3157],\n",
       "        [ 0.3031, -1.6828]])"
      ]
     },
     "execution_count": 3,
     "metadata": {
      "tags": []
     },
     "output_type": "execute_result"
    }
   ],
   "source": [
    "x"
   ]
  },
  {
   "cell_type": "markdown",
   "metadata": {
    "id": "mfMZuvHnWQUH"
   },
   "source": [
    "**Task**: Умножьте их друг на друга, результат запишите в третий тензор без использования оператора `=`, для создания третьего тензора предлагается использовать `torch.empty`:"
   ]
  },
  {
   "cell_type": "code",
   "execution_count": 4,
   "metadata": {
    "colab": {
     "base_uri": "https://localhost:8080/"
    },
    "id": "IOVlyaOdWQUI",
    "outputId": "83ca44e7-5572-4307-bafe-e62f2ea4f7f1"
   },
   "outputs": [
    {
     "data": {
      "text/plain": [
       "tensor([[3.7378e-36, 0.0000e+00, 3.3631e-44],\n",
       "        [0.0000e+00,        nan, 0.0000e+00],\n",
       "        [1.1578e+27, 1.1362e+30, 7.1547e+22]])"
      ]
     },
     "execution_count": 4,
     "metadata": {
      "tags": []
     },
     "output_type": "execute_result"
    }
   ],
   "source": [
    "z = torch.empty(3, 3)\n",
    "z"
   ]
  },
  {
   "cell_type": "code",
   "execution_count": 5,
   "metadata": {
    "colab": {
     "base_uri": "https://localhost:8080/"
    },
    "id": "B8eiPcXLWQUK",
    "outputId": "968bf0b4-c3bb-42b3-e695-6b0d16e79a05"
   },
   "outputs": [
    {
     "data": {
      "text/plain": [
       "tensor([[-1.9858,  1.9882,  0.4190],\n",
       "        [-0.9264,  1.1303, -0.2743],\n",
       "        [ 1.5304, -1.1979, -1.0974]])"
      ]
     },
     "execution_count": 5,
     "metadata": {
      "tags": []
     },
     "output_type": "execute_result"
    }
   ],
   "source": [
    "torch.matmul(x, y.t(), out = z)\n",
    "z"
   ]
  },
  {
   "cell_type": "code",
   "execution_count": 6,
   "metadata": {
    "colab": {
     "base_uri": "https://localhost:8080/"
    },
    "id": "QsHejB6OWQUM",
    "outputId": "f50b7e98-c12d-4975-a9bd-d307eae92987"
   },
   "outputs": [
    {
     "data": {
      "text/plain": [
       "tensor([[-1.9858,  1.9882,  0.4190],\n",
       "        [-0.9264,  1.1303, -0.2743],\n",
       "        [ 1.5304, -1.1979, -1.0974]])"
      ]
     },
     "execution_count": 6,
     "metadata": {
      "tags": []
     },
     "output_type": "execute_result"
    }
   ],
   "source": [
    "x @ y.t() #проверяю, что совпадает с выдачей"
   ]
  },
  {
   "cell_type": "markdown",
   "metadata": {
    "id": "OE_cRkGSWQUO"
   },
   "source": [
    "**Task**: Реализуйте ReLU использую только pytorch, примените его к тензору `x` (запрещено использование модулей torch.nn и его подмодулей, а также функции torch.relu)"
   ]
  },
  {
   "cell_type": "code",
   "execution_count": 7,
   "metadata": {
    "id": "56jD0XxpWQUP"
   },
   "outputs": [],
   "source": [
    "def relu_forward(x): #сделала таким образом, чтоб работать с любыим размерностями, не только двумерными\n",
    "    z = x.reshape(-1) #аналог flatten только без flatten\n",
    "    for i in range(z.shape[0]): \n",
    "        z[i] = max(0, z[i])\n",
    "    z = z.reshape(x.shape) #делаем опять матричку исходного размера\n",
    "    return z \n",
    "\n",
    "assert torch.all(F.relu(x) == relu_forward(x))"
   ]
  },
  {
   "cell_type": "code",
   "execution_count": 8,
   "metadata": {
    "colab": {
     "base_uri": "https://localhost:8080/"
    },
    "id": "9Lq5sFtmWQUR",
    "outputId": "4030afc1-60d2-4270-c5dd-e4221a6ee473"
   },
   "outputs": [
    {
     "data": {
      "text/plain": [
       "tensor([[1.4788, 2.5016],\n",
       "        [1.5650, 1.3157],\n",
       "        [0.3031, 0.0000]])"
      ]
     },
     "execution_count": 8,
     "metadata": {
      "tags": []
     },
     "output_type": "execute_result"
    }
   ],
   "source": [
    "relu_forward(x)"
   ]
  },
  {
   "cell_type": "code",
   "execution_count": 9,
   "metadata": {
    "colab": {
     "base_uri": "https://localhost:8080/"
    },
    "id": "i_SshBtEWQUT",
    "outputId": "22949b84-5ab6-4fb1-f08e-10d3ea4e617f"
   },
   "outputs": [
    {
     "data": {
      "text/plain": [
       "tensor([[1.4788, 2.5016],\n",
       "        [1.5650, 1.3157],\n",
       "        [0.3031, 0.0000]])"
      ]
     },
     "execution_count": 9,
     "metadata": {
      "tags": []
     },
     "output_type": "execute_result"
    }
   ],
   "source": [
    "F.relu(x) #тоже проверяю, что все сходится "
   ]
  },
  {
   "cell_type": "markdown",
   "metadata": {
    "id": "DPx6Sod5WQUU"
   },
   "source": [
    "**Task**: Сделайте тоже самое c ELU (запрещено использование модулей torch.nn и его подмодулей):"
   ]
  },
  {
   "cell_type": "code",
   "execution_count": 10,
   "metadata": {
    "id": "j8tq1FnaWQUV"
   },
   "outputs": [],
   "source": [
    "def elu_forward(x):\n",
    "    z = x.reshape(-1) \n",
    "    for i in range(z.shape[0]): \n",
    "        z[i] = max(0, z[i]) + min(0, 1.0*(torch.exp(z[i]) - 1))  #я тут беру дефолтное значение альфа = 1, так как\n",
    "        #в функции изначально но вход не поступает альфа, т.е ее нельзя задать \n",
    "    z = z.reshape(x.shape)\n",
    "    return z \n",
    "    \n",
    "\n",
    "assert torch.allclose(\n",
    "    F.elu(x),\n",
    "    elu_forward(x), \n",
    "    1e-4\n",
    ")"
   ]
  },
  {
   "cell_type": "code",
   "execution_count": 11,
   "metadata": {
    "colab": {
     "base_uri": "https://localhost:8080/"
    },
    "id": "m6uw0kXEWQUX",
    "outputId": "bc669de0-7543-4577-99d1-5cfc5d72539d"
   },
   "outputs": [
    {
     "data": {
      "text/plain": [
       "tensor([[1.4788, 2.5016],\n",
       "        [1.5650, 1.3157],\n",
       "        [0.3031, 0.0000]])"
      ]
     },
     "execution_count": 11,
     "metadata": {
      "tags": []
     },
     "output_type": "execute_result"
    }
   ],
   "source": [
    "F.elu(x)"
   ]
  },
  {
   "cell_type": "code",
   "execution_count": 12,
   "metadata": {
    "colab": {
     "base_uri": "https://localhost:8080/"
    },
    "id": "vQSblArsWQUY",
    "outputId": "f3d0a2f0-a831-4f48-bb97-bf752761f282"
   },
   "outputs": [
    {
     "data": {
      "text/plain": [
       "tensor([[1.4788, 2.5016],\n",
       "        [1.5650, 1.3157],\n",
       "        [0.3031, 0.0000]])"
      ]
     },
     "execution_count": 12,
     "metadata": {
      "tags": []
     },
     "output_type": "execute_result"
    }
   ],
   "source": [
    "elu_forward(x)"
   ]
  },
  {
   "cell_type": "markdown",
   "metadata": {
    "id": "ooC6Hs0hWQUa"
   },
   "source": [
    "**Task**: LeakyReLU (запрещено использование модулей torch.nn и его подмодулей):"
   ]
  },
  {
   "cell_type": "code",
   "execution_count": 13,
   "metadata": {
    "id": "xHtJ8BoXWQUb"
   },
   "outputs": [],
   "source": [
    "def lrelu_forward(x, alpha):\n",
    "    z = x.reshape(-1) \n",
    "    for i in range(z.shape[0]):\n",
    "        z[i] = max(0, z[i]) + alpha*min(0, z[i])\n",
    "    z = z.reshape(x.shape)\n",
    "    return z \n",
    "\n",
    "assert torch.all(F.leaky_relu(x, 0.01) == lrelu_forward(x, 0.01))"
   ]
  },
  {
   "cell_type": "code",
   "execution_count": 14,
   "metadata": {
    "colab": {
     "base_uri": "https://localhost:8080/"
    },
    "id": "hih38Nn7WQUd",
    "outputId": "03c10219-fb9e-45e5-c1bc-62d9a90f6fae"
   },
   "outputs": [
    {
     "data": {
      "text/plain": [
       "tensor([[1.4788, 2.5016],\n",
       "        [1.5650, 1.3157],\n",
       "        [0.3031, 0.0000]])"
      ]
     },
     "execution_count": 14,
     "metadata": {
      "tags": []
     },
     "output_type": "execute_result"
    }
   ],
   "source": [
    "F.leaky_relu(x, 0.01)"
   ]
  },
  {
   "cell_type": "code",
   "execution_count": 15,
   "metadata": {
    "colab": {
     "base_uri": "https://localhost:8080/"
    },
    "id": "u4llvp0XWQUf",
    "outputId": "7bbc8532-7852-453d-9a08-49da52f67c1c"
   },
   "outputs": [
    {
     "data": {
      "text/plain": [
       "tensor([[1.4788, 2.5016],\n",
       "        [1.5650, 1.3157],\n",
       "        [0.3031, 0.0000]])"
      ]
     },
     "execution_count": 15,
     "metadata": {
      "tags": []
     },
     "output_type": "execute_result"
    }
   ],
   "source": [
    "lrelu_forward(x, 0.01)"
   ]
  },
  {
   "cell_type": "markdown",
   "metadata": {
    "id": "_9z_WVdPWQUg"
   },
   "source": [
    "**Task**: Теперь перейдем к немного более современным функциям активаций, например Mish, напомним как она выглядит:\n",
    "\n",
    "$$x * tanh(ln(1+e^x))$$\n",
    "\n",
    "(запрещено использование модулей torch.nn и его подмодулей)"
   ]
  },
  {
   "cell_type": "code",
   "execution_count": 16,
   "metadata": {
    "id": "xfmxscxJWQUh"
   },
   "outputs": [],
   "source": [
    "def mish(x):\n",
    "    def tanh(arg): \n",
    "        tanh = (torch.exp(arg) - torch.exp(-arg))/ (torch.exp(arg) + torch.exp(-arg))\n",
    "        return tanh \n",
    "    \n",
    "    z = x.reshape(-1) \n",
    "    for i in range(z.shape[0]):\n",
    "        z[i] = z[i]*tanh(torch.log(1 + torch.exp(z[i])))\n",
    "    z = z.reshape(x.shape)\n",
    "    return z "
   ]
  },
  {
   "cell_type": "code",
   "execution_count": 17,
   "metadata": {
    "id": "LUnkWSc1WQUk"
   },
   "outputs": [],
   "source": [
    "assert torch.allclose(\n",
    "    mish(torch.tensor([1, 1, 1], dtype=torch.float32)), \n",
    "    torch.tensor([0.8651, 0.8651, 0.8651]), \n",
    "    atol=1e-4\n",
    ")\n",
    "\n",
    "assert torch.allclose(\n",
    "    mish(torch.tensor([0.6376, 0.4021, 0.6656, 0.3726], dtype=torch.float64)), \n",
    "    torch.tensor([0.5014, 0.2908, 0.5280, 0.2663], dtype=torch.float64), \n",
    "    atol=1e-4\n",
    ")"
   ]
  },
  {
   "cell_type": "code",
   "execution_count": 18,
   "metadata": {
    "colab": {
     "base_uri": "https://localhost:8080/"
    },
    "id": "oZ4kYxpmWQUm",
    "outputId": "5aeddd9f-4e3f-42bd-88f7-e3e4075ddb19"
   },
   "outputs": [
    {
     "data": {
      "text/plain": [
       "tensor([0.8651, 0.8651, 0.8651])"
      ]
     },
     "execution_count": 18,
     "metadata": {
      "tags": []
     },
     "output_type": "execute_result"
    }
   ],
   "source": [
    "mish(torch.tensor([1, 1, 1], dtype=torch.float32))"
   ]
  },
  {
   "cell_type": "markdown",
   "metadata": {
    "id": "gK1iNo-ZWQUo"
   },
   "source": [
    "**Task**: Теперь реализуем swish, напомним как она выглядит:\n",
    "\n",
    "$$x * \\sigma(x)$$\n",
    "\n",
    "(запрещено использование модулей torch.nn и его подмодулей)"
   ]
  },
  {
   "cell_type": "code",
   "execution_count": 19,
   "metadata": {
    "id": "tXdvjjgYWQUo"
   },
   "outputs": [],
   "source": [
    "def swish(x):\n",
    "    z = x.reshape(-1) \n",
    "    for i in range(z.shape[0]):\n",
    "        z[i] = z[i]*(1 / (1 + torch.exp(-z[i]))) \n",
    "    z = z.reshape(x.shape)\n",
    "    return z "
   ]
  },
  {
   "cell_type": "code",
   "execution_count": 20,
   "metadata": {
    "id": "-W69NxxMWQUq"
   },
   "outputs": [],
   "source": [
    "assert torch.allclose(\n",
    "    swish(torch.tensor([1, 1, 1], dtype=torch.float32)), \n",
    "    torch.tensor([0.7311, 0.7311, 0.7311]), \n",
    "    atol=1e-4\n",
    ")\n",
    "\n",
    "assert torch.allclose(\n",
    "    swish(torch.tensor([0.6376, 0.4021, 0.6656, 0.3726], dtype=torch.float64)), \n",
    "    torch.tensor([0.4171, 0.2409, 0.4396, 0.2206], dtype=torch.float64), \n",
    "    atol=1e-4\n",
    ")"
   ]
  },
  {
   "cell_type": "code",
   "execution_count": 21,
   "metadata": {
    "colab": {
     "base_uri": "https://localhost:8080/"
    },
    "id": "VZHeOJTzWQUs",
    "outputId": "181c77d2-0a58-4ec1-e2c2-d656d8486387"
   },
   "outputs": [
    {
     "data": {
      "text/plain": [
       "tensor([0.7311, 0.7311, 0.7311])"
      ]
     },
     "execution_count": 21,
     "metadata": {
      "tags": []
     },
     "output_type": "execute_result"
    }
   ],
   "source": [
    "swish(torch.tensor([1, 1, 1], dtype=torch.float32))"
   ]
  },
  {
   "cell_type": "markdown",
   "metadata": {
    "id": "wQe3FrnbWQUu"
   },
   "source": [
    "### Пишем Adam и применяем его к линейной регрессии (4 балла)\n",
    "\n",
    "\n",
    "В данной секции вам нужно сделать две вещи: \n",
    "\n",
    "1. Написать свой собственный оптимизатор подобно тому, который мы писали на семинаре\n",
    "2. Обучить логистическую регрессию побатчево на картинках из датасета \n",
    "\n",
    "\n",
    "#### Adam\n",
    "\n",
    "\n",
    "$$\n",
    "\\begin{eqnarray}\n",
    "g &=& \\frac{1}{m}\\nabla_w \\sum_i L(f(x_{i};w), y_{i}) \\\\\n",
    "m &=& \\beta_1 m + (1 - \\beta_1) g \\\\\n",
    "v &=& \\beta_2 v + (1 - \\beta_2) diag(gg^{T}) \\\\\n",
    "\\hat{m} &=& \\frac{m}{1 - \\beta_1^{t}} \\\\\n",
    "\\hat{v} &=& \\frac{v}{1 - \\beta_2^{t}} \\\\\n",
    "w &=& w - \\frac{\\eta}{\\sqrt{\\hat{v} + \\epsilon}} \\odot \\hat{m}\n",
    "\\end{eqnarray}\n",
    "$$"
   ]
  },
  {
   "cell_type": "code",
   "execution_count": 22,
   "metadata": {
    "id": "mt-jwPoGWQUu"
   },
   "outputs": [],
   "source": [
    "# абстрактный класс, не обращайте внимания\n",
    "from torch.optim import Optimizer\n",
    "\n",
    "\n",
    "class InClassOptimizer(Optimizer):\n",
    "    def step(self):\n",
    "        \"\"\"Perform single optimization step.\"\"\"\n",
    "        with torch.no_grad(): # выключим градиенты\n",
    "            for group in self.param_groups:\n",
    "                self._group_step(group)\n",
    "\n",
    "    def _group_step(self, group):\n",
    "        # group ~ dict[str, ...]\n",
    "        \"\"\"\n",
    "        Private helper function to perform\n",
    "        single optimization step on model parameters.\n",
    "        \"\"\"\n",
    "        raise NotImplementedError()"
   ]
  },
  {
   "cell_type": "markdown",
   "metadata": {
    "id": "hT5T1buxWQUw"
   },
   "source": [
    "**Task**: Напишите свою реализацию Adam:"
   ]
  },
  {
   "cell_type": "code",
   "execution_count": 23,
   "metadata": {
    "id": "PxjZ8T-bWQUx"
   },
   "outputs": [],
   "source": [
    "class Adam(InClassOptimizer):\n",
    "    def __init__(self, params, lr=0.001, eps=1e-13, beta_1=0.9, beta_2=0.999):\n",
    "        defaults = dict(lr=lr, eps=eps, beta_1=beta_1, beta_2=beta_2)\n",
    "        super().__init__(params, defaults)\n",
    "\n",
    "    def _group_step(self, group):\n",
    "        # One group contains information about values passed in init\n",
    "        # and model parameters to update\n",
    "        lr = group['lr']\n",
    "        eps = group['eps']\n",
    "        beta_1 = group['beta_1']\n",
    "        beta_2 = group['beta_2']\n",
    "\n",
    "        for param in filter(lambda x: x.grad is not None, group['params']):\n",
    "            #print(\"param before\", param) \n",
    "            #print(group['params'])\n",
    "            self._init_adam_buffer(param) #инициализируем веса, если еще не заданы\n",
    "            param_state = self.state[param]\n",
    "            v, m, step = self._get_adam_buffer(param) #достаем бафферы для параметра из словаря\n",
    "            #print(param_state)\n",
    "            d_param = param.grad #считаем градиент\n",
    "            m.data = beta_1*m + (1 - beta_1)*d_param \n",
    "            v.data = beta_2*v + (1 - beta_2)*(d_param**2)\n",
    "            m_hat = m /(1 - (beta_1 ** step))\n",
    "            v_hat = v / (1 - (beta_2 ** step)) \n",
    "            param.data = param - ((lr*m_hat)/(torch.sqrt(v_hat + eps))) #обновляем веса \n",
    "            \n",
    "            param_state['step'] += 1 #обновляем шаг \n",
    "            #print(\"param after\", param, step) \n",
    "            \n",
    "            \n",
    "    def _get_adam_buffer(self, param):\n",
    "        \"\"\"\n",
    "        Get accumulated gradients for Adam.\n",
    "\n",
    "        Parameters\n",
    "        ----------\n",
    "        param : `torch.Tensor`, required\n",
    "            Model parameter to get accumulated gradeints for Adagrad.\n",
    "\n",
    "        Returns\n",
    "        -------\n",
    "        Accumulated Adam gradients for parameter.\n",
    "        \"\"\"\n",
    "        param_state = self.state[param]\n",
    "        return param_state['v'], param_state['m'], param_state['step']\n",
    "\n",
    "    def _init_adam_buffer(self, param):\n",
    "        \"\"\"\n",
    "        Initialize accumulated gradeints for adam.\n",
    "\n",
    "        Parameters\n",
    "        ----------\n",
    "        param : `torch.Tensor`, required\n",
    "            Model parameter to get accumulated gradeints for adam.\n",
    "        \"\"\"\n",
    "        param_state = self.state[param]\n",
    "        if 'm' not in param_state:\n",
    "            param_state['m'] = torch.zeros_like(param) \n",
    "        if 'v' not in param_state:\n",
    "            param_state['v'] = torch.zeros_like(param)\n",
    "        if \"step\" not in param_state: \n",
    "            param_state[\"step\"] = 1 \n",
    "            "
   ]
  },
  {
   "cell_type": "code",
   "execution_count": 24,
   "metadata": {
    "id": "z27tXfHeWQUz"
   },
   "outputs": [],
   "source": [
    "def check_optimizer(model, optim, num_iter):\n",
    "    loss = torch.nn.MSELoss()\n",
    "    for i in range(num_iter):\n",
    "        output = loss(model(X), y.unsqueeze(-1))\n",
    "        output.backward()\n",
    "        optim.step()\n",
    "        optim.zero_grad()\n",
    "        if i % 100 == 0:\n",
    "            print(f'Iteration {i} loss:', output.item())"
   ]
  },
  {
   "cell_type": "code",
   "execution_count": 25,
   "metadata": {
    "id": "nzzqBMKLWQU1"
   },
   "outputs": [],
   "source": [
    "from sklearn.datasets import make_regression\n",
    "def seed_everything(seed: int):\n",
    "    random.seed(seed)\n",
    "    os.environ[\"PYTHONHASHSEED\"] = str(seed)\n",
    "    np.random.seed(seed)\n",
    "    torch.manual_seed(seed)\n",
    "    torch.cuda.manual_seed(seed)\n",
    "    torch.backends.cudnn.deterministic = True\n",
    "\n",
    "X, y = map(\n",
    "    lambda x: torch.from_numpy(x).float(),\n",
    "    make_regression(n_samples=200, n_features=2)\n",
    ")\n",
    "\n",
    "def get_model():\n",
    "    seed_everything(13)\n",
    "    return torch.nn.Sequential(\n",
    "        torch.nn.Linear(2, 10),\n",
    "        torch.nn.Linear(10, 1))"
   ]
  },
  {
   "cell_type": "code",
   "execution_count": 26,
   "metadata": {
    "id": "T5ysDRwKWQU3"
   },
   "outputs": [],
   "source": [
    "def get_model():\n",
    "    seed_everything(13)\n",
    "    return torch.nn.Sequential(\n",
    "        torch.nn.Linear(2, 10),\n",
    "        torch.nn.Linear(10, 1))"
   ]
  },
  {
   "cell_type": "code",
   "execution_count": 27,
   "metadata": {
    "colab": {
     "base_uri": "https://localhost:8080/"
    },
    "id": "6fBjCKzKWQU7",
    "outputId": "d9eb84d7-291d-4fa8-d7e5-6aad9088852e"
   },
   "outputs": [
    {
     "name": "stdout",
     "output_type": "stream",
     "text": [
      "Iteration 0 loss: 6677.54296875\n",
      "Iteration 100 loss: 6570.23388671875\n",
      "Iteration 200 loss: 6391.275390625\n",
      "Iteration 300 loss: 6112.265625\n",
      "Iteration 400 loss: 5733.1123046875\n",
      "Iteration 500 loss: 5268.005859375\n",
      "Iteration 600 loss: 4739.1142578125\n",
      "Iteration 700 loss: 4171.005859375\n",
      "Iteration 800 loss: 3588.583740234375\n",
      "Iteration 900 loss: 3014.745849609375\n"
     ]
    }
   ],
   "source": [
    "model = get_model()\n",
    "optim = Adam(model.parameters())\n",
    "check_optimizer(model, optim, num_iter=1000)"
   ]
  },
  {
   "cell_type": "code",
   "execution_count": 28,
   "metadata": {
    "colab": {
     "base_uri": "https://localhost:8080/"
    },
    "id": "8xDI5L3MWQU9",
    "outputId": "38f31c63-c65e-404c-d87b-2a364e373f8a"
   },
   "outputs": [
    {
     "name": "stdout",
     "output_type": "stream",
     "text": [
      "Iteration 0 loss: 6677.54296875\n",
      "Iteration 100 loss: 6570.23388671875\n",
      "Iteration 200 loss: 6391.275390625\n",
      "Iteration 300 loss: 6112.265625\n",
      "Iteration 400 loss: 5733.1123046875\n",
      "Iteration 500 loss: 5268.005859375\n",
      "Iteration 600 loss: 4739.1142578125\n",
      "Iteration 700 loss: 4171.005859375\n",
      "Iteration 800 loss: 3588.583984375\n",
      "Iteration 900 loss: 3014.746337890625\n"
     ]
    }
   ],
   "source": [
    "model = get_model() #Проверяю, что выдача одинаковая \n",
    "optim = torch.optim.Adam(model.parameters())\n",
    "check_optimizer(model, optim, num_iter=1000)"
   ]
  },
  {
   "cell_type": "markdown",
   "metadata": {
    "id": "EMEAVflnWQU_"
   },
   "source": [
    "**Task**: Создайте параметры для обучения линейной регрессии, сделаем Xavier ициализацию, которая выглядит следующим образом: \n",
    "\n",
    "$$w \\sim U[-\\frac{\\sqrt{6}}{\\sqrt{n_{in} + n_{out}}}, \\frac{\\sqrt{6}}{\\sqrt{n_{in} + n_{out}}}]$$\n",
    "\n",
    "где: \n",
    "\n",
    "* $n_{in}$ -- размер входа (в нейронах) \n",
    "* $n_{out}$ -- размер выхода (в нейронах)\n",
    "\n",
    "Подумайте над выбором $n_{in}$ и $n_{out}$ самостоятельно. "
   ]
  },
  {
   "cell_type": "code",
   "execution_count": 29,
   "metadata": {
    "colab": {
     "base_uri": "https://localhost:8080/"
    },
    "id": "ifkMYDCJWQU_",
    "outputId": "6a7816df-a3a3-4563-b625-17d5a3b68fc9"
   },
   "outputs": [
    {
     "name": "stdout",
     "output_type": "stream",
     "text": [
      "-0.08692913816996169 0.08692913816996169\n"
     ]
    }
   ],
   "source": [
    "n_in = 784 #784 пикселя на вход\n",
    "n_out = 10 #всего 10 классов одежды \n",
    "\n",
    "low = -(6**0.5)/(n_in + n_out)**0.5\n",
    "high = (6**0.5)/(n_in + n_out)**0.5\n",
    "print(low, high)"
   ]
  },
  {
   "cell_type": "code",
   "execution_count": 30,
   "metadata": {
    "id": "VJi9YcenWQVA"
   },
   "outputs": [],
   "source": [
    "np.random.seed(0)\n",
    "\n",
    "weights = torch.tensor(np.random.uniform(low, high, size=(10,784)), dtype=torch.float32, requires_grad = True)\n",
    "bias = torch.tensor(np.random.uniform(low, high, size= 10), dtype=torch.float32, requires_grad = True)"
   ]
  },
  {
   "cell_type": "code",
   "execution_count": 31,
   "metadata": {
    "colab": {
     "base_uri": "https://localhost:8080/"
    },
    "id": "ZkEkNG1uWQVC",
    "outputId": "7d9f84e6-5bc9-46e3-e8f4-4fb2ef79b8e9"
   },
   "outputs": [
    {
     "data": {
      "text/plain": [
       "tensor([-0.0017, -0.0687, -0.0604,  0.0155, -0.0181, -0.0133,  0.0014,  0.0279,\n",
       "        -0.0001, -0.0275], requires_grad=True)"
      ]
     },
     "execution_count": 31,
     "metadata": {
      "tags": []
     },
     "output_type": "execute_result"
    }
   ],
   "source": [
    "bias"
   ]
  },
  {
   "cell_type": "markdown",
   "metadata": {
    "id": "MHAbYlWaWQVD"
   },
   "source": [
    "Загрузим данные и создадим даталоадеры:"
   ]
  },
  {
   "cell_type": "code",
   "execution_count": 32,
   "metadata": {
    "id": "oatQMTj_WQVE"
   },
   "outputs": [],
   "source": [
    "from torch.utils.data import DataLoader\n",
    "import torchvision\n",
    "import torchvision.transforms as transforms"
   ]
  },
  {
   "cell_type": "code",
   "execution_count": 33,
   "metadata": {
    "id": "abD-in3_WQVF"
   },
   "outputs": [],
   "source": [
    "fashion_mnist_train = torchvision.datasets.FashionMNIST(\n",
    "    './data',\n",
    "    download=True,\n",
    "    transform=transforms.Compose([transforms.ToTensor()])\n",
    ")\n",
    "train_dataloader =  DataLoader(\n",
    "    fashion_mnist_train, batch_size=128, shuffle=True, num_workers=2\n",
    ")\n",
    "\n",
    "fashion_mnist_eval = torchvision.datasets.FashionMNIST(\n",
    "    './data',\n",
    "    train=False,\n",
    "    download=True,\n",
    "    transform=transforms.Compose([transforms.ToTensor()])\n",
    ")\n",
    "\n",
    "eval_dataloader = DataLoader(\n",
    "    fashion_mnist_eval, batch_size=128, num_workers=2\n",
    ")"
   ]
  },
  {
   "cell_type": "markdown",
   "metadata": {
    "id": "HhR2xsInWQVH"
   },
   "source": [
    "Напишите функцию для тренировки логистической регрессии, она должна:  \\\\\n",
    "\n",
    "    * Делать предсказания \n",
    "    * Считать лосс \n",
    "    * Подсчитывать градиенты\n",
    "    * Делать шаг оптимизации\n",
    "    * Обнулять посчитанные градиенты\n",
    "    * Считать метрики \n",
    "    * Возвращать полученные метрики\n",
    "\n",
    "\n",
    "    \n",
    "После этого предусмотрите возможность визуализировать метрики, чтобы нарисовать картинки, а именно от вас требуется визуализировать: \n",
    "\n",
    "    * Зависимость лосса от количества итераций\n",
    "    * Зависимость доли правильных ответов от количества итераций"
   ]
  },
  {
   "cell_type": "code",
   "execution_count": 34,
   "metadata": {
    "id": "PMIHLvUDWlPg"
   },
   "outputs": [],
   "source": [
    "import tqdm.notebook as tq"
   ]
  },
  {
   "cell_type": "code",
   "execution_count": 35,
   "metadata": {
    "id": "BvoZmRnYSKUA"
   },
   "outputs": [],
   "source": [
    "criterion = torch.nn.CrossEntropyLoss()"
   ]
  },
  {
   "cell_type": "code",
   "execution_count": 36,
   "metadata": {
    "colab": {
     "base_uri": "https://localhost:8080/"
    },
    "id": "BcKzkaLR7l6q",
    "outputId": "59296648-33b2-4d15-a00d-14ad82bce901"
   },
   "outputs": [
    {
     "data": {
      "text/plain": [
       "[Parameter containing:\n",
       " tensor([[-0.0318,  0.0202, -0.0063,  ..., -0.0175, -0.0175,  0.0130],\n",
       "         [ 0.0348,  0.0075, -0.0065,  ..., -0.0297, -0.0210,  0.0001],\n",
       "         [ 0.0338,  0.0091, -0.0202,  ..., -0.0005,  0.0141, -0.0220],\n",
       "         ...,\n",
       "         [-0.0199, -0.0007,  0.0099,  ..., -0.0168,  0.0316,  0.0349],\n",
       "         [-0.0102,  0.0223, -0.0236,  ...,  0.0159, -0.0203, -0.0315],\n",
       "         [-0.0140, -0.0244,  0.0175,  ..., -0.0107,  0.0329,  0.0346]],\n",
       "        requires_grad=True), Parameter containing:\n",
       " tensor([-0.0139, -0.0183,  0.0169, -0.0266, -0.0219,  0.0313, -0.0076, -0.0020,\n",
       "         -0.0140,  0.0327], requires_grad=True)]"
      ]
     },
     "execution_count": 36,
     "metadata": {
      "tags": []
     },
     "output_type": "execute_result"
    }
   ],
   "source": [
    "model = nn.Linear(784, 10, bias = True) #тут я задаю модель\n",
    "list(model.parameters())"
   ]
  },
  {
   "cell_type": "code",
   "execution_count": 37,
   "metadata": {
    "id": "qmExc6qEMm6z"
   },
   "outputs": [],
   "source": [
    "weights = nn.Parameter(weights) #вручную делаю Xavier инициализацию, с помощью весов, которые были заданы выше \n",
    "model.weight = weights\n",
    "bias = nn.Parameter(bias) \n",
    "model.bias = bias "
   ]
  },
  {
   "cell_type": "code",
   "execution_count": 38,
   "metadata": {
    "colab": {
     "base_uri": "https://localhost:8080/"
    },
    "id": "1rjFjC5sO8EJ",
    "outputId": "5c3c9ea5-93d9-40fd-f60c-c89a39be3122"
   },
   "outputs": [
    {
     "data": {
      "text/plain": [
       "Parameter containing:\n",
       "tensor([-0.0017, -0.0687, -0.0604,  0.0155, -0.0181, -0.0133,  0.0014,  0.0279,\n",
       "        -0.0001, -0.0275], requires_grad=True)"
      ]
     },
     "execution_count": 38,
     "metadata": {
      "tags": []
     },
     "output_type": "execute_result"
    }
   ],
   "source": [
    "bias"
   ]
  },
  {
   "cell_type": "code",
   "execution_count": 39,
   "metadata": {
    "colab": {
     "base_uri": "https://localhost:8080/"
    },
    "id": "S9TzoQhmO0ht",
    "outputId": "b934fea2-5bcf-4b23-d4c1-be795af0f020"
   },
   "outputs": [
    {
     "data": {
      "text/plain": [
       "[Parameter containing:\n",
       " tensor([[ 0.0085,  0.0374,  0.0179,  ..., -0.0127,  0.0596,  0.0553],\n",
       "         [-0.0691, -0.0597, -0.0340,  ..., -0.0278, -0.0750, -0.0471],\n",
       "         [-0.0247, -0.0113,  0.0158,  ..., -0.0868, -0.0748, -0.0476],\n",
       "         ...,\n",
       "         [-0.0216, -0.0782,  0.0508,  ...,  0.0531,  0.0505,  0.0670],\n",
       "         [-0.0781,  0.0838, -0.0128,  ..., -0.0214, -0.0839, -0.0436],\n",
       "         [ 0.0263, -0.0655,  0.0281,  ..., -0.0274,  0.0694, -0.0610]],\n",
       "        requires_grad=True), Parameter containing:\n",
       " tensor([-0.0017, -0.0687, -0.0604,  0.0155, -0.0181, -0.0133,  0.0014,  0.0279,\n",
       "         -0.0001, -0.0275], requires_grad=True)]"
      ]
     },
     "execution_count": 39,
     "metadata": {
      "tags": []
     },
     "output_type": "execute_result"
    }
   ],
   "source": [
    "list(model.parameters())"
   ]
  },
  {
   "cell_type": "code",
   "execution_count": 40,
   "metadata": {
    "id": "0-MvdNjHWQVK"
   },
   "outputs": [],
   "source": [
    "def train_logistic_regression(model, criterion, optimizer, train_dataloader, test_dataloader):\n",
    "    \n",
    "    train_loss_log = []\n",
    "    train_acc_log = []\n",
    "    val_loss_log = []\n",
    "    val_acc_log = []\n",
    "    train_epoch_loss = []\n",
    "    train_epoch_acc = []\n",
    "\n",
    "    for epoch in tq.tqdm(range(100)):\n",
    "        model.train()\n",
    "        train_loss = 0.\n",
    "        train_size = 0\n",
    "        train_acc = 0.\n",
    "      \n",
    "        for batch in train_dataloader:\n",
    "            \n",
    "            optimizer.zero_grad()\n",
    "            imgs, labels = batch\n",
    "            imgs = imgs.reshape(-1, 784) #вытягиваем квартинки из двумерных матриц в один длинный тензор с пикселями\n",
    "            y_pred = torch.softmax(model(imgs), dim = -1) #делаем предсказания и переводим их в вероятности\n",
    "            loss = criterion(y_pred, labels) #считаем лосс\n",
    "           \n",
    "            train_loss += loss.item()\n",
    "            train_size += y_pred.size(0)\n",
    "            train_loss_log.append(loss.data) #запоминаем лосс на этом батче \n",
    "            \n",
    "            loss.backward()\n",
    "            _, pred_classes = torch.max(y_pred, 1)\n",
    "            train_acc += (pred_classes == labels).sum().item() #считаем число верных ответов\n",
    "            train_acc_log.append(torch.sum(pred_classes == labels).item() / len(pred_classes)) #запоминаем accuracy на этом батче\n",
    "             \n",
    "            optimizer.step() #обновляем веса\n",
    "            \n",
    "        \n",
    "        \n",
    "        model.eval() \n",
    "        val_loss = []\n",
    "        val_acc = [] \n",
    "        with torch.no_grad(): \n",
    "            for batch in test_dataloader:\n",
    "                imgs, labels = batch\n",
    "                imgs = imgs.reshape(-1, 784)\n",
    "                pred = torch.softmax(model(imgs), dim = -1) \n",
    "                loss = criterion(pred, labels)\n",
    "                val_loss.append(loss.item())\n",
    "                _, pred_classes = torch.max(pred, 1)\n",
    "                val_acc.append((pred_classes == labels).sum().item() / len(pred_classes))\n",
    "        val_loss_log.append(np.mean(val_loss)) #для тестовой выборки и запоминаю метрики по эпохам, а не по итерациям\n",
    "        val_acc_log.append(np.mean(val_acc)) #для этого берем среднее от всех метрик на батче, а потом на новой эпохе перезадем словари val_loaa & val_acc\n",
    "        \n",
    "    return train_loss_log, train_acc_log, val_loss_log, val_acc_log\n"
   ]
  },
  {
   "cell_type": "code",
   "execution_count": 41,
   "metadata": {
    "colab": {
     "base_uri": "https://localhost:8080/",
     "height": 65,
     "referenced_widgets": [
      "eb0a3331632045fe8be65d21b54f1355",
      "19c3b554fcf14a08839b540d5e431521",
      "ff73fa5593154c74927b157a4349a592",
      "d1218d23122946299a1513d357aefad6",
      "b6b95f1623054799ba8e8a80abd8a587",
      "c998664ab8264676b9aaaec172d3d904",
      "e2137d336f764be0937935c36724de6b",
      "51838218d65a4fccaa6786655ec09978"
     ]
    },
    "id": "ykBhfPFTWQVN",
    "outputId": "9411f253-9d4d-4e93-c49b-b88ab90e7cc9"
   },
   "outputs": [
    {
     "data": {
      "application/vnd.jupyter.widget-view+json": {
       "model_id": "eb0a3331632045fe8be65d21b54f1355",
       "version_major": 2,
       "version_minor": 0
      },
      "text/plain": [
       "HBox(children=(FloatProgress(value=0.0), HTML(value='')))"
      ]
     },
     "metadata": {
      "tags": []
     },
     "output_type": "display_data"
    },
    {
     "name": "stdout",
     "output_type": "stream",
     "text": [
      "\n"
     ]
    }
   ],
   "source": [
    "optimizer = torch.optim.Adam(model.parameters())\n",
    "metrics = train_logistic_regression(model, criterion, optimizer, train_dataloader, eval_dataloader)"
   ]
  },
  {
   "cell_type": "code",
   "execution_count": 42,
   "metadata": {
    "id": "qSwMuXgOMKF8"
   },
   "outputs": [],
   "source": [
    "loss_train, accuracy_train, loss_test, acc_test = metrics "
   ]
  },
  {
   "cell_type": "code",
   "execution_count": 43,
   "metadata": {
    "id": "rlJtEkeC4zej"
   },
   "outputs": [],
   "source": [
    "def plot_history(train_history, val_history, title, size):\n",
    "    plt.figure(figsize=size) #здесь я сделала побольше размер картинок, так как очень много эпох \n",
    "    plt.title('{}'.format(title))\n",
    "    plt.plot(train_history, label='train', zorder=1)\n",
    "    \n",
    "    points = np.array(val_history)\n",
    "    steps = list(range(0, len(train_history) + 1, int(len(train_history) / len(val_history))))[1:]\n",
    "    \n",
    "    plt.scatter(steps, val_history, marker='+', s=180, c='orange', label='val', zorder=2)\n",
    "    plt.xlabel('train steps')\n",
    "    \n",
    "    plt.legend(loc='best')\n",
    "    plt.grid()\n",
    "\n",
    "    plt.show()"
   ]
  },
  {
   "cell_type": "code",
   "execution_count": 44,
   "metadata": {
    "colab": {
     "base_uri": "https://localhost:8080/",
     "height": 621
    },
    "id": "9THkxajWWQVR",
    "outputId": "a9d84f6e-3020-4b8e-e028-011c73c5348b"
   },
   "outputs": [
    {
     "data": {
      "image/png": "[encoded data removed]",
      "text/plain": [
       "<Figure size 1440x720 with 1 Axes>"
      ]
     },
     "metadata": {
      "needs_background": "light",
      "tags": []
     },
     "output_type": "display_data"
    }
   ],
   "source": [
    "plot_history(loss_train, loss_test, \"loss\", (20,10))"
   ]
  },
  {
   "cell_type": "code",
   "execution_count": 45,
   "metadata": {
    "colab": {
     "base_uri": "https://localhost:8080/",
     "height": 621
    },
    "id": "AnqYh2Ls5EFc",
    "outputId": "abbc0854-81da-4349-bcdf-3726656a8e91"
   },
   "outputs": [
    {
     "data": {
      "image/png": "[encoded data removed]",
      "text/plain": [
       "<Figure size 1440x720 with 1 Axes>"
      ]
     },
     "metadata": {
      "needs_background": "light",
      "tags": []
     },
     "output_type": "display_data"
    }
   ],
   "source": [
    "plot_history(accuracy_train, acc_test, \"accuracy\", (20, 10))"
   ]
  },
  {
   "cell_type": "markdown",
   "metadata": {
    "id": "puapSwgqWQVd"
   },
   "source": [
    "#### Вопросы к секции: \n",
    "\n",
    "* Своими словами и без математики объясните благодаря чему Adam дает несмещенную оценку на квадрат градиента\n",
    "* Когда модель начала переобучаться? Как вы это поняли? Сделайте визуализацию и докажите свою точку зрения."
   ]
  },
  {
   "cell_type": "markdown",
   "metadata": {
    "id": "4VqDe496fVBc"
   },
   "source": [
    "1) По сути это обеспечивается за счет деления элемента v (который накапливает квадраты градиентов) на (1 - бета2^t). Для того, чтоб оценка была несмещенной, нам необходимо, чтобы математическое ожидание оценки было равно математическому ожиданию квадрата градиента. Если мы распишем математическое ожидание от v, оно будет равняться математическому ожиданию квадрата градиента * (1 - бета2) * сумма бета2t.  Последние два элемента по сути представлюят собой геометрическую прогрессию, которую можно выразить как раз через 1 - бета2t. Соответственно, матожидание v = матожидание квадрата градиентов * (1 - бета2t). Тогда нам остается только разделить v на этот элемент, чтоб получит несмещенную оценку, тогда матожидания сравняются (в формуле, которая нам дана выше – математическое ожидание v_hat будет равно математическому ожиданию квадрата градиентов). Тогда при этом делении мы и можем получить несмещенные оценки на квадрат градиента. Извините если много математики, хз как по-другому объяснить... "
   ]
  },
  {
   "cell_type": "markdown",
   "metadata": {
    "id": "hwcthFAaoAWd"
   },
   "source": [
    "2) "
   ]
  },
  {
   "cell_type": "markdown",
   "metadata": {
    "id": "-m19m6M4kKHf"
   },
   "source": [
    "Как мы видим, самое большое значение accuracy на тестировании получается не на последней эпохе обучения. То есть после определенного шага модель скорее всего начала переобучаться, и качество на тесте начало понижаться. Качество не то чтобы сильно падает к концу обучения, но значения начинают скакать в небольшом диапазоне. С этого момента модель больше \"не улучшается\". Скорее всего, если бы мы добавили еще несколько эпох (условно, 150), качество бы уже начало существенно падать. Также видно, что лосс со временем перестает значимым образом убывать. После этого он колеблется около какой-то константы, заметно, что он даже немного наинчает расти на последних значениях. В общем и целом, лосс и accuracy сначала изменяются значимым образом и модель обучается, а дальше они почти не сдвигаются. Тогда модель модель начинает просто подгоняться под данные, веса уже не меняются существенным образом. С течением времени мы бы заметили, что модель скорее запоминает тренировочную выборку, нежели учится делать хорошие предсказания. "
   ]
  },
  {
   "cell_type": "markdown",
   "metadata": {
    "id": "A_-2knkOWQVe"
   },
   "source": [
    "### Моя первая нейросеть (4 балла)"
   ]
  },
  {
   "cell_type": "markdown",
   "metadata": {
    "id": "BK46jUhYWQVe"
   },
   "source": [
    "В данной секции вам нужно сделать следующие вещи: \n",
    "\n",
    "* Реализовать три разных архитектуры нейросетей. Эти архитектуры должны принципиально отличаться друг от друга. Разрешается одной из архитекур брать полностью полносвязную модель. Остальные две должны быть сверточными и сильно отличаться друг от друга. К примеру, одна из таких архитектур может быть VGG подобная сеть, а другая ResNet подобная архитектура. \n",
    "\n",
    "* Написать цикл для обучения которым можно обучать все три модели без изменений кода\n",
    "\n",
    "* Попробовать каждую модель с двумя оптимизаторами: RMSprop и SGD with momentum\n",
    "\n",
    "* Визуализировать результаты перфоманса каждой модели (две метрики минимум для каждого сетапа, например, лосс и долю правильных ответов). В данном пункте мы ждем от вас визуализацию зависимости метрики от номера итерации обучения.\n",
    "\n",
    "* Сделать выводы какие были модели были лучше и как вы думаете почему?"
   ]
  },
  {
   "cell_type": "code",
   "execution_count": 49,
   "metadata": {
    "id": "XocIxe1gWQVf"
   },
   "outputs": [],
   "source": [
    "def train_model(model, num_epochs, train_dataloader, test_dataloader, optimizer):\n",
    "    train_loss_log = []\n",
    "    train_acc_log = []\n",
    "    val_loss_log = []\n",
    "    val_acc_log = []\n",
    "\n",
    "\n",
    "    for epoch in tq.tqdm(range(num_epochs)):\n",
    "        model.train()\n",
    "        train_loss = 0.\n",
    "        train_size = 0\n",
    "        train_acc = 0\n",
    "      \n",
    "        for batch in train_dataloader:\n",
    "        \n",
    "            imgs, labels = batch\n",
    "            optimizer.zero_grad() #зануляем градиенты\n",
    "            y_pred = model(imgs) #делаем предсказания и переводим их в вероятности\n",
    "            loss = criterion(y_pred, labels) #считаем лосс\n",
    "           \n",
    "            train_loss += loss.item()\n",
    "            train_size += y_pred.size(0)\n",
    "            train_loss_log.append(loss.data) #запоминаем лосс на этом батче \n",
    "            \n",
    "            loss.backward()\n",
    "            _, pred_classes = torch.max(y_pred, 1)\n",
    "            train_acc += (pred_classes == labels).sum().item()   #тут я запоминаю accuracy на батчах, чтоб потом вывести показатель по эпохе\n",
    "            train_acc_log.append(torch.sum(pred_classes == labels).item() / len(pred_classes)) #тут записываются все accuracy вообще\n",
    "             \n",
    "            optimizer.step() #обновляем веса\n",
    "            \n",
    "        \n",
    "        \n",
    "        model.eval() \n",
    "        val_loss = []\n",
    "        val_acc = [] \n",
    "        with torch.no_grad(): \n",
    "            for batch in test_dataloader:\n",
    "                imgs, labels = batch\n",
    "                pred = model(imgs)\n",
    "                loss = criterion(pred, labels)\n",
    "                val_loss.append(loss.item())\n",
    "                _, pred_classes = torch.max(pred, 1)\n",
    "                val_acc.append((pred_classes == labels).sum().item() / len(pred_classes))\n",
    "        val_loss_log.append(np.mean(val_loss)) #для тестовой выборки и запоминаю метрики по эпохам, а не по итерациям\n",
    "        val_acc_log.append(np.mean(val_acc)) #для этого берем среднее от всех метрик на батче, а потом на новой эпохе перезадем словари val_loaa & val_acc\n",
    "\n",
    "        print(f\"Epoch: {epoch}, Train Loss: {train_loss/len(train_dataloader)}, Train Accuracy: {train_acc/train_size}, Test Loss: {val_loss_log[epoch]}, Test Accuracy: {val_acc_log[epoch]}  \")\n",
    "    #строка выше выводит средние по эпохам для трейна и теста \n",
    "    return train_loss_log, train_acc_log, val_loss_log, val_acc_log\n"
   ]
  },
  {
   "cell_type": "code",
   "execution_count": 50,
   "metadata": {
    "id": "_gQNb2oWWQVg"
   },
   "outputs": [],
   "source": [
    "class FirstModel(nn.Module): #это будет простая полносвязная сеточка \n",
    "    def __init__(self):\n",
    "        super(FirstModel, self).__init__()\n",
    "        self.Flatten = nn.Flatten()\n",
    "        self.fc1 = nn.Linear(784, 128)\n",
    "        self.fc2 = nn.Linear(128, 64)\n",
    "        self.fc3 = nn.Linear(64, 10)\n",
    "        self.ReLu = nn.ReLU()\n",
    "        self.probs = nn.Softmax(dim = -1)\n",
    "\n",
    "    def forward(self, x):\n",
    "        x = self.Flatten(x)\n",
    "        x = self.fc1(x)\n",
    "        x = self.ReLu(x)\n",
    "        x = self.fc2(x)\n",
    "        x = self.ReLu(x)\n",
    "        x = self.fc3(x)\n",
    "        x = self.probs(x)\n",
    "\n",
    "        return x\n",
    "\n",
    "First_model = FirstModel()"
   ]
  },
  {
   "cell_type": "code",
   "execution_count": 51,
   "metadata": {
    "colab": {
     "base_uri": "https://localhost:8080/",
     "height": 715,
     "referenced_widgets": [
      "bdb5b71eaca64e5e98972a7f962d3194",
      "8565b01b4a324e54b29d36ca07d36db3",
      "ea97fa95436b49b4a0e16d60cea9696c",
      "87ee326fba7b497faed479f11e64db71",
      "ac9026f3f23e436c854018ae1de43a42",
      "e6d36648d3694c039e9810061a6a445d",
      "932b2a689534441bb3a677b20619ea03",
      "8a36105af1dc4197817b2024c24fc09d"
     ]
    },
    "id": "4bEdL8WYWQVm",
    "outputId": "3012ffce-6273-4600-9f3a-310d465f3acd"
   },
   "outputs": [
    {
     "data": {
      "application/vnd.jupyter.widget-view+json": {
       "model_id": "bdb5b71eaca64e5e98972a7f962d3194",
       "version_major": 2,
       "version_minor": 0
      },
      "text/plain": [
       "HBox(children=(FloatProgress(value=0.0, max=40.0), HTML(value='')))"
      ]
     },
     "metadata": {
      "tags": []
     },
     "output_type": "display_data"
    },
    {
     "name": "stdout",
     "output_type": "stream",
     "text": [
      "Epoch: 0, Train Loss: 2.300689087747765, Train Accuracy: 0.11346666666666666, Test Loss: 2.298082077050511, Test Accuracy: 0.16693037974683544  \n",
      "Epoch: 1, Train Loss: 2.2944018296849755, Train Accuracy: 0.2201, Test Loss: 2.2902263840542565, Test Accuracy: 0.2587025316455696  \n",
      "Epoch: 2, Train Loss: 2.2838390397110473, Train Accuracy: 0.2977666666666667, Test Loss: 2.275955764553215, Test Accuracy: 0.3471123417721519  \n",
      "Epoch: 3, Train Loss: 2.262460821473014, Train Accuracy: 0.32675, Test Loss: 2.2446719996536832, Test Accuracy: 0.30666534810126583  \n",
      "Epoch: 4, Train Loss: 2.210814701214528, Train Accuracy: 0.29735, Test Loss: 2.168885252143763, Test Accuracy: 0.33989319620253167  \n",
      "Epoch: 5, Train Loss: 2.1274321114839014, Train Accuracy: 0.35781666666666667, Test Loss: 2.091697750212271, Test Accuracy: 0.3692642405063291  \n",
      "Epoch: 6, Train Loss: 2.054805165414871, Train Accuracy: 0.4433, Test Loss: 2.018173969244655, Test Accuracy: 0.49861550632911394  \n",
      "Epoch: 7, Train Loss: 1.9723071909662504, Train Accuracy: 0.5869833333333333, Test Loss: 1.9305150508880615, Test Accuracy: 0.6120450949367089  \n",
      "Epoch: 8, Train Loss: 1.896315601842998, Train Accuracy: 0.6397166666666667, Test Loss: 1.8754250973085813, Test Accuracy: 0.6350870253164557  \n",
      "Epoch: 9, Train Loss: 1.856789996883254, Train Accuracy: 0.66095, Test Loss: 1.8476338084739974, Test Accuracy: 0.6621835443037974  \n",
      "Epoch: 10, Train Loss: 1.8334896643278695, Train Accuracy: 0.6692833333333333, Test Loss: 1.8294461829752862, Test Accuracy: 0.6677215189873418  \n",
      "Epoch: 11, Train Loss: 1.8170236392316026, Train Accuracy: 0.6752, Test Loss: 1.8153146867510639, Test Accuracy: 0.6730617088607594  \n",
      "Epoch: 12, Train Loss: 1.8042965682584848, Train Accuracy: 0.6797666666666666, Test Loss: 1.8048750237573552, Test Accuracy: 0.6753362341772152  \n",
      "Epoch: 13, Train Loss: 1.7938253150057437, Train Accuracy: 0.6832333333333334, Test Loss: 1.7944455931458292, Test Accuracy: 0.6807753164556962  \n",
      "Epoch: 14, Train Loss: 1.7848289399258872, Train Accuracy: 0.6892666666666667, Test Loss: 1.786374928076056, Test Accuracy: 0.6867088607594937  \n",
      "Epoch: 15, Train Loss: 1.776420748564226, Train Accuracy: 0.69875, Test Loss: 1.777872250049929, Test Accuracy: 0.6990704113924051  \n",
      "Epoch: 16, Train Loss: 1.767961481232633, Train Accuracy: 0.71205, Test Loss: 1.769413303725327, Test Accuracy: 0.7149920886075949  \n",
      "Epoch: 17, Train Loss: 1.7590127237824236, Train Accuracy: 0.7269833333333333, Test Loss: 1.7601366314706923, Test Accuracy: 0.7286392405063291  \n",
      "Epoch: 18, Train Loss: 1.7499446454587013, Train Accuracy: 0.7405833333333334, Test Loss: 1.7513442265836499, Test Accuracy: 0.7427808544303798  \n",
      "Epoch: 19, Train Loss: 1.7412371904865256, Train Accuracy: 0.7506666666666667, Test Loss: 1.74288532401942, Test Accuracy: 0.7505933544303798  \n",
      "Epoch: 20, Train Loss: 1.733172247404737, Train Accuracy: 0.7580333333333333, Test Loss: 1.7349137943002242, Test Accuracy: 0.756131329113924  \n",
      "Epoch: 21, Train Loss: 1.7258927456097308, Train Accuracy: 0.7637333333333334, Test Loss: 1.7282858573937718, Test Accuracy: 0.760185917721519  \n",
      "Epoch: 22, Train Loss: 1.7196352654682803, Train Accuracy: 0.7678166666666667, Test Loss: 1.7231013322178321, Test Accuracy: 0.7635482594936709  \n",
      "Epoch: 23, Train Loss: 1.714158471205087, Train Accuracy: 0.77135, Test Loss: 1.7177512555182735, Test Accuracy: 0.7669106012658228  \n",
      "Epoch: 24, Train Loss: 1.709461648326947, Train Accuracy: 0.7744666666666666, Test Loss: 1.7135036927235276, Test Accuracy: 0.7683939873417721  \n",
      "Epoch: 25, Train Loss: 1.7054291823779597, Train Accuracy: 0.7759333333333334, Test Loss: 1.7096737909920607, Test Accuracy: 0.7723496835443038  \n",
      "Epoch: 26, Train Loss: 1.7018051963371, Train Accuracy: 0.77855, Test Loss: 1.7060516303098654, Test Accuracy: 0.7739319620253164  \n",
      "Epoch: 27, Train Loss: 1.6985930344189153, Train Accuracy: 0.7799333333333334, Test Loss: 1.7033357786226877, Test Accuracy: 0.775118670886076  \n",
      "Epoch: 28, Train Loss: 1.6957461310348023, Train Accuracy: 0.7819833333333334, Test Loss: 1.7007715883134287, Test Accuracy: 0.776503164556962  \n",
      "Epoch: 29, Train Loss: 1.6931328059259507, Train Accuracy: 0.7835666666666666, Test Loss: 1.698221283622935, Test Accuracy: 0.7772943037974683  \n",
      "Epoch: 30, Train Loss: 1.6909255160451697, Train Accuracy: 0.7847666666666666, Test Loss: 1.6960763946364197, Test Accuracy: 0.7783821202531646  \n",
      "Epoch: 31, Train Loss: 1.6887087824502225, Train Accuracy: 0.7866833333333333, Test Loss: 1.6941565154473992, Test Accuracy: 0.7794699367088608  \n",
      "Epoch: 32, Train Loss: 1.686779902942145, Train Accuracy: 0.78775, Test Loss: 1.6932868021952956, Test Accuracy: 0.7799643987341772  \n",
      "Epoch: 33, Train Loss: 1.6848795126750271, Train Accuracy: 0.7889333333333334, Test Loss: 1.69088891789883, Test Accuracy: 0.7807555379746836  \n",
      "Epoch: 34, Train Loss: 1.6832163621113498, Train Accuracy: 0.7903, Test Loss: 1.6891581544393226, Test Accuracy: 0.7831289556962026  \n",
      "Epoch: 35, Train Loss: 1.6816838461198786, Train Accuracy: 0.7912833333333333, Test Loss: 1.6878137090538121, Test Accuracy: 0.7834256329113924  \n",
      "Epoch: 36, Train Loss: 1.6802283998237235, Train Accuracy: 0.7921333333333334, Test Loss: 1.686847971964486, Test Accuracy: 0.7835245253164557  \n",
      "Epoch: 37, Train Loss: 1.678758802952797, Train Accuracy: 0.7937666666666666, Test Loss: 1.6846402536464642, Test Accuracy: 0.7860957278481012  \n",
      "Epoch: 38, Train Loss: 1.677478157381005, Train Accuracy: 0.7949666666666667, Test Loss: 1.6834679298763033, Test Accuracy: 0.786689082278481  \n",
      "Epoch: 39, Train Loss: 1.676280770220482, Train Accuracy: 0.7958166666666666, Test Loss: 1.682385396353806, Test Accuracy: 0.7868868670886076  \n",
      "\n"
     ]
    }
   ],
   "source": [
    "first_SGD = train_model(\n",
    "    model=First_model,\n",
    "    num_epochs=40, #я сделала число эпох побольше, потому что часто модель недообучалась \n",
    "    train_dataloader=train_dataloader,\n",
    "    test_dataloader=eval_dataloader,\n",
    "    optimizer=torch.optim.SGD(First_model.parameters(), lr=0.01)) #LR увеличила, так как иначе очень долго сходилось "
   ]
  },
  {
   "cell_type": "code",
   "execution_count": 52,
   "metadata": {
    "id": "7uIqmKl1rF7G"
   },
   "outputs": [],
   "source": [
    "FMtrain_loss, FMtrain_acc, FMval_loss, FMval_acc = first_SGD"
   ]
  },
  {
   "cell_type": "code",
   "execution_count": 53,
   "metadata": {
    "colab": {
     "base_uri": "https://localhost:8080/",
     "height": 350
    },
    "id": "7rq08iDzqzVl",
    "outputId": "0d41ce75-f87d-45c8-e400-92528aee3465"
   },
   "outputs": [
    {
     "data": {
      "image/png": "[encoded data removed]",
      "text/plain": [
       "<Figure size 360x360 with 1 Axes>"
      ]
     },
     "metadata": {
      "needs_background": "light",
      "tags": []
     },
     "output_type": "display_data"
    }
   ],
   "source": [
    "plot_history(FMtrain_loss, FMval_loss, \"SGD loss\", (5, 5))"
   ]
  },
  {
   "cell_type": "code",
   "execution_count": 54,
   "metadata": {
    "colab": {
     "base_uri": "https://localhost:8080/",
     "height": 350
    },
    "id": "R_DoQemh8Mk9",
    "outputId": "cc04bb6b-85c6-4774-bcfb-e5a71569582e"
   },
   "outputs": [
    {
     "data": {
      "image/png": "[encoded data removed]",
      "text/plain": [
       "<Figure size 360x360 with 1 Axes>"
      ]
     },
     "metadata": {
      "needs_background": "light",
      "tags": []
     },
     "output_type": "display_data"
    }
   ],
   "source": [
    "plot_history(FMtrain_acc, FMval_acc, \"SGD accuracy\", (5, 5))"
   ]
  },
  {
   "cell_type": "code",
   "execution_count": 55,
   "metadata": {
    "id": "bbyUO7O7L3Uz"
   },
   "outputs": [],
   "source": [
    "class FirstModel(nn.Module): #снова инициализирую модель, чтобы начать обучение заново (иначе он часто начинает дообучивать то, что уже обучено, так что я на всякий задаю класс опять)\n",
    "    def __init__(self):\n",
    "        super(FirstModel, self).__init__()\n",
    "        self.Flatten = nn.Flatten()\n",
    "        self.fc1 = nn.Linear(784, 128)\n",
    "        self.fc2 = nn.Linear(128, 64)\n",
    "        self.fc3 = nn.Linear(64, 10)\n",
    "        self.ReLu = nn.ReLU()\n",
    "        self.probs = nn.Softmax(dim = -1)\n",
    "\n",
    "    def forward(self, x):\n",
    "        x = self.Flatten(x)\n",
    "        x = self.fc1(x)\n",
    "        x = self.ReLu(x)\n",
    "        x = self.fc2(x)\n",
    "        x = self.ReLu(x)\n",
    "        x = self.fc3(x)\n",
    "        x = self.probs(x)\n",
    "\n",
    "        return x\n",
    "\n",
    "First_model = FirstModel() "
   ]
  },
  {
   "cell_type": "code",
   "execution_count": 56,
   "metadata": {
    "colab": {
     "base_uri": "https://localhost:8080/",
     "height": 308,
     "referenced_widgets": [
      "65a135725dc04b45b1aa0a4ecb79028c",
      "074a3d2d234c476c9de6dd87fb17d23d",
      "3024930534db4a94bbfa70282bc8f0ea",
      "1cd79d30ba4b4adebb8eae809f2a3969",
      "d4db91c25b264519b9f4a2ddd08359fb",
      "4bf0182a419c429fa8abd51953390f13",
      "6a44a42a20194b01a094a26b1bd2b119",
      "c27e2f844c124bd98e810e669f48515a"
     ]
    },
    "id": "V6mmkXX-vbxy",
    "outputId": "57e23490-2049-4ff1-b04f-5906bbd94531"
   },
   "outputs": [
    {
     "data": {
      "application/vnd.jupyter.widget-view+json": {
       "model_id": "65a135725dc04b45b1aa0a4ecb79028c",
       "version_major": 2,
       "version_minor": 0
      },
      "text/plain": [
       "HBox(children=(FloatProgress(value=0.0, max=15.0), HTML(value='')))"
      ]
     },
     "metadata": {
      "tags": []
     },
     "output_type": "display_data"
    },
    {
     "name": "stdout",
     "output_type": "stream",
     "text": [
      "Epoch: 0, Train Loss: 1.9071008279633674, Train Accuracy: 0.5997, Test Loss: 1.8225831789306448, Test Accuracy: 0.6556566455696202  \n",
      "Epoch: 1, Train Loss: 1.7790320938838315, Train Accuracy: 0.7120333333333333, Test Loss: 1.7527010350287715, Test Accuracy: 0.7352650316455697  \n",
      "Epoch: 2, Train Loss: 1.7322714298264559, Train Accuracy: 0.7516666666666667, Test Loss: 1.726203969762295, Test Accuracy: 0.7508900316455697  \n",
      "Epoch: 3, Train Loss: 1.7131513148736852, Train Accuracy: 0.7631666666666667, Test Loss: 1.7146078710314594, Test Accuracy: 0.7578125  \n",
      "Epoch: 4, Train Loss: 1.7018677537629345, Train Accuracy: 0.7701833333333333, Test Loss: 1.7043780737285372, Test Accuracy: 0.7654272151898734  \n",
      "Epoch: 5, Train Loss: 1.6937363620505912, Train Accuracy: 0.7775333333333333, Test Loss: 1.699662623526175, Test Accuracy: 0.7702729430379747  \n",
      "Epoch: 6, Train Loss: 1.688001944057977, Train Accuracy: 0.7814166666666666, Test Loss: 1.6927832787549948, Test Accuracy: 0.775118670886076  \n",
      "Epoch: 7, Train Loss: 1.683176537566602, Train Accuracy: 0.7859, Test Loss: 1.6889760237705858, Test Accuracy: 0.7772943037974683  \n",
      "Epoch: 8, Train Loss: 1.6796116986508562, Train Accuracy: 0.7887666666666666, Test Loss: 1.6864987370334095, Test Accuracy: 0.7790743670886076  \n",
      "Epoch: 9, Train Loss: 1.6764093584089137, Train Accuracy: 0.79135, Test Loss: 1.6861004633239554, Test Accuracy: 0.7808544303797469  \n",
      "Epoch: 10, Train Loss: 1.6735588551075982, Train Accuracy: 0.7943, Test Loss: 1.6818127451063711, Test Accuracy: 0.784315664556962  \n",
      "Epoch: 11, Train Loss: 1.6717686642970104, Train Accuracy: 0.79525, Test Loss: 1.6825830951521668, Test Accuracy: 0.7842167721518988  \n",
      "Epoch: 12, Train Loss: 1.6696843292667414, Train Accuracy: 0.79695, Test Loss: 1.6913539970977396, Test Accuracy: 0.772745253164557  \n",
      "Epoch: 13, Train Loss: 1.668098387941877, Train Accuracy: 0.7983666666666667, Test Loss: 1.6778507715539088, Test Accuracy: 0.7870846518987342  \n",
      "Epoch: 14, Train Loss: 1.6663289032002757, Train Accuracy: 0.7990833333333334, Test Loss: 1.6757266943967795, Test Accuracy: 0.789754746835443  \n",
      "\n"
     ]
    }
   ],
   "source": [
    "first_RMS = train_model(\n",
    "    model=First_model,\n",
    "    num_epochs=15, #меньше число эпох, так как обучается он очень быстро \n",
    "    train_dataloader=train_dataloader,\n",
    "    test_dataloader=eval_dataloader,\n",
    "    optimizer = torch.optim.RMSprop(First_model.parameters(), lr = 0.0001, alpha=0.99)) #сделала поменьше lr на всякий случай, чтоб не переобучиться  "
   ]
  },
  {
   "cell_type": "code",
   "execution_count": 57,
   "metadata": {
    "id": "qdw8MeacNpWP"
   },
   "outputs": [],
   "source": [
    "RMSFMtrain_loss, RMSFMtrain_acc, RMSFMval_loss, RMSFMval_acc = first_RMS"
   ]
  },
  {
   "cell_type": "code",
   "execution_count": 58,
   "metadata": {
    "colab": {
     "base_uri": "https://localhost:8080/",
     "height": 350
    },
    "id": "-U71eRGJOGWR",
    "outputId": "47ec312c-14eb-49ce-c89d-314d5d6b5125"
   },
   "outputs": [
    {
     "data": {
      "image/png": "[encoded data removed]",
      "text/plain": [
       "<Figure size 360x360 with 1 Axes>"
      ]
     },
     "metadata": {
      "needs_background": "light",
      "tags": []
     },
     "output_type": "display_data"
    }
   ],
   "source": [
    "plot_history(RMSFMtrain_loss, RMSFMval_loss, \"RMSprop loss\", (5, 5))"
   ]
  },
  {
   "cell_type": "code",
   "execution_count": 59,
   "metadata": {
    "colab": {
     "base_uri": "https://localhost:8080/",
     "height": 350
    },
    "id": "4yzw7u3LZ15j",
    "outputId": "fddac5d2-60e9-46f3-fa4d-1db081e1dbd4"
   },
   "outputs": [
    {
     "data": {
      "image/png": "[encoded data removed]",
      "text/plain": [
       "<Figure size 360x360 with 1 Axes>"
      ]
     },
     "metadata": {
      "needs_background": "light",
      "tags": []
     },
     "output_type": "display_data"
    }
   ],
   "source": [
    "plot_history(RMSFMtrain_acc, RMSFMval_acc, \"RMSprop accuracy\", (5, 5))"
   ]
  },
  {
   "cell_type": "code",
   "execution_count": 60,
   "metadata": {
    "id": "ckgjhRzRWQVj"
   },
   "outputs": [],
   "source": [
    "second_model = nn.Sequential(\n",
    "    nn.Conv2d(1, 6, 3, padding = 1), #входной канал равен 1, так как у нас картинка черно-белая\n",
    "    nn.ReLU(),\n",
    "    nn.MaxPool2d((2,2)),\n",
    "    nn.Conv2d(6, 16, 3, padding = 1),\n",
    "    nn.ReLU(),\n",
    "    nn.MaxPool2d((2,2)),\n",
    "    nn.Flatten(),\n",
    "    nn.Linear(784, 128),\n",
    "    nn.ReLU(), \n",
    "    nn.Linear(128, 10),\n",
    "    nn.Softmax(dim=-1) \n",
    "  \n",
    "    \n",
    ") #это что-то вроде VGG-модели – здесь я беру очень мелкие свертки, вставляю их между пулингами "
   ]
  },
  {
   "cell_type": "code",
   "execution_count": 61,
   "metadata": {
    "id": "HoA4Ch9Tn7_U"
   },
   "outputs": [],
   "source": [
    "device = torch.device(\"cuda:0\" if torch.cuda.is_available() else \"cpu\")"
   ]
  },
  {
   "cell_type": "code",
   "execution_count": 62,
   "metadata": {
    "colab": {
     "base_uri": "https://localhost:8080/"
    },
    "id": "vCrW-jMHpKpO",
    "outputId": "e7be8c71-28b0-4de1-e41b-cff479d84f53"
   },
   "outputs": [
    {
     "data": {
      "text/plain": [
       "Sequential(\n",
       "  (0): Conv2d(1, 6, kernel_size=(3, 3), stride=(1, 1), padding=(1, 1))\n",
       "  (1): ReLU()\n",
       "  (2): MaxPool2d(kernel_size=(2, 2), stride=(2, 2), padding=0, dilation=1, ceil_mode=False)\n",
       "  (3): Conv2d(6, 16, kernel_size=(3, 3), stride=(1, 1), padding=(1, 1))\n",
       "  (4): ReLU()\n",
       "  (5): MaxPool2d(kernel_size=(2, 2), stride=(2, 2), padding=0, dilation=1, ceil_mode=False)\n",
       "  (6): Flatten()\n",
       "  (7): Linear(in_features=784, out_features=128, bias=True)\n",
       "  (8): ReLU()\n",
       "  (9): Linear(in_features=128, out_features=10, bias=True)\n",
       "  (10): Softmax(dim=-1)\n",
       ")"
      ]
     },
     "execution_count": 62,
     "metadata": {
      "tags": []
     },
     "output_type": "execute_result"
    }
   ],
   "source": [
    "second_model.to(device)"
   ]
  },
  {
   "cell_type": "code",
   "execution_count": 63,
   "metadata": {
    "id": "RJywtJZ2ooSY"
   },
   "outputs": [],
   "source": [
    "for i in train_dataloader: \n",
    "  break "
   ]
  },
  {
   "cell_type": "code",
   "execution_count": 64,
   "metadata": {
    "colab": {
     "base_uri": "https://localhost:8080/"
    },
    "id": "2OAw3CvIoZMt",
    "outputId": "8e9f0e75-f263-46eb-b6d0-c22ad14eec27"
   },
   "outputs": [
    {
     "data": {
      "text/plain": [
       "torch.Size([128, 1, 28, 28])"
      ]
     },
     "execution_count": 64,
     "metadata": {
      "tags": []
     },
     "output_type": "execute_result"
    }
   ],
   "source": [
    "i[0].shape"
   ]
  },
  {
   "cell_type": "code",
   "execution_count": 65,
   "metadata": {
    "colab": {
     "base_uri": "https://localhost:8080/"
    },
    "id": "vbTa-yIGn0LH",
    "outputId": "83321dbf-c916-4a22-e257-f1cfd3fc8a5f"
   },
   "outputs": [
    {
     "data": {
      "text/plain": [
       "torch.Size([128, 10])"
      ]
     },
     "execution_count": 65,
     "metadata": {
      "tags": []
     },
     "output_type": "execute_result"
    }
   ],
   "source": [
    "a = second_model(i[0].to(device)) #код для проверки сколько нейронов поступит на выход flatten\n",
    "a.shape"
   ]
  },
  {
   "cell_type": "code",
   "execution_count": 66,
   "metadata": {
    "colab": {
     "base_uri": "https://localhost:8080/",
     "height": 308,
     "referenced_widgets": [
      "d6493a1e017645a7a05a774490976dc5",
      "e239335288aa4a7f944ac683a4135798",
      "6e8e0e93c57d40268016a8a5e36e4542",
      "84e76f2cf6dd4612a293c801ee058e51",
      "6fdece3ecf294b8d89870147219411c6",
      "3d5cc8f8b54a4164a088f859a75dcaea",
      "562a8ca477e24b4b8b105b22f7ef55f8",
      "a7e7f5671ab74bb49d322d2588580b85"
     ]
    },
    "id": "TiB5PeNhq9Zh",
    "outputId": "000cc5dd-a9f8-4ffb-99ef-97e04c0c55a4"
   },
   "outputs": [
    {
     "data": {
      "application/vnd.jupyter.widget-view+json": {
       "model_id": "d6493a1e017645a7a05a774490976dc5",
       "version_major": 2,
       "version_minor": 0
      },
      "text/plain": [
       "HBox(children=(FloatProgress(value=0.0, max=15.0), HTML(value='')))"
      ]
     },
     "metadata": {
      "tags": []
     },
     "output_type": "display_data"
    },
    {
     "name": "stdout",
     "output_type": "stream",
     "text": [
      "Epoch: 0, Train Loss: 2.3024247150177133, Train Accuracy: 0.07965, Test Loss: 2.3018215939968445, Test Accuracy: 0.1115506329113924  \n",
      "Epoch: 1, Train Loss: 2.3012845841552148, Train Accuracy: 0.11911666666666666, Test Loss: 2.300753756414486, Test Accuracy: 0.12480221518987342  \n",
      "Epoch: 2, Train Loss: 2.3000318571956937, Train Accuracy: 0.14478333333333335, Test Loss: 2.299231037308898, Test Accuracy: 0.15634889240506328  \n",
      "Epoch: 3, Train Loss: 2.2978881910157356, Train Accuracy: 0.15525, Test Loss: 2.296245843549318, Test Accuracy: 0.18097310126582278  \n",
      "Epoch: 4, Train Loss: 2.293085263482035, Train Accuracy: 0.20225, Test Loss: 2.2886396329614183, Test Accuracy: 0.236748417721519  \n",
      "Epoch: 5, Train Loss: 2.2737988419115926, Train Accuracy: 0.32766666666666666, Test Loss: 2.237248191350623, Test Accuracy: 0.4140625  \n",
      "Epoch: 6, Train Loss: 2.088736160223418, Train Accuracy: 0.45615, Test Loss: 1.9704343110700198, Test Accuracy: 0.542128164556962  \n",
      "Epoch: 7, Train Loss: 1.936108965355196, Train Accuracy: 0.5486833333333333, Test Loss: 1.905437019806874, Test Accuracy: 0.586629746835443  \n",
      "Epoch: 8, Train Loss: 1.86435930154471, Train Accuracy: 0.6260166666666667, Test Loss: 1.830890412572064, Test Accuracy: 0.661689082278481  \n",
      "Epoch: 9, Train Loss: 1.8093942192825936, Train Accuracy: 0.6774, Test Loss: 1.797970569586452, Test Accuracy: 0.6837420886075949  \n",
      "Epoch: 10, Train Loss: 1.7862245950109161, Train Accuracy: 0.6929333333333333, Test Loss: 1.7831541797782802, Test Accuracy: 0.6940268987341772  \n",
      "Epoch: 11, Train Loss: 1.7740852659953428, Train Accuracy: 0.70045, Test Loss: 1.7721535797360577, Test Accuracy: 0.6984770569620253  \n",
      "Epoch: 12, Train Loss: 1.7667220381023025, Train Accuracy: 0.70445, Test Loss: 1.7663045895250538, Test Accuracy: 0.7050039556962026  \n",
      "Epoch: 13, Train Loss: 1.761460090496901, Train Accuracy: 0.7081833333333334, Test Loss: 1.7609501216985002, Test Accuracy: 0.7077729430379747  \n",
      "Epoch: 14, Train Loss: 1.7573422816262316, Train Accuracy: 0.7106166666666667, Test Loss: 1.7567402577098412, Test Accuracy: 0.7114319620253164  \n",
      "\n"
     ]
    }
   ],
   "source": [
    "second_SGD = train_model(\n",
    "    model= second_model,\n",
    "    num_epochs=15, #поменьше эпох, потому что переобучается \n",
    "    train_dataloader=train_dataloader,\n",
    "    test_dataloader=eval_dataloader,\n",
    "    optimizer=torch.optim.SGD(second_model.parameters(), lr=0.01))"
   ]
  },
  {
   "cell_type": "code",
   "execution_count": 67,
   "metadata": {
    "id": "h-OraOYiwrCV"
   },
   "outputs": [],
   "source": [
    "SMtrain_loss, SMtrain_acc, SMval_loss, SMval_acc = second_SGD"
   ]
  },
  {
   "cell_type": "code",
   "execution_count": 68,
   "metadata": {
    "colab": {
     "base_uri": "https://localhost:8080/",
     "height": 350
    },
    "id": "dwN2Zjfiw1Rz",
    "outputId": "53b16179-b7c1-45dc-ffe3-e5ec9f07424b"
   },
   "outputs": [
    {
     "data": {
      "image/png": "[encoded data removed]",
      "text/plain": [
       "<Figure size 360x360 with 1 Axes>"
      ]
     },
     "metadata": {
      "needs_background": "light",
      "tags": []
     },
     "output_type": "display_data"
    }
   ],
   "source": [
    "plot_history(SMtrain_loss, SMval_loss, \"SGD loss\", (5, 5))"
   ]
  },
  {
   "cell_type": "code",
   "execution_count": 69,
   "metadata": {
    "colab": {
     "base_uri": "https://localhost:8080/",
     "height": 350
    },
    "id": "2MpSETikxBpF",
    "outputId": "33287c3d-5c22-4d27-efb8-6c6eec1fd6e8"
   },
   "outputs": [
    {
     "data": {
      "image/png": "[encoded data removed]",
      "text/plain": [
       "<Figure size 360x360 with 1 Axes>"
      ]
     },
     "metadata": {
      "needs_background": "light",
      "tags": []
     },
     "output_type": "display_data"
    }
   ],
   "source": [
    "plot_history(SMtrain_acc, SMval_acc, \"SGD accuracy\", (5, 5))"
   ]
  },
  {
   "cell_type": "code",
   "execution_count": 70,
   "metadata": {
    "id": "lKAGn0K9x_kt"
   },
   "outputs": [],
   "source": [
    "second_model = nn.Sequential(\n",
    "    nn.Conv2d(1, 6, 3, padding = 1), #тоже на всякий случай пересоздаю модель, чтобы не продолжить обучать старую\n",
    "    nn.ReLU(),\n",
    "    nn.MaxPool2d((2,2)),\n",
    "    nn.Conv2d(6, 16, 3, padding = 1),\n",
    "    nn.ReLU(),\n",
    "    nn.MaxPool2d((2,2)),\n",
    "    nn.Flatten(),\n",
    "    nn.Linear(784, 128),\n",
    "    nn.ReLU(), \n",
    "    nn.Linear(128, 10),\n",
    "    nn.Softmax(dim=-1) \n",
    "  \n",
    "    \n",
    ") "
   ]
  },
  {
   "cell_type": "code",
   "execution_count": 71,
   "metadata": {
    "colab": {
     "base_uri": "https://localhost:8080/",
     "height": 308,
     "referenced_widgets": [
      "d7990d6376634333a97f56f1183110ae",
      "e1eabea1636f4d8e942b0fc5056017ec",
      "179a3e6bd7ca422bb06a9beac5314f6e",
      "362fa5ebc67a4f3294041130b9c62536",
      "5c580937654e4455b2b8de87fc7a3c8f",
      "29ff2cd881c349e4b760676a0f4327fd",
      "0918ef3afd6e40be855ff45521b394aa",
      "ed59e559b046482c8cd9d8f169049f5e"
     ]
    },
    "id": "ta0RIeZzxjHm",
    "outputId": "05c2555c-454a-4079-b48b-7088fe947e37"
   },
   "outputs": [
    {
     "data": {
      "application/vnd.jupyter.widget-view+json": {
       "model_id": "d7990d6376634333a97f56f1183110ae",
       "version_major": 2,
       "version_minor": 0
      },
      "text/plain": [
       "HBox(children=(FloatProgress(value=0.0, max=15.0), HTML(value='')))"
      ]
     },
     "metadata": {
      "tags": []
     },
     "output_type": "display_data"
    },
    {
     "name": "stdout",
     "output_type": "stream",
     "text": [
      "Epoch: 0, Train Loss: 1.7963648043207523, Train Accuracy: 0.6680333333333334, Test Loss: 1.7595355993584743, Test Accuracy: 0.7009493670886076  \n",
      "Epoch: 1, Train Loss: 1.6906337277975672, Train Accuracy: 0.7717, Test Loss: 1.6488421808315228, Test Accuracy: 0.8153678797468354  \n",
      "Epoch: 2, Train Loss: 1.6408798526853388, Train Accuracy: 0.8217333333333333, Test Loss: 1.6420185611217837, Test Accuracy: 0.8216969936708861  \n",
      "Epoch: 3, Train Loss: 1.6182400852378243, Train Accuracy: 0.84435, Test Loss: 1.617335557937622, Test Accuracy: 0.8457278481012658  \n",
      "Epoch: 4, Train Loss: 1.5972069283284105, Train Accuracy: 0.8661833333333333, Test Loss: 1.5963311135014402, Test Accuracy: 0.8662974683544303  \n",
      "Epoch: 5, Train Loss: 1.5908236074040947, Train Accuracy: 0.8710833333333333, Test Loss: 1.593162874632244, Test Accuracy: 0.8691653481012658  \n",
      "Epoch: 6, Train Loss: 1.58462625805503, Train Accuracy: 0.87755, Test Loss: 1.587834444227098, Test Accuracy: 0.8752966772151899  \n",
      "Epoch: 7, Train Loss: 1.5789342023162192, Train Accuracy: 0.8831, Test Loss: 1.5902930558482302, Test Accuracy: 0.8723299050632911  \n",
      "Epoch: 8, Train Loss: 1.5744737501083406, Train Accuracy: 0.8872333333333333, Test Loss: 1.5805168861075292, Test Accuracy: 0.8823180379746836  \n",
      "Epoch: 9, Train Loss: 1.5690690182419473, Train Accuracy: 0.8934833333333333, Test Loss: 1.579185888737063, Test Accuracy: 0.8825158227848101  \n",
      "Epoch: 10, Train Loss: 1.5658148247550037, Train Accuracy: 0.8964666666666666, Test Loss: 1.5772336751599856, Test Accuracy: 0.8852848101265823  \n",
      "Epoch: 11, Train Loss: 1.5624610310170188, Train Accuracy: 0.9000166666666667, Test Loss: 1.5773602935332287, Test Accuracy: 0.8846914556962026  \n",
      "Epoch: 12, Train Loss: 1.5595918926857173, Train Accuracy: 0.9026166666666666, Test Loss: 1.5745524213283877, Test Accuracy: 0.8869659810126582  \n",
      "Epoch: 13, Train Loss: 1.556392075918885, Train Accuracy: 0.9057, Test Loss: 1.5680302290976802, Test Accuracy: 0.8934928797468354  \n",
      "Epoch: 14, Train Loss: 1.5545405591728845, Train Accuracy: 0.9073833333333333, Test Loss: 1.5730641371087184, Test Accuracy: 0.8879549050632911  \n",
      "\n"
     ]
    }
   ],
   "source": [
    "second_RMS = train_model(\n",
    "    model=second_model,\n",
    "    num_epochs=15, #меньше число эпох, так как обучается он очень быстро \n",
    "    train_dataloader=train_dataloader,\n",
    "    test_dataloader=eval_dataloader,\n",
    "    optimizer = torch.optim.RMSprop(second_model.parameters(), lr = 0.001, alpha=0.99)) #сделала поменьше lr на всякий случай, чтоб не переобучиться "
   ]
  },
  {
   "cell_type": "code",
   "execution_count": 72,
   "metadata": {
    "id": "eIaGafSbynW3"
   },
   "outputs": [],
   "source": [
    "RMSSMtrain_loss, RMSSMtrain_acc, RMSSMval_loss, RMSSMval_acc = second_RMS"
   ]
  },
  {
   "cell_type": "code",
   "execution_count": 73,
   "metadata": {
    "colab": {
     "base_uri": "https://localhost:8080/",
     "height": 350
    },
    "id": "LIkjv_W0yw3S",
    "outputId": "413623d2-bd93-46d7-d404-d90e398dc826"
   },
   "outputs": [
    {
     "data": {
      "image/png": "[encoded data removed]",
      "text/plain": [
       "<Figure size 360x360 with 1 Axes>"
      ]
     },
     "metadata": {
      "needs_background": "light",
      "tags": []
     },
     "output_type": "display_data"
    }
   ],
   "source": [
    "plot_history(RMSSMtrain_loss, RMSSMval_loss, \"RMSprop loss\", (5, 5))"
   ]
  },
  {
   "cell_type": "code",
   "execution_count": 74,
   "metadata": {
    "colab": {
     "base_uri": "https://localhost:8080/",
     "height": 350
    },
    "id": "hOl4wJBjy5Nw",
    "outputId": "82207e59-7a6c-491b-ef48-44660abe41c6"
   },
   "outputs": [
    {
     "data": {
      "image/png": "[encoded data removed]",
      "text/plain": [
       "<Figure size 360x360 with 1 Axes>"
      ]
     },
     "metadata": {
      "needs_background": "light",
      "tags": []
     },
     "output_type": "display_data"
    }
   ],
   "source": [
    "plot_history(RMSSMtrain_acc, RMSSMval_acc, \"RMSprop accuracy\", (5, 5))"
   ]
  },
  {
   "cell_type": "code",
   "execution_count": 75,
   "metadata": {
    "id": "zJ54Gyzx5tIO"
   },
   "outputs": [],
   "source": [
    "third_model = nn.Sequential( #для третьей модели я хочу взять большие свертки, но применирь еще Dropout и Batchnorm \n",
    "    nn.Conv2d(1, 16, (9, 9), stride = 2),\n",
    "    nn.MaxPool2d((2,2)),\n",
    "    nn.Conv2d(16, 8, (5, 5), padding = 1),\n",
    "    nn.BatchNorm2d(8), \n",
    "    nn.Flatten(), \n",
    "    nn.Linear(72, 32), \n",
    "    nn.Dropout(p=0.4), \n",
    "    nn.ReLU(), \n",
    "    nn.Linear(32, 10), \n",
    "    nn.Softmax(dim =-1))\n",
    "     \n",
    "    "
   ]
  },
  {
   "cell_type": "code",
   "execution_count": 76,
   "metadata": {
    "colab": {
     "base_uri": "https://localhost:8080/"
    },
    "id": "7_tWDxbK8AiO",
    "outputId": "6b0dceb1-001c-466b-ef25-a1bac586fa85"
   },
   "outputs": [
    {
     "data": {
      "text/plain": [
       "Sequential(\n",
       "  (0): Conv2d(1, 16, kernel_size=(9, 9), stride=(2, 2))\n",
       "  (1): MaxPool2d(kernel_size=(2, 2), stride=(2, 2), padding=0, dilation=1, ceil_mode=False)\n",
       "  (2): Conv2d(16, 8, kernel_size=(5, 5), stride=(1, 1), padding=(1, 1))\n",
       "  (3): BatchNorm2d(8, eps=1e-05, momentum=0.1, affine=True, track_running_stats=True)\n",
       "  (4): Flatten()\n",
       "  (5): Linear(in_features=72, out_features=32, bias=True)\n",
       "  (6): Dropout(p=0.4, inplace=False)\n",
       "  (7): ReLU()\n",
       "  (8): Linear(in_features=32, out_features=10, bias=True)\n",
       "  (9): Softmax(dim=-1)\n",
       ")"
      ]
     },
     "execution_count": 76,
     "metadata": {
      "tags": []
     },
     "output_type": "execute_result"
    }
   ],
   "source": [
    "third_model.to(device)"
   ]
  },
  {
   "cell_type": "code",
   "execution_count": 77,
   "metadata": {
    "colab": {
     "base_uri": "https://localhost:8080/"
    },
    "id": "lItGPRBh5zJq",
    "outputId": "59f111f5-0a8a-4431-8919-18ad28910888"
   },
   "outputs": [
    {
     "data": {
      "text/plain": [
       "torch.Size([128, 10])"
      ]
     },
     "execution_count": 77,
     "metadata": {
      "tags": []
     },
     "output_type": "execute_result"
    }
   ],
   "source": [
    "b = third_model(i[0].to(device)) #код для проверки сколько нейронов поступит на выход flatten\n",
    "b.shape"
   ]
  },
  {
   "cell_type": "code",
   "execution_count": 78,
   "metadata": {
    "colab": {
     "base_uri": "https://localhost:8080/",
     "height": 308,
     "referenced_widgets": [
      "8547c58419bc454996e345e0efa26c3b",
      "36da55771c074b159efa602606b6aafa",
      "51ca4b9715a5438dbba0a9fde6d934c3",
      "b5bfb869c90649249c1bfcdf17d81e30",
      "aa8a440d23744a55bd8f7db7a3bc25f2",
      "e965fe8d62af443ca5fbdc82dc4ab94a",
      "42ba341f75b44a5fae5d7ad590798731",
      "6823d90781404c428491897148dce760"
     ]
    },
    "id": "NI-UqLv--rIs",
    "outputId": "6e9031ce-1c6e-4651-a4db-9476141bfc8f"
   },
   "outputs": [
    {
     "data": {
      "application/vnd.jupyter.widget-view+json": {
       "model_id": "8547c58419bc454996e345e0efa26c3b",
       "version_major": 2,
       "version_minor": 0
      },
      "text/plain": [
       "HBox(children=(FloatProgress(value=0.0, max=15.0), HTML(value='')))"
      ]
     },
     "metadata": {
      "tags": []
     },
     "output_type": "display_data"
    },
    {
     "name": "stdout",
     "output_type": "stream",
     "text": [
      "Epoch: 0, Train Loss: 2.2208978402843353, Train Accuracy: 0.32555, Test Loss: 2.1180678168429603, Test Accuracy: 0.5220530063291139  \n",
      "Epoch: 1, Train Loss: 2.057159726553634, Train Accuracy: 0.5180666666666667, Test Loss: 1.9544822415219079, Test Accuracy: 0.5755537974683544  \n",
      "Epoch: 2, Train Loss: 1.9490398321070397, Train Accuracy: 0.5762833333333334, Test Loss: 1.884555913225005, Test Accuracy: 0.6128362341772152  \n",
      "Epoch: 3, Train Loss: 1.8984514561289154, Train Accuracy: 0.6030833333333333, Test Loss: 1.848265883288806, Test Accuracy: 0.6314280063291139  \n",
      "Epoch: 4, Train Loss: 1.8669870878333477, Train Accuracy: 0.6274333333333333, Test Loss: 1.8145263210127625, Test Accuracy: 0.6825553797468354  \n",
      "Epoch: 5, Train Loss: 1.8281448372899851, Train Accuracy: 0.6757, Test Loss: 1.7669760335849811, Test Accuracy: 0.7193433544303798  \n",
      "Epoch: 6, Train Loss: 1.7999173636629637, Train Accuracy: 0.6950166666666666, Test Loss: 1.7495601131946226, Test Accuracy: 0.7285403481012658  \n",
      "Epoch: 7, Train Loss: 1.7842474105769892, Train Accuracy: 0.7024, Test Loss: 1.7406246571601192, Test Accuracy: 0.7348694620253164  \n",
      "Epoch: 8, Train Loss: 1.7742717616847838, Train Accuracy: 0.7078, Test Loss: 1.7372822203213656, Test Accuracy: 0.7355617088607594  \n",
      "Epoch: 9, Train Loss: 1.7655315338167301, Train Accuracy: 0.71465, Test Loss: 1.7295334686206867, Test Accuracy: 0.7383306962025317  \n",
      "Epoch: 10, Train Loss: 1.7596564689424754, Train Accuracy: 0.717, Test Loss: 1.726111460335647, Test Accuracy: 0.7393196202531646  \n",
      "Epoch: 11, Train Loss: 1.7548415770154517, Train Accuracy: 0.7201, Test Loss: 1.7226283640801152, Test Accuracy: 0.7429786392405063  \n",
      "Epoch: 12, Train Loss: 1.7498380039800714, Train Accuracy: 0.7232333333333333, Test Loss: 1.7194944107079808, Test Accuracy: 0.7441653481012658  \n",
      "Epoch: 13, Train Loss: 1.7459757752510021, Train Accuracy: 0.7263833333333334, Test Loss: 1.71781977822509, Test Accuracy: 0.7426819620253164  \n",
      "Epoch: 14, Train Loss: 1.7429010336841348, Train Accuracy: 0.7275666666666667, Test Loss: 1.719881534576416, Test Accuracy: 0.739121835443038  \n",
      "\n"
     ]
    }
   ],
   "source": [
    "third_SGD = train_model(\n",
    "    model= third_model,\n",
    "    num_epochs=15, #поменьше эпох, потому что переобучается \n",
    "    train_dataloader=train_dataloader,\n",
    "    test_dataloader=eval_dataloader,\n",
    "    optimizer=torch.optim.SGD(third_model.parameters(), lr=0.01))"
   ]
  },
  {
   "cell_type": "code",
   "execution_count": 79,
   "metadata": {
    "id": "ZXjuhYj3AwJR"
   },
   "outputs": [],
   "source": [
    "TMtrain_loss, TMtrain_acc, TMval_loss, TMval_acc = third_SGD"
   ]
  },
  {
   "cell_type": "code",
   "execution_count": 80,
   "metadata": {
    "colab": {
     "base_uri": "https://localhost:8080/",
     "height": 350
    },
    "id": "S1o9Ai8-A1zo",
    "outputId": "b3b4256d-1461-4914-da74-7d5f1a76d3c8"
   },
   "outputs": [
    {
     "data": {
      "image/png": "[encoded data removed]",
      "text/plain": [
       "<Figure size 360x360 with 1 Axes>"
      ]
     },
     "metadata": {
      "needs_background": "light",
      "tags": []
     },
     "output_type": "display_data"
    }
   ],
   "source": [
    "plot_history(TMtrain_loss, TMval_loss, \"SGD loss\", (5, 5))"
   ]
  },
  {
   "cell_type": "code",
   "execution_count": 81,
   "metadata": {
    "colab": {
     "base_uri": "https://localhost:8080/",
     "height": 350
    },
    "id": "UCSw869eA70b",
    "outputId": "8a561bf7-e6f2-4784-83b1-b20ecb4f6fd7"
   },
   "outputs": [
    {
     "data": {
      "image/png": "[encoded data removed]",
      "text/plain": [
       "<Figure size 360x360 with 1 Axes>"
      ]
     },
     "metadata": {
      "needs_background": "light",
      "tags": []
     },
     "output_type": "display_data"
    }
   ],
   "source": [
    "plot_history(TMtrain_acc, TMval_acc, \"SGD accuracy\", (5, 5))"
   ]
  },
  {
   "cell_type": "code",
   "execution_count": 82,
   "metadata": {
    "colab": {
     "base_uri": "https://localhost:8080/",
     "height": 292,
     "referenced_widgets": [
      "df3d287d60074fa1a5efa9de80816e52",
      "5f4419e926a143ec8328341a0cff6106",
      "a67ccd3725cf45a1a25345a7e0642970",
      "b5429ebf4b584d178038c771f9bb0723",
      "cd2c633e624b40999ef47bd267f2c0f8",
      "9f2bc36860534ed8aef6c835184b44bd",
      "178bfb86d79b4ad18c2521bbe0abed95",
      "d96038316d84470d8319eecffa3557e4"
     ]
    },
    "id": "6kDxrcBLBBb3",
    "outputId": "22cda587-3d89-4133-ad62-c47fac923162"
   },
   "outputs": [
    {
     "data": {
      "application/vnd.jupyter.widget-view+json": {
       "model_id": "df3d287d60074fa1a5efa9de80816e52",
       "version_major": 2,
       "version_minor": 0
      },
      "text/plain": [
       "HBox(children=(FloatProgress(value=0.0, max=15.0), HTML(value='')))"
      ]
     },
     "metadata": {
      "tags": []
     },
     "output_type": "display_data"
    },
    {
     "name": "stdout",
     "output_type": "stream",
     "text": [
      "Epoch: 0, Train Loss: 1.704631302910827, Train Accuracy: 0.7663833333333333, Test Loss: 1.6330327414259125, Test Accuracy: 0.8338607594936709  \n",
      "Epoch: 1, Train Loss: 1.652792189929531, Train Accuracy: 0.8142666666666667, Test Loss: 1.6438648444187791, Test Accuracy: 0.8188291139240507  \n",
      "Epoch: 2, Train Loss: 1.6408284305255296, Train Accuracy: 0.8247, Test Loss: 1.6426150512091722, Test Accuracy: 0.8193235759493671  \n",
      "Epoch: 3, Train Loss: 1.6332071211292292, Train Accuracy: 0.8319166666666666, Test Loss: 1.6123213390760784, Test Accuracy: 0.8504746835443038  \n",
      "Epoch: 4, Train Loss: 1.6281986826264274, Train Accuracy: 0.8371666666666666, Test Loss: 1.6080105410346501, Test Accuracy: 0.8537381329113924  \n",
      "Epoch: 5, Train Loss: 1.6242969605460096, Train Accuracy: 0.8398166666666667, Test Loss: 1.6093784133090248, Test Accuracy: 0.8514636075949367  \n",
      "Epoch: 6, Train Loss: 1.6192572035514978, Train Accuracy: 0.84415, Test Loss: 1.6032209336003171, Test Accuracy: 0.8572982594936709  \n",
      "Epoch: 8, Train Loss: 1.6151167960055093, Train Accuracy: 0.84875, Test Loss: 1.60350273078001, Test Accuracy: 0.857693829113924  \n",
      "Epoch: 9, Train Loss: 1.6136346303069515, Train Accuracy: 0.8494333333333334, Test Loss: 1.602213286146333, Test Accuracy: 0.8580893987341772  \n",
      "Epoch: 10, Train Loss: 1.6095177278335668, Train Accuracy: 0.8537166666666667, Test Loss: 1.6022720533081247, Test Accuracy: 0.8581882911392406  \n",
      "Epoch: 11, Train Loss: 1.6086330889130451, Train Accuracy: 0.8547166666666667, Test Loss: 1.5996872443187087, Test Accuracy: 0.8608583860759493  \n",
      "Epoch: 12, Train Loss: 1.6081831226470882, Train Accuracy: 0.85455, Test Loss: 1.594450454168682, Test Accuracy: 0.8663963607594937  \n",
      "Epoch: 13, Train Loss: 1.6050516903273333, Train Accuracy: 0.85765, Test Loss: 1.5976562605628484, Test Accuracy: 0.8629351265822784  \n",
      "Epoch: 14, Train Loss: 1.6053684314430903, Train Accuracy: 0.8570833333333333, Test Loss: 1.597897404356848, Test Accuracy: 0.8623417721518988  \n",
      "\n"
     ]
    }
   ],
   "source": [
    "third_RMS = train_model(\n",
    "    model=third_model,\n",
    "    num_epochs=15, \n",
    "    train_dataloader=train_dataloader,\n",
    "    test_dataloader=eval_dataloader,\n",
    "    optimizer = torch.optim.RMSprop(third_model.parameters(), lr = 0.001, alpha=0.99))"
   ]
  },
  {
   "cell_type": "code",
   "execution_count": 83,
   "metadata": {
    "id": "jO-XEqAQBQCZ"
   },
   "outputs": [],
   "source": [
    "RMSTMtrain_loss, RMSTMtrain_acc, RMSTMval_loss, RMSTMval_acc = third_RMS"
   ]
  },
  {
   "cell_type": "code",
   "execution_count": 84,
   "metadata": {
    "colab": {
     "base_uri": "https://localhost:8080/",
     "height": 350
    },
    "id": "14wDxfqcBQhD",
    "outputId": "972d9457-d6ea-4171-98e9-06e5dc147e2b"
   },
   "outputs": [
    {
     "data": {
      "image/png": "[encoded data removed]",
      "text/plain": [
       "<Figure size 360x360 with 1 Axes>"
      ]
     },
     "metadata": {
      "needs_background": "light",
      "tags": []
     },
     "output_type": "display_data"
    }
   ],
   "source": [
    "plot_history(RMSTMtrain_loss, RMSTMval_loss, \"RMSprop loss\", (5, 5))"
   ]
  },
  {
   "cell_type": "code",
   "execution_count": 85,
   "metadata": {
    "colab": {
     "base_uri": "https://localhost:8080/",
     "height": 350
    },
    "id": "eYy50esVBU9O",
    "outputId": "52b2b266-69ac-4bb1-a8ee-59d962789daf"
   },
   "outputs": [
    {
     "data": {
      "image/png": "[encoded data removed]",
      "text/plain": [
       "<Figure size 360x360 with 1 Axes>"
      ]
     },
     "metadata": {
      "needs_background": "light",
      "tags": []
     },
     "output_type": "display_data"
    }
   ],
   "source": [
    "plot_history(RMSTMtrain_acc, RMSTMval_acc, \"RMSprop accuracy\", (5, 5))"
   ]
  },
  {
   "cell_type": "markdown",
   "metadata": {
    "id": "WIycMANTYNES"
   },
   "source": [
    "Так как на всех моделях RMSprop выдавал более выскоие значения accuracy, сравнивать я буду именно по этому параметру. Также замечу, что RMSprop ожиаемо гораздо быстрее \"спускался\" до оптимальных параметров, и был гораздо менее подвержен разного рода сдвигам. Например, в первой модели видно, как на нескольких эпохах SGD как будто проседает, а RMS гораздо в меньшей степени отклоняется с пути, который уже был пройден при градиентном спуске, если он вообще отклоняется. Нужно еще указать, что я меняла некоторые параметры моделей, чтобы они подогнались лучшим образом (например, меняя число эпох или размер learning rate), так что они изначально обучались в разных условиях, чтобы добиться лучшего перфоманса. \n",
    "\n",
    "Самый высокий результат получился на второй модели (VGG-подобной), accuracy составила примерно 0.89. Это можно объяснить тем, что VGG более адекватна сложности данных, по сравнению с полносвязной моделью. Полностью полносвязная модель просто не может их достаточно хорошо смоделировать, так как сразу получает на вход вектор из пикселей, из-за чего она гораздо хуже выявляет какие-либо паттерны. Также преимуществом VGG на этих данных может быть небольшой размер сверток – сами по себе нам даны небольшие картинки, для определения класса, как мне кажется, нужно уловить сравнительно небольшие паттерны, вроде например изгиба плеч на верхней одежде или подошвы у обуви. Возможно, из-за этого последняя модель, – где использовались наоборот большие свертки, – не дала особенных преимуществ. Здесь скорее нужно было искать не большие патттерны, а более мелкие. Например, чтобы отличать свитер от рубашки, модели нужно не увидеть силуэт в целом (они будут примерно схожи у рубашки и свитера), а искать отличия в деталях. Однако примечательно, что последней модели с большими свертками и применением Batchnorm и Dropout (моя пародия на AlexNet...) не помогли последние два механизма, хотя тот же Batchnorm является довольно эффективным приемом. "
   ]
  }
 ],
 "metadata": {
  "colab": {
   "collapsed_sections": [],
   "name": "hw1.ipynb",
   "provenance": []
  },
  "kernelspec": {
   "display_name": "Python 3",
   "language": "python",
   "name": "python3"
  },
  "language_info": {
   "codemirror_mode": {
    "name": "ipython",
    "version": 3
   },
   "file_extension": ".py",
   "mimetype": "text/x-python",
   "name": "python",
   "nbconvert_exporter": "python",
   "pygments_lexer": "ipython3",
   "version": "3.7.2"
  },
  "widgets": {
   "application/vnd.jupyter.widget-state+json": {
    "074a3d2d234c476c9de6dd87fb17d23d": {
     "model_module": "@jupyter-widgets/base",
     "model_name": "LayoutModel",
     "state": {
      "_model_module": "@jupyter-widgets/base",
      "_model_module_version": "1.2.0",
      "_model_name": "LayoutModel",
      "_view_count": null,
      "_view_module": "@jupyter-widgets/base",
      "_view_module_version": "1.2.0",
      "_view_name": "LayoutView",
      "align_content": null,
      "align_items": null,
      "align_self": null,
      "border": null,
      "bottom": null,
      "display": null,
      "flex": null,
      "flex_flow": null,
      "grid_area": null,
      "grid_auto_columns": null,
      "grid_auto_flow": null,
      "grid_auto_rows": null,
      "grid_column": null,
      "grid_gap": null,
      "grid_row": null,
      "grid_template_areas": null,
      "grid_template_columns": null,
      "grid_template_rows": null,
      "height": null,
      "justify_content": null,
      "justify_items": null,
      "left": null,
      "margin": null,
      "max_height": null,
      "max_width": null,
      "min_height": null,
      "min_width": null,
      "object_fit": null,
      "object_position": null,
      "order": null,
      "overflow": null,
      "overflow_x": null,
      "overflow_y": null,
      "padding": null,
      "right": null,
      "top": null,
      "visibility": null,
      "width": null
     }
    },
    "0918ef3afd6e40be855ff45521b394aa": {
     "model_module": "@jupyter-widgets/controls",
     "model_name": "DescriptionStyleModel",
     "state": {
      "_model_module": "@jupyter-widgets/controls",
      "_model_module_version": "1.5.0",
      "_model_name": "DescriptionStyleModel",
      "_view_count": null,
      "_view_module": "@jupyter-widgets/base",
      "_view_module_version": "1.2.0",
      "_view_name": "StyleView",
      "description_width": ""
     }
    },
    "178bfb86d79b4ad18c2521bbe0abed95": {
     "model_module": "@jupyter-widgets/controls",
     "model_name": "DescriptionStyleModel",
     "state": {
      "_model_module": "@jupyter-widgets/controls",
      "_model_module_version": "1.5.0",
      "_model_name": "DescriptionStyleModel",
      "_view_count": null,
      "_view_module": "@jupyter-widgets/base",
      "_view_module_version": "1.2.0",
      "_view_name": "StyleView",
      "description_width": ""
     }
    },
    "179a3e6bd7ca422bb06a9beac5314f6e": {
     "model_module": "@jupyter-widgets/controls",
     "model_name": "FloatProgressModel",
     "state": {
      "_dom_classes": [],
      "_model_module": "@jupyter-widgets/controls",
      "_model_module_version": "1.5.0",
      "_model_name": "FloatProgressModel",
      "_view_count": null,
      "_view_module": "@jupyter-widgets/controls",
      "_view_module_version": "1.5.0",
      "_view_name": "ProgressView",
      "bar_style": "success",
      "description": "100%",
      "description_tooltip": null,
      "layout": "IPY_MODEL_29ff2cd881c349e4b760676a0f4327fd",
      "max": 15,
      "min": 0,
      "orientation": "horizontal",
      "style": "IPY_MODEL_5c580937654e4455b2b8de87fc7a3c8f",
      "value": 15
     }
    },
    "19c3b554fcf14a08839b540d5e431521": {
     "model_module": "@jupyter-widgets/base",
     "model_name": "LayoutModel",
     "state": {
      "_model_module": "@jupyter-widgets/base",
      "_model_module_version": "1.2.0",
      "_model_name": "LayoutModel",
      "_view_count": null,
      "_view_module": "@jupyter-widgets/base",
      "_view_module_version": "1.2.0",
      "_view_name": "LayoutView",
      "align_content": null,
      "align_items": null,
      "align_self": null,
      "border": null,
      "bottom": null,
      "display": null,
      "flex": null,
      "flex_flow": null,
      "grid_area": null,
      "grid_auto_columns": null,
      "grid_auto_flow": null,
      "grid_auto_rows": null,
      "grid_column": null,
      "grid_gap": null,
      "grid_row": null,
      "grid_template_areas": null,
      "grid_template_columns": null,
      "grid_template_rows": null,
      "height": null,
      "justify_content": null,
      "justify_items": null,
      "left": null,
      "margin": null,
      "max_height": null,
      "max_width": null,
      "min_height": null,
      "min_width": null,
      "object_fit": null,
      "object_position": null,
      "order": null,
      "overflow": null,
      "overflow_x": null,
      "overflow_y": null,
      "padding": null,
      "right": null,
      "top": null,
      "visibility": null,
      "width": null
     }
    },
    "1cd79d30ba4b4adebb8eae809f2a3969": {
     "model_module": "@jupyter-widgets/controls",
     "model_name": "HTMLModel",
     "state": {
      "_dom_classes": [],
      "_model_module": "@jupyter-widgets/controls",
      "_model_module_version": "1.5.0",
      "_model_name": "HTMLModel",
      "_view_count": null,
      "_view_module": "@jupyter-widgets/controls",
      "_view_module_version": "1.5.0",
      "_view_name": "HTMLView",
      "description": "",
      "description_tooltip": null,
      "layout": "IPY_MODEL_c27e2f844c124bd98e810e669f48515a",
      "placeholder": "​",
      "style": "IPY_MODEL_6a44a42a20194b01a094a26b1bd2b119",
      "value": " 15/15 [07:19&lt;00:00, 29.27s/it]"
     }
    },
    "29ff2cd881c349e4b760676a0f4327fd": {
     "model_module": "@jupyter-widgets/base",
     "model_name": "LayoutModel",
     "state": {
      "_model_module": "@jupyter-widgets/base",
      "_model_module_version": "1.2.0",
      "_model_name": "LayoutModel",
      "_view_count": null,
      "_view_module": "@jupyter-widgets/base",
      "_view_module_version": "1.2.0",
      "_view_name": "LayoutView",
      "align_content": null,
      "align_items": null,
      "align_self": null,
      "border": null,
      "bottom": null,
      "display": null,
      "flex": null,
      "flex_flow": null,
      "grid_area": null,
      "grid_auto_columns": null,
      "grid_auto_flow": null,
      "grid_auto_rows": null,
      "grid_column": null,
      "grid_gap": null,
      "grid_row": null,
      "grid_template_areas": null,
      "grid_template_columns": null,
      "grid_template_rows": null,
      "height": null,
      "justify_content": null,
      "justify_items": null,
      "left": null,
      "margin": null,
      "max_height": null,
      "max_width": null,
      "min_height": null,
      "min_width": null,
      "object_fit": null,
      "object_position": null,
      "order": null,
      "overflow": null,
      "overflow_x": null,
      "overflow_y": null,
      "padding": null,
      "right": null,
      "top": null,
      "visibility": null,
      "width": null
     }
    },
    "3024930534db4a94bbfa70282bc8f0ea": {
     "model_module": "@jupyter-widgets/controls",
     "model_name": "FloatProgressModel",
     "state": {
      "_dom_classes": [],
      "_model_module": "@jupyter-widgets/controls",
      "_model_module_version": "1.5.0",
      "_model_name": "FloatProgressModel",
      "_view_count": null,
      "_view_module": "@jupyter-widgets/controls",
      "_view_module_version": "1.5.0",
      "_view_name": "ProgressView",
      "bar_style": "success",
      "description": "100%",
      "description_tooltip": null,
      "layout": "IPY_MODEL_4bf0182a419c429fa8abd51953390f13",
      "max": 15,
      "min": 0,
      "orientation": "horizontal",
      "style": "IPY_MODEL_d4db91c25b264519b9f4a2ddd08359fb",
      "value": 15
     }
    },
    "362fa5ebc67a4f3294041130b9c62536": {
     "model_module": "@jupyter-widgets/controls",
     "model_name": "HTMLModel",
     "state": {
      "_dom_classes": [],
      "_model_module": "@jupyter-widgets/controls",
      "_model_module_version": "1.5.0",
      "_model_name": "HTMLModel",
      "_view_count": null,
      "_view_module": "@jupyter-widgets/controls",
      "_view_module_version": "1.5.0",
      "_view_name": "HTMLView",
      "description": "",
      "description_tooltip": null,
      "layout": "IPY_MODEL_ed59e559b046482c8cd9d8f169049f5e",
      "placeholder": "​",
      "style": "IPY_MODEL_0918ef3afd6e40be855ff45521b394aa",
      "value": " 15/15 [05:07&lt;00:00, 20.50s/it]"
     }
    },
    "36da55771c074b159efa602606b6aafa": {
     "model_module": "@jupyter-widgets/base",
     "model_name": "LayoutModel",
     "state": {
      "_model_module": "@jupyter-widgets/base",
      "_model_module_version": "1.2.0",
      "_model_name": "LayoutModel",
      "_view_count": null,
      "_view_module": "@jupyter-widgets/base",
      "_view_module_version": "1.2.0",
      "_view_name": "LayoutView",
      "align_content": null,
      "align_items": null,
      "align_self": null,
      "border": null,
      "bottom": null,
      "display": null,
      "flex": null,
      "flex_flow": null,
      "grid_area": null,
      "grid_auto_columns": null,
      "grid_auto_flow": null,
      "grid_auto_rows": null,
      "grid_column": null,
      "grid_gap": null,
      "grid_row": null,
      "grid_template_areas": null,
      "grid_template_columns": null,
      "grid_template_rows": null,
      "height": null,
      "justify_content": null,
      "justify_items": null,
      "left": null,
      "margin": null,
      "max_height": null,
      "max_width": null,
      "min_height": null,
      "min_width": null,
      "object_fit": null,
      "object_position": null,
      "order": null,
      "overflow": null,
      "overflow_x": null,
      "overflow_y": null,
      "padding": null,
      "right": null,
      "top": null,
      "visibility": null,
      "width": null
     }
    },
    "3d5cc8f8b54a4164a088f859a75dcaea": {
     "model_module": "@jupyter-widgets/base",
     "model_name": "LayoutModel",
     "state": {
      "_model_module": "@jupyter-widgets/base",
      "_model_module_version": "1.2.0",
      "_model_name": "LayoutModel",
      "_view_count": null,
      "_view_module": "@jupyter-widgets/base",
      "_view_module_version": "1.2.0",
      "_view_name": "LayoutView",
      "align_content": null,
      "align_items": null,
      "align_self": null,
      "border": null,
      "bottom": null,
      "display": null,
      "flex": null,
      "flex_flow": null,
      "grid_area": null,
      "grid_auto_columns": null,
      "grid_auto_flow": null,
      "grid_auto_rows": null,
      "grid_column": null,
      "grid_gap": null,
      "grid_row": null,
      "grid_template_areas": null,
      "grid_template_columns": null,
      "grid_template_rows": null,
      "height": null,
      "justify_content": null,
      "justify_items": null,
      "left": null,
      "margin": null,
      "max_height": null,
      "max_width": null,
      "min_height": null,
      "min_width": null,
      "object_fit": null,
      "object_position": null,
      "order": null,
      "overflow": null,
      "overflow_x": null,
      "overflow_y": null,
      "padding": null,
      "right": null,
      "top": null,
      "visibility": null,
      "width": null
     }
    },
    "42ba341f75b44a5fae5d7ad590798731": {
     "model_module": "@jupyter-widgets/controls",
     "model_name": "DescriptionStyleModel",
     "state": {
      "_model_module": "@jupyter-widgets/controls",
      "_model_module_version": "1.5.0",
      "_model_name": "DescriptionStyleModel",
      "_view_count": null,
      "_view_module": "@jupyter-widgets/base",
      "_view_module_version": "1.2.0",
      "_view_name": "StyleView",
      "description_width": ""
     }
    },
    "4bf0182a419c429fa8abd51953390f13": {
     "model_module": "@jupyter-widgets/base",
     "model_name": "LayoutModel",
     "state": {
      "_model_module": "@jupyter-widgets/base",
      "_model_module_version": "1.2.0",
      "_model_name": "LayoutModel",
      "_view_count": null,
      "_view_module": "@jupyter-widgets/base",
      "_view_module_version": "1.2.0",
      "_view_name": "LayoutView",
      "align_content": null,
      "align_items": null,
      "align_self": null,
      "border": null,
      "bottom": null,
      "display": null,
      "flex": null,
      "flex_flow": null,
      "grid_area": null,
      "grid_auto_columns": null,
      "grid_auto_flow": null,
      "grid_auto_rows": null,
      "grid_column": null,
      "grid_gap": null,
      "grid_row": null,
      "grid_template_areas": null,
      "grid_template_columns": null,
      "grid_template_rows": null,
      "height": null,
      "justify_content": null,
      "justify_items": null,
      "left": null,
      "margin": null,
      "max_height": null,
      "max_width": null,
      "min_height": null,
      "min_width": null,
      "object_fit": null,
      "object_position": null,
      "order": null,
      "overflow": null,
      "overflow_x": null,
      "overflow_y": null,
      "padding": null,
      "right": null,
      "top": null,
      "visibility": null,
      "width": null
     }
    },
    "51838218d65a4fccaa6786655ec09978": {
     "model_module": "@jupyter-widgets/base",
     "model_name": "LayoutModel",
     "state": {
      "_model_module": "@jupyter-widgets/base",
      "_model_module_version": "1.2.0",
      "_model_name": "LayoutModel",
      "_view_count": null,
      "_view_module": "@jupyter-widgets/base",
      "_view_module_version": "1.2.0",
      "_view_name": "LayoutView",
      "align_content": null,
      "align_items": null,
      "align_self": null,
      "border": null,
      "bottom": null,
      "display": null,
      "flex": null,
      "flex_flow": null,
      "grid_area": null,
      "grid_auto_columns": null,
      "grid_auto_flow": null,
      "grid_auto_rows": null,
      "grid_column": null,
      "grid_gap": null,
      "grid_row": null,
      "grid_template_areas": null,
      "grid_template_columns": null,
      "grid_template_rows": null,
      "height": null,
      "justify_content": null,
      "justify_items": null,
      "left": null,
      "margin": null,
      "max_height": null,
      "max_width": null,
      "min_height": null,
      "min_width": null,
      "object_fit": null,
      "object_position": null,
      "order": null,
      "overflow": null,
      "overflow_x": null,
      "overflow_y": null,
      "padding": null,
      "right": null,
      "top": null,
      "visibility": null,
      "width": null
     }
    },
    "51ca4b9715a5438dbba0a9fde6d934c3": {
     "model_module": "@jupyter-widgets/controls",
     "model_name": "FloatProgressModel",
     "state": {
      "_dom_classes": [],
      "_model_module": "@jupyter-widgets/controls",
      "_model_module_version": "1.5.0",
      "_model_name": "FloatProgressModel",
      "_view_count": null,
      "_view_module": "@jupyter-widgets/controls",
      "_view_module_version": "1.5.0",
      "_view_name": "ProgressView",
      "bar_style": "success",
      "description": "100%",
      "description_tooltip": null,
      "layout": "IPY_MODEL_e965fe8d62af443ca5fbdc82dc4ab94a",
      "max": 15,
      "min": 0,
      "orientation": "horizontal",
      "style": "IPY_MODEL_aa8a440d23744a55bd8f7db7a3bc25f2",
      "value": 15
     }
    },
    "562a8ca477e24b4b8b105b22f7ef55f8": {
     "model_module": "@jupyter-widgets/controls",
     "model_name": "DescriptionStyleModel",
     "state": {
      "_model_module": "@jupyter-widgets/controls",
      "_model_module_version": "1.5.0",
      "_model_name": "DescriptionStyleModel",
      "_view_count": null,
      "_view_module": "@jupyter-widgets/base",
      "_view_module_version": "1.2.0",
      "_view_name": "StyleView",
      "description_width": ""
     }
    },
    "5c580937654e4455b2b8de87fc7a3c8f": {
     "model_module": "@jupyter-widgets/controls",
     "model_name": "ProgressStyleModel",
     "state": {
      "_model_module": "@jupyter-widgets/controls",
      "_model_module_version": "1.5.0",
      "_model_name": "ProgressStyleModel",
      "_view_count": null,
      "_view_module": "@jupyter-widgets/base",
      "_view_module_version": "1.2.0",
      "_view_name": "StyleView",
      "bar_color": null,
      "description_width": "initial"
     }
    },
    "5f4419e926a143ec8328341a0cff6106": {
     "model_module": "@jupyter-widgets/base",
     "model_name": "LayoutModel",
     "state": {
      "_model_module": "@jupyter-widgets/base",
      "_model_module_version": "1.2.0",
      "_model_name": "LayoutModel",
      "_view_count": null,
      "_view_module": "@jupyter-widgets/base",
      "_view_module_version": "1.2.0",
      "_view_name": "LayoutView",
      "align_content": null,
      "align_items": null,
      "align_self": null,
      "border": null,
      "bottom": null,
      "display": null,
      "flex": null,
      "flex_flow": null,
      "grid_area": null,
      "grid_auto_columns": null,
      "grid_auto_flow": null,
      "grid_auto_rows": null,
      "grid_column": null,
      "grid_gap": null,
      "grid_row": null,
      "grid_template_areas": null,
      "grid_template_columns": null,
      "grid_template_rows": null,
      "height": null,
      "justify_content": null,
      "justify_items": null,
      "left": null,
      "margin": null,
      "max_height": null,
      "max_width": null,
      "min_height": null,
      "min_width": null,
      "object_fit": null,
      "object_position": null,
      "order": null,
      "overflow": null,
      "overflow_x": null,
      "overflow_y": null,
      "padding": null,
      "right": null,
      "top": null,
      "visibility": null,
      "width": null
     }
    },
    "65a135725dc04b45b1aa0a4ecb79028c": {
     "model_module": "@jupyter-widgets/controls",
     "model_name": "HBoxModel",
     "state": {
      "_dom_classes": [],
      "_model_module": "@jupyter-widgets/controls",
      "_model_module_version": "1.5.0",
      "_model_name": "HBoxModel",
      "_view_count": null,
      "_view_module": "@jupyter-widgets/controls",
      "_view_module_version": "1.5.0",
      "_view_name": "HBoxView",
      "box_style": "",
      "children": [
       "IPY_MODEL_3024930534db4a94bbfa70282bc8f0ea",
       "IPY_MODEL_1cd79d30ba4b4adebb8eae809f2a3969"
      ],
      "layout": "IPY_MODEL_074a3d2d234c476c9de6dd87fb17d23d"
     }
    },
    "6823d90781404c428491897148dce760": {
     "model_module": "@jupyter-widgets/base",
     "model_name": "LayoutModel",
     "state": {
      "_model_module": "@jupyter-widgets/base",
      "_model_module_version": "1.2.0",
      "_model_name": "LayoutModel",
      "_view_count": null,
      "_view_module": "@jupyter-widgets/base",
      "_view_module_version": "1.2.0",
      "_view_name": "LayoutView",
      "align_content": null,
      "align_items": null,
      "align_self": null,
      "border": null,
      "bottom": null,
      "display": null,
      "flex": null,
      "flex_flow": null,
      "grid_area": null,
      "grid_auto_columns": null,
      "grid_auto_flow": null,
      "grid_auto_rows": null,
      "grid_column": null,
      "grid_gap": null,
      "grid_row": null,
      "grid_template_areas": null,
      "grid_template_columns": null,
      "grid_template_rows": null,
      "height": null,
      "justify_content": null,
      "justify_items": null,
      "left": null,
      "margin": null,
      "max_height": null,
      "max_width": null,
      "min_height": null,
      "min_width": null,
      "object_fit": null,
      "object_position": null,
      "order": null,
      "overflow": null,
      "overflow_x": null,
      "overflow_y": null,
      "padding": null,
      "right": null,
      "top": null,
      "visibility": null,
      "width": null
     }
    },
    "6a44a42a20194b01a094a26b1bd2b119": {
     "model_module": "@jupyter-widgets/controls",
     "model_name": "DescriptionStyleModel",
     "state": {
      "_model_module": "@jupyter-widgets/controls",
      "_model_module_version": "1.5.0",
      "_model_name": "DescriptionStyleModel",
      "_view_count": null,
      "_view_module": "@jupyter-widgets/base",
      "_view_module_version": "1.2.0",
      "_view_name": "StyleView",
      "description_width": ""
     }
    },
    "6e8e0e93c57d40268016a8a5e36e4542": {
     "model_module": "@jupyter-widgets/controls",
     "model_name": "FloatProgressModel",
     "state": {
      "_dom_classes": [],
      "_model_module": "@jupyter-widgets/controls",
      "_model_module_version": "1.5.0",
      "_model_name": "FloatProgressModel",
      "_view_count": null,
      "_view_module": "@jupyter-widgets/controls",
      "_view_module_version": "1.5.0",
      "_view_name": "ProgressView",
      "bar_style": "success",
      "description": "100%",
      "description_tooltip": null,
      "layout": "IPY_MODEL_3d5cc8f8b54a4164a088f859a75dcaea",
      "max": 15,
      "min": 0,
      "orientation": "horizontal",
      "style": "IPY_MODEL_6fdece3ecf294b8d89870147219411c6",
      "value": 15
     }
    },
    "6fdece3ecf294b8d89870147219411c6": {
     "model_module": "@jupyter-widgets/controls",
     "model_name": "ProgressStyleModel",
     "state": {
      "_model_module": "@jupyter-widgets/controls",
      "_model_module_version": "1.5.0",
      "_model_name": "ProgressStyleModel",
      "_view_count": null,
      "_view_module": "@jupyter-widgets/base",
      "_view_module_version": "1.2.0",
      "_view_name": "StyleView",
      "bar_color": null,
      "description_width": "initial"
     }
    },
    "84e76f2cf6dd4612a293c801ee058e51": {
     "model_module": "@jupyter-widgets/controls",
     "model_name": "HTMLModel",
     "state": {
      "_dom_classes": [],
      "_model_module": "@jupyter-widgets/controls",
      "_model_module_version": "1.5.0",
      "_model_name": "HTMLModel",
      "_view_count": null,
      "_view_module": "@jupyter-widgets/controls",
      "_view_module_version": "1.5.0",
      "_view_name": "HTMLView",
      "description": "",
      "description_tooltip": null,
      "layout": "IPY_MODEL_a7e7f5671ab74bb49d322d2588580b85",
      "placeholder": "​",
      "style": "IPY_MODEL_562a8ca477e24b4b8b105b22f7ef55f8",
      "value": " 15/15 [05:26&lt;00:00, 21.78s/it]"
     }
    },
    "8547c58419bc454996e345e0efa26c3b": {
     "model_module": "@jupyter-widgets/controls",
     "model_name": "HBoxModel",
     "state": {
      "_dom_classes": [],
      "_model_module": "@jupyter-widgets/controls",
      "_model_module_version": "1.5.0",
      "_model_name": "HBoxModel",
      "_view_count": null,
      "_view_module": "@jupyter-widgets/controls",
      "_view_module_version": "1.5.0",
      "_view_name": "HBoxView",
      "box_style": "",
      "children": [
       "IPY_MODEL_51ca4b9715a5438dbba0a9fde6d934c3",
       "IPY_MODEL_b5bfb869c90649249c1bfcdf17d81e30"
      ],
      "layout": "IPY_MODEL_36da55771c074b159efa602606b6aafa"
     }
    },
    "8565b01b4a324e54b29d36ca07d36db3": {
     "model_module": "@jupyter-widgets/base",
     "model_name": "LayoutModel",
     "state": {
      "_model_module": "@jupyter-widgets/base",
      "_model_module_version": "1.2.0",
      "_model_name": "LayoutModel",
      "_view_count": null,
      "_view_module": "@jupyter-widgets/base",
      "_view_module_version": "1.2.0",
      "_view_name": "LayoutView",
      "align_content": null,
      "align_items": null,
      "align_self": null,
      "border": null,
      "bottom": null,
      "display": null,
      "flex": null,
      "flex_flow": null,
      "grid_area": null,
      "grid_auto_columns": null,
      "grid_auto_flow": null,
      "grid_auto_rows": null,
      "grid_column": null,
      "grid_gap": null,
      "grid_row": null,
      "grid_template_areas": null,
      "grid_template_columns": null,
      "grid_template_rows": null,
      "height": null,
      "justify_content": null,
      "justify_items": null,
      "left": null,
      "margin": null,
      "max_height": null,
      "max_width": null,
      "min_height": null,
      "min_width": null,
      "object_fit": null,
      "object_position": null,
      "order": null,
      "overflow": null,
      "overflow_x": null,
      "overflow_y": null,
      "padding": null,
      "right": null,
      "top": null,
      "visibility": null,
      "width": null
     }
    },
    "87ee326fba7b497faed479f11e64db71": {
     "model_module": "@jupyter-widgets/controls",
     "model_name": "HTMLModel",
     "state": {
      "_dom_classes": [],
      "_model_module": "@jupyter-widgets/controls",
      "_model_module_version": "1.5.0",
      "_model_name": "HTMLModel",
      "_view_count": null,
      "_view_module": "@jupyter-widgets/controls",
      "_view_module_version": "1.5.0",
      "_view_name": "HTMLView",
      "description": "",
      "description_tooltip": null,
      "layout": "IPY_MODEL_8a36105af1dc4197817b2024c24fc09d",
      "placeholder": "​",
      "style": "IPY_MODEL_932b2a689534441bb3a677b20619ea03",
      "value": " 40/40 [11:59&lt;00:00, 18.00s/it]"
     }
    },
    "8a36105af1dc4197817b2024c24fc09d": {
     "model_module": "@jupyter-widgets/base",
     "model_name": "LayoutModel",
     "state": {
      "_model_module": "@jupyter-widgets/base",
      "_model_module_version": "1.2.0",
      "_model_name": "LayoutModel",
      "_view_count": null,
      "_view_module": "@jupyter-widgets/base",
      "_view_module_version": "1.2.0",
      "_view_name": "LayoutView",
      "align_content": null,
      "align_items": null,
      "align_self": null,
      "border": null,
      "bottom": null,
      "display": null,
      "flex": null,
      "flex_flow": null,
      "grid_area": null,
      "grid_auto_columns": null,
      "grid_auto_flow": null,
      "grid_auto_rows": null,
      "grid_column": null,
      "grid_gap": null,
      "grid_row": null,
      "grid_template_areas": null,
      "grid_template_columns": null,
      "grid_template_rows": null,
      "height": null,
      "justify_content": null,
      "justify_items": null,
      "left": null,
      "margin": null,
      "max_height": null,
      "max_width": null,
      "min_height": null,
      "min_width": null,
      "object_fit": null,
      "object_position": null,
      "order": null,
      "overflow": null,
      "overflow_x": null,
      "overflow_y": null,
      "padding": null,
      "right": null,
      "top": null,
      "visibility": null,
      "width": null
     }
    },
    "932b2a689534441bb3a677b20619ea03": {
     "model_module": "@jupyter-widgets/controls",
     "model_name": "DescriptionStyleModel",
     "state": {
      "_model_module": "@jupyter-widgets/controls",
      "_model_module_version": "1.5.0",
      "_model_name": "DescriptionStyleModel",
      "_view_count": null,
      "_view_module": "@jupyter-widgets/base",
      "_view_module_version": "1.2.0",
      "_view_name": "StyleView",
      "description_width": ""
     }
    },
    "9f2bc36860534ed8aef6c835184b44bd": {
     "model_module": "@jupyter-widgets/base",
     "model_name": "LayoutModel",
     "state": {
      "_model_module": "@jupyter-widgets/base",
      "_model_module_version": "1.2.0",
      "_model_name": "LayoutModel",
      "_view_count": null,
      "_view_module": "@jupyter-widgets/base",
      "_view_module_version": "1.2.0",
      "_view_name": "LayoutView",
      "align_content": null,
      "align_items": null,
      "align_self": null,
      "border": null,
      "bottom": null,
      "display": null,
      "flex": null,
      "flex_flow": null,
      "grid_area": null,
      "grid_auto_columns": null,
      "grid_auto_flow": null,
      "grid_auto_rows": null,
      "grid_column": null,
      "grid_gap": null,
      "grid_row": null,
      "grid_template_areas": null,
      "grid_template_columns": null,
      "grid_template_rows": null,
      "height": null,
      "justify_content": null,
      "justify_items": null,
      "left": null,
      "margin": null,
      "max_height": null,
      "max_width": null,
      "min_height": null,
      "min_width": null,
      "object_fit": null,
      "object_position": null,
      "order": null,
      "overflow": null,
      "overflow_x": null,
      "overflow_y": null,
      "padding": null,
      "right": null,
      "top": null,
      "visibility": null,
      "width": null
     }
    },
    "a67ccd3725cf45a1a25345a7e0642970": {
     "model_module": "@jupyter-widgets/controls",
     "model_name": "FloatProgressModel",
     "state": {
      "_dom_classes": [],
      "_model_module": "@jupyter-widgets/controls",
      "_model_module_version": "1.5.0",
      "_model_name": "FloatProgressModel",
      "_view_count": null,
      "_view_module": "@jupyter-widgets/controls",
      "_view_module_version": "1.5.0",
      "_view_name": "ProgressView",
      "bar_style": "success",
      "description": "100%",
      "description_tooltip": null,
      "layout": "IPY_MODEL_9f2bc36860534ed8aef6c835184b44bd",
      "max": 15,
      "min": 0,
      "orientation": "horizontal",
      "style": "IPY_MODEL_cd2c633e624b40999ef47bd267f2c0f8",
      "value": 15
     }
    },
    "a7e7f5671ab74bb49d322d2588580b85": {
     "model_module": "@jupyter-widgets/base",
     "model_name": "LayoutModel",
     "state": {
      "_model_module": "@jupyter-widgets/base",
      "_model_module_version": "1.2.0",
      "_model_name": "LayoutModel",
      "_view_count": null,
      "_view_module": "@jupyter-widgets/base",
      "_view_module_version": "1.2.0",
      "_view_name": "LayoutView",
      "align_content": null,
      "align_items": null,
      "align_self": null,
      "border": null,
      "bottom": null,
      "display": null,
      "flex": null,
      "flex_flow": null,
      "grid_area": null,
      "grid_auto_columns": null,
      "grid_auto_flow": null,
      "grid_auto_rows": null,
      "grid_column": null,
      "grid_gap": null,
      "grid_row": null,
      "grid_template_areas": null,
      "grid_template_columns": null,
      "grid_template_rows": null,
      "height": null,
      "justify_content": null,
      "justify_items": null,
      "left": null,
      "margin": null,
      "max_height": null,
      "max_width": null,
      "min_height": null,
      "min_width": null,
      "object_fit": null,
      "object_position": null,
      "order": null,
      "overflow": null,
      "overflow_x": null,
      "overflow_y": null,
      "padding": null,
      "right": null,
      "top": null,
      "visibility": null,
      "width": null
     }
    },
    "aa8a440d23744a55bd8f7db7a3bc25f2": {
     "model_module": "@jupyter-widgets/controls",
     "model_name": "ProgressStyleModel",
     "state": {
      "_model_module": "@jupyter-widgets/controls",
      "_model_module_version": "1.5.0",
      "_model_name": "ProgressStyleModel",
      "_view_count": null,
      "_view_module": "@jupyter-widgets/base",
      "_view_module_version": "1.2.0",
      "_view_name": "StyleView",
      "bar_color": null,
      "description_width": "initial"
     }
    },
    "ac9026f3f23e436c854018ae1de43a42": {
     "model_module": "@jupyter-widgets/controls",
     "model_name": "ProgressStyleModel",
     "state": {
      "_model_module": "@jupyter-widgets/controls",
      "_model_module_version": "1.5.0",
      "_model_name": "ProgressStyleModel",
      "_view_count": null,
      "_view_module": "@jupyter-widgets/base",
      "_view_module_version": "1.2.0",
      "_view_name": "StyleView",
      "bar_color": null,
      "description_width": "initial"
     }
    },
    "b5429ebf4b584d178038c771f9bb0723": {
     "model_module": "@jupyter-widgets/controls",
     "model_name": "HTMLModel",
     "state": {
      "_dom_classes": [],
      "_model_module": "@jupyter-widgets/controls",
      "_model_module_version": "1.5.0",
      "_model_name": "HTMLModel",
      "_view_count": null,
      "_view_module": "@jupyter-widgets/controls",
      "_view_module_version": "1.5.0",
      "_view_name": "HTMLView",
      "description": "",
      "description_tooltip": null,
      "layout": "IPY_MODEL_d96038316d84470d8319eecffa3557e4",
      "placeholder": "​",
      "style": "IPY_MODEL_178bfb86d79b4ad18c2521bbe0abed95",
      "value": " 15/15 [03:03&lt;00:00, 12.21s/it]"
     }
    },
    "b5bfb869c90649249c1bfcdf17d81e30": {
     "model_module": "@jupyter-widgets/controls",
     "model_name": "HTMLModel",
     "state": {
      "_dom_classes": [],
      "_model_module": "@jupyter-widgets/controls",
      "_model_module_version": "1.5.0",
      "_model_name": "HTMLModel",
      "_view_count": null,
      "_view_module": "@jupyter-widgets/controls",
      "_view_module_version": "1.5.0",
      "_view_name": "HTMLView",
      "description": "",
      "description_tooltip": null,
      "layout": "IPY_MODEL_6823d90781404c428491897148dce760",
      "placeholder": "​",
      "style": "IPY_MODEL_42ba341f75b44a5fae5d7ad590798731",
      "value": " 15/15 [02:51&lt;00:00, 11.42s/it]"
     }
    },
    "b6b95f1623054799ba8e8a80abd8a587": {
     "model_module": "@jupyter-widgets/controls",
     "model_name": "ProgressStyleModel",
     "state": {
      "_model_module": "@jupyter-widgets/controls",
      "_model_module_version": "1.5.0",
      "_model_name": "ProgressStyleModel",
      "_view_count": null,
      "_view_module": "@jupyter-widgets/base",
      "_view_module_version": "1.2.0",
      "_view_name": "StyleView",
      "bar_color": null,
      "description_width": "initial"
     }
    },
    "bdb5b71eaca64e5e98972a7f962d3194": {
     "model_module": "@jupyter-widgets/controls",
     "model_name": "HBoxModel",
     "state": {
      "_dom_classes": [],
      "_model_module": "@jupyter-widgets/controls",
      "_model_module_version": "1.5.0",
      "_model_name": "HBoxModel",
      "_view_count": null,
      "_view_module": "@jupyter-widgets/controls",
      "_view_module_version": "1.5.0",
      "_view_name": "HBoxView",
      "box_style": "",
      "children": [
       "IPY_MODEL_ea97fa95436b49b4a0e16d60cea9696c",
       "IPY_MODEL_87ee326fba7b497faed479f11e64db71"
      ],
      "layout": "IPY_MODEL_8565b01b4a324e54b29d36ca07d36db3"
     }
    },
    "c27e2f844c124bd98e810e669f48515a": {
     "model_module": "@jupyter-widgets/base",
     "model_name": "LayoutModel",
     "state": {
      "_model_module": "@jupyter-widgets/base",
      "_model_module_version": "1.2.0",
      "_model_name": "LayoutModel",
      "_view_count": null,
      "_view_module": "@jupyter-widgets/base",
      "_view_module_version": "1.2.0",
      "_view_name": "LayoutView",
      "align_content": null,
      "align_items": null,
      "align_self": null,
      "border": null,
      "bottom": null,
      "display": null,
      "flex": null,
      "flex_flow": null,
      "grid_area": null,
      "grid_auto_columns": null,
      "grid_auto_flow": null,
      "grid_auto_rows": null,
      "grid_column": null,
      "grid_gap": null,
      "grid_row": null,
      "grid_template_areas": null,
      "grid_template_columns": null,
      "grid_template_rows": null,
      "height": null,
      "justify_content": null,
      "justify_items": null,
      "left": null,
      "margin": null,
      "max_height": null,
      "max_width": null,
      "min_height": null,
      "min_width": null,
      "object_fit": null,
      "object_position": null,
      "order": null,
      "overflow": null,
      "overflow_x": null,
      "overflow_y": null,
      "padding": null,
      "right": null,
      "top": null,
      "visibility": null,
      "width": null
     }
    },
    "c998664ab8264676b9aaaec172d3d904": {
     "model_module": "@jupyter-widgets/base",
     "model_name": "LayoutModel",
     "state": {
      "_model_module": "@jupyter-widgets/base",
      "_model_module_version": "1.2.0",
      "_model_name": "LayoutModel",
      "_view_count": null,
      "_view_module": "@jupyter-widgets/base",
      "_view_module_version": "1.2.0",
      "_view_name": "LayoutView",
      "align_content": null,
      "align_items": null,
      "align_self": null,
      "border": null,
      "bottom": null,
      "display": null,
      "flex": null,
      "flex_flow": null,
      "grid_area": null,
      "grid_auto_columns": null,
      "grid_auto_flow": null,
      "grid_auto_rows": null,
      "grid_column": null,
      "grid_gap": null,
      "grid_row": null,
      "grid_template_areas": null,
      "grid_template_columns": null,
      "grid_template_rows": null,
      "height": null,
      "justify_content": null,
      "justify_items": null,
      "left": null,
      "margin": null,
      "max_height": null,
      "max_width": null,
      "min_height": null,
      "min_width": null,
      "object_fit": null,
      "object_position": null,
      "order": null,
      "overflow": null,
      "overflow_x": null,
      "overflow_y": null,
      "padding": null,
      "right": null,
      "top": null,
      "visibility": null,
      "width": null
     }
    },
    "cd2c633e624b40999ef47bd267f2c0f8": {
     "model_module": "@jupyter-widgets/controls",
     "model_name": "ProgressStyleModel",
     "state": {
      "_model_module": "@jupyter-widgets/controls",
      "_model_module_version": "1.5.0",
      "_model_name": "ProgressStyleModel",
      "_view_count": null,
      "_view_module": "@jupyter-widgets/base",
      "_view_module_version": "1.2.0",
      "_view_name": "StyleView",
      "bar_color": null,
      "description_width": "initial"
     }
    },
    "d1218d23122946299a1513d357aefad6": {
     "model_module": "@jupyter-widgets/controls",
     "model_name": "HTMLModel",
     "state": {
      "_dom_classes": [],
      "_model_module": "@jupyter-widgets/controls",
      "_model_module_version": "1.5.0",
      "_model_name": "HTMLModel",
      "_view_count": null,
      "_view_module": "@jupyter-widgets/controls",
      "_view_module_version": "1.5.0",
      "_view_name": "HTMLView",
      "description": "",
      "description_tooltip": null,
      "layout": "IPY_MODEL_51838218d65a4fccaa6786655ec09978",
      "placeholder": "​",
      "style": "IPY_MODEL_e2137d336f764be0937935c36724de6b",
      "value": " 100/100 [10:20&lt;00:00,  6.21s/it]"
     }
    },
    "d4db91c25b264519b9f4a2ddd08359fb": {
     "model_module": "@jupyter-widgets/controls",
     "model_name": "ProgressStyleModel",
     "state": {
      "_model_module": "@jupyter-widgets/controls",
      "_model_module_version": "1.5.0",
      "_model_name": "ProgressStyleModel",
      "_view_count": null,
      "_view_module": "@jupyter-widgets/base",
      "_view_module_version": "1.2.0",
      "_view_name": "StyleView",
      "bar_color": null,
      "description_width": "initial"
     }
    },
    "d6493a1e017645a7a05a774490976dc5": {
     "model_module": "@jupyter-widgets/controls",
     "model_name": "HBoxModel",
     "state": {
      "_dom_classes": [],
      "_model_module": "@jupyter-widgets/controls",
      "_model_module_version": "1.5.0",
      "_model_name": "HBoxModel",
      "_view_count": null,
      "_view_module": "@jupyter-widgets/controls",
      "_view_module_version": "1.5.0",
      "_view_name": "HBoxView",
      "box_style": "",
      "children": [
       "IPY_MODEL_6e8e0e93c57d40268016a8a5e36e4542",
       "IPY_MODEL_84e76f2cf6dd4612a293c801ee058e51"
      ],
      "layout": "IPY_MODEL_e239335288aa4a7f944ac683a4135798"
     }
    },
    "d7990d6376634333a97f56f1183110ae": {
     "model_module": "@jupyter-widgets/controls",
     "model_name": "HBoxModel",
     "state": {
      "_dom_classes": [],
      "_model_module": "@jupyter-widgets/controls",
      "_model_module_version": "1.5.0",
      "_model_name": "HBoxModel",
      "_view_count": null,
      "_view_module": "@jupyter-widgets/controls",
      "_view_module_version": "1.5.0",
      "_view_name": "HBoxView",
      "box_style": "",
      "children": [
       "IPY_MODEL_179a3e6bd7ca422bb06a9beac5314f6e",
       "IPY_MODEL_362fa5ebc67a4f3294041130b9c62536"
      ],
      "layout": "IPY_MODEL_e1eabea1636f4d8e942b0fc5056017ec"
     }
    },
    "d96038316d84470d8319eecffa3557e4": {
     "model_module": "@jupyter-widgets/base",
     "model_name": "LayoutModel",
     "state": {
      "_model_module": "@jupyter-widgets/base",
      "_model_module_version": "1.2.0",
      "_model_name": "LayoutModel",
      "_view_count": null,
      "_view_module": "@jupyter-widgets/base",
      "_view_module_version": "1.2.0",
      "_view_name": "LayoutView",
      "align_content": null,
      "align_items": null,
      "align_self": null,
      "border": null,
      "bottom": null,
      "display": null,
      "flex": null,
      "flex_flow": null,
      "grid_area": null,
      "grid_auto_columns": null,
      "grid_auto_flow": null,
      "grid_auto_rows": null,
      "grid_column": null,
      "grid_gap": null,
      "grid_row": null,
      "grid_template_areas": null,
      "grid_template_columns": null,
      "grid_template_rows": null,
      "height": null,
      "justify_content": null,
      "justify_items": null,
      "left": null,
      "margin": null,
      "max_height": null,
      "max_width": null,
      "min_height": null,
      "min_width": null,
      "object_fit": null,
      "object_position": null,
      "order": null,
      "overflow": null,
      "overflow_x": null,
      "overflow_y": null,
      "padding": null,
      "right": null,
      "top": null,
      "visibility": null,
      "width": null
     }
    },
    "df3d287d60074fa1a5efa9de80816e52": {
     "model_module": "@jupyter-widgets/controls",
     "model_name": "HBoxModel",
     "state": {
      "_dom_classes": [],
      "_model_module": "@jupyter-widgets/controls",
      "_model_module_version": "1.5.0",
      "_model_name": "HBoxModel",
      "_view_count": null,
      "_view_module": "@jupyter-widgets/controls",
      "_view_module_version": "1.5.0",
      "_view_name": "HBoxView",
      "box_style": "",
      "children": [
       "IPY_MODEL_a67ccd3725cf45a1a25345a7e0642970",
       "IPY_MODEL_b5429ebf4b584d178038c771f9bb0723"
      ],
      "layout": "IPY_MODEL_5f4419e926a143ec8328341a0cff6106"
     }
    },
    "e1eabea1636f4d8e942b0fc5056017ec": {
     "model_module": "@jupyter-widgets/base",
     "model_name": "LayoutModel",
     "state": {
      "_model_module": "@jupyter-widgets/base",
      "_model_module_version": "1.2.0",
      "_model_name": "LayoutModel",
      "_view_count": null,
      "_view_module": "@jupyter-widgets/base",
      "_view_module_version": "1.2.0",
      "_view_name": "LayoutView",
      "align_content": null,
      "align_items": null,
      "align_self": null,
      "border": null,
      "bottom": null,
      "display": null,
      "flex": null,
      "flex_flow": null,
      "grid_area": null,
      "grid_auto_columns": null,
      "grid_auto_flow": null,
      "grid_auto_rows": null,
      "grid_column": null,
      "grid_gap": null,
      "grid_row": null,
      "grid_template_areas": null,
      "grid_template_columns": null,
      "grid_template_rows": null,
      "height": null,
      "justify_content": null,
      "justify_items": null,
      "left": null,
      "margin": null,
      "max_height": null,
      "max_width": null,
      "min_height": null,
      "min_width": null,
      "object_fit": null,
      "object_position": null,
      "order": null,
      "overflow": null,
      "overflow_x": null,
      "overflow_y": null,
      "padding": null,
      "right": null,
      "top": null,
      "visibility": null,
      "width": null
     }
    },
    "e2137d336f764be0937935c36724de6b": {
     "model_module": "@jupyter-widgets/controls",
     "model_name": "DescriptionStyleModel",
     "state": {
      "_model_module": "@jupyter-widgets/controls",
      "_model_module_version": "1.5.0",
      "_model_name": "DescriptionStyleModel",
      "_view_count": null,
      "_view_module": "@jupyter-widgets/base",
      "_view_module_version": "1.2.0",
      "_view_name": "StyleView",
      "description_width": ""
     }
    },
    "e239335288aa4a7f944ac683a4135798": {
     "model_module": "@jupyter-widgets/base",
     "model_name": "LayoutModel",
     "state": {
      "_model_module": "@jupyter-widgets/base",
      "_model_module_version": "1.2.0",
      "_model_name": "LayoutModel",
      "_view_count": null,
      "_view_module": "@jupyter-widgets/base",
      "_view_module_version": "1.2.0",
      "_view_name": "LayoutView",
      "align_content": null,
      "align_items": null,
      "align_self": null,
      "border": null,
      "bottom": null,
      "display": null,
      "flex": null,
      "flex_flow": null,
      "grid_area": null,
      "grid_auto_columns": null,
      "grid_auto_flow": null,
      "grid_auto_rows": null,
      "grid_column": null,
      "grid_gap": null,
      "grid_row": null,
      "grid_template_areas": null,
      "grid_template_columns": null,
      "grid_template_rows": null,
      "height": null,
      "justify_content": null,
      "justify_items": null,
      "left": null,
      "margin": null,
      "max_height": null,
      "max_width": null,
      "min_height": null,
      "min_width": null,
      "object_fit": null,
      "object_position": null,
      "order": null,
      "overflow": null,
      "overflow_x": null,
      "overflow_y": null,
      "padding": null,
      "right": null,
      "top": null,
      "visibility": null,
      "width": null
     }
    },
    "e6d36648d3694c039e9810061a6a445d": {
     "model_module": "@jupyter-widgets/base",
     "model_name": "LayoutModel",
     "state": {
      "_model_module": "@jupyter-widgets/base",
      "_model_module_version": "1.2.0",
      "_model_name": "LayoutModel",
      "_view_count": null,
      "_view_module": "@jupyter-widgets/base",
      "_view_module_version": "1.2.0",
      "_view_name": "LayoutView",
      "align_content": null,
      "align_items": null,
      "align_self": null,
      "border": null,
      "bottom": null,
      "display": null,
      "flex": null,
      "flex_flow": null,
      "grid_area": null,
      "grid_auto_columns": null,
      "grid_auto_flow": null,
      "grid_auto_rows": null,
      "grid_column": null,
      "grid_gap": null,
      "grid_row": null,
      "grid_template_areas": null,
      "grid_template_columns": null,
      "grid_template_rows": null,
      "height": null,
      "justify_content": null,
      "justify_items": null,
      "left": null,
      "margin": null,
      "max_height": null,
      "max_width": null,
      "min_height": null,
      "min_width": null,
      "object_fit": null,
      "object_position": null,
      "order": null,
      "overflow": null,
      "overflow_x": null,
      "overflow_y": null,
      "padding": null,
      "right": null,
      "top": null,
      "visibility": null,
      "width": null
     }
    },
    "e965fe8d62af443ca5fbdc82dc4ab94a": {
     "model_module": "@jupyter-widgets/base",
     "model_name": "LayoutModel",
     "state": {
      "_model_module": "@jupyter-widgets/base",
      "_model_module_version": "1.2.0",
      "_model_name": "LayoutModel",
      "_view_count": null,
      "_view_module": "@jupyter-widgets/base",
      "_view_module_version": "1.2.0",
      "_view_name": "LayoutView",
      "align_content": null,
      "align_items": null,
      "align_self": null,
      "border": null,
      "bottom": null,
      "display": null,
      "flex": null,
      "flex_flow": null,
      "grid_area": null,
      "grid_auto_columns": null,
      "grid_auto_flow": null,
      "grid_auto_rows": null,
      "grid_column": null,
      "grid_gap": null,
      "grid_row": null,
      "grid_template_areas": null,
      "grid_template_columns": null,
      "grid_template_rows": null,
      "height": null,
      "justify_content": null,
      "justify_items": null,
      "left": null,
      "margin": null,
      "max_height": null,
      "max_width": null,
      "min_height": null,
      "min_width": null,
      "object_fit": null,
      "object_position": null,
      "order": null,
      "overflow": null,
      "overflow_x": null,
      "overflow_y": null,
      "padding": null,
      "right": null,
      "top": null,
      "visibility": null,
      "width": null
     }
    },
    "ea97fa95436b49b4a0e16d60cea9696c": {
     "model_module": "@jupyter-widgets/controls",
     "model_name": "FloatProgressModel",
     "state": {
      "_dom_classes": [],
      "_model_module": "@jupyter-widgets/controls",
      "_model_module_version": "1.5.0",
      "_model_name": "FloatProgressModel",
      "_view_count": null,
      "_view_module": "@jupyter-widgets/controls",
      "_view_module_version": "1.5.0",
      "_view_name": "ProgressView",
      "bar_style": "success",
      "description": "100%",
      "description_tooltip": null,
      "layout": "IPY_MODEL_e6d36648d3694c039e9810061a6a445d",
      "max": 40,
      "min": 0,
      "orientation": "horizontal",
      "style": "IPY_MODEL_ac9026f3f23e436c854018ae1de43a42",
      "value": 40
     }
    },
    "eb0a3331632045fe8be65d21b54f1355": {
     "model_module": "@jupyter-widgets/controls",
     "model_name": "HBoxModel",
     "state": {
      "_dom_classes": [],
      "_model_module": "@jupyter-widgets/controls",
      "_model_module_version": "1.5.0",
      "_model_name": "HBoxModel",
      "_view_count": null,
      "_view_module": "@jupyter-widgets/controls",
      "_view_module_version": "1.5.0",
      "_view_name": "HBoxView",
      "box_style": "",
      "children": [
       "IPY_MODEL_ff73fa5593154c74927b157a4349a592",
       "IPY_MODEL_d1218d23122946299a1513d357aefad6"
      ],
      "layout": "IPY_MODEL_19c3b554fcf14a08839b540d5e431521"
     }
    },
    "ed59e559b046482c8cd9d8f169049f5e": {
     "model_module": "@jupyter-widgets/base",
     "model_name": "LayoutModel",
     "state": {
      "_model_module": "@jupyter-widgets/base",
      "_model_module_version": "1.2.0",
      "_model_name": "LayoutModel",
      "_view_count": null,
      "_view_module": "@jupyter-widgets/base",
      "_view_module_version": "1.2.0",
      "_view_name": "LayoutView",
      "align_content": null,
      "align_items": null,
      "align_self": null,
      "border": null,
      "bottom": null,
      "display": null,
      "flex": null,
      "flex_flow": null,
      "grid_area": null,
      "grid_auto_columns": null,
      "grid_auto_flow": null,
      "grid_auto_rows": null,
      "grid_column": null,
      "grid_gap": null,
      "grid_row": null,
      "grid_template_areas": null,
      "grid_template_columns": null,
      "grid_template_rows": null,
      "height": null,
      "justify_content": null,
      "justify_items": null,
      "left": null,
      "margin": null,
      "max_height": null,
      "max_width": null,
      "min_height": null,
      "min_width": null,
      "object_fit": null,
      "object_position": null,
      "order": null,
      "overflow": null,
      "overflow_x": null,
      "overflow_y": null,
      "padding": null,
      "right": null,
      "top": null,
      "visibility": null,
      "width": null
     }
    },
    "ff73fa5593154c74927b157a4349a592": {
     "model_module": "@jupyter-widgets/controls",
     "model_name": "FloatProgressModel",
     "state": {
      "_dom_classes": [],
      "_model_module": "@jupyter-widgets/controls",
      "_model_module_version": "1.5.0",
      "_model_name": "FloatProgressModel",
      "_view_count": null,
      "_view_module": "@jupyter-widgets/controls",
      "_view_module_version": "1.5.0",
      "_view_name": "ProgressView",
      "bar_style": "success",
      "description": "100%",
      "description_tooltip": null,
      "layout": "IPY_MODEL_c998664ab8264676b9aaaec172d3d904",
      "max": 100,
      "min": 0,
      "orientation": "horizontal",
      "style": "IPY_MODEL_b6b95f1623054799ba8e8a80abd8a587",
      "value": 100
     }
    }
   }
  }
 },
 "nbformat": 4,
 "nbformat_minor": 1
}
