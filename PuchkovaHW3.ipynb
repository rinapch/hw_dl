{
 "cells": [
  {
   "cell_type": "markdown",
   "metadata": {
    "id": "WJxDbkCGAOO-"
   },
   "source": [
    "# Домашнее задание 3. \n",
    "\n",
    "## Предсказание пользовательской оценки отеля по тексту отзыва."
   ]
  },
  {
   "cell_type": "markdown",
   "metadata": {
    "id": "ltieg8MPAOO_"
   },
   "source": [
    "Мы собрали для вас отзывы по 1500 отелям из совершенно разных уголков мира. Что это за отели - секрет. Вам дан текст отзыва и пользовательская оценка отеля. Ваша задача - научиться предсказывать оценку отеля по отзыву. Данные можно скачать [тут](https://www.kaggle.com/c/hseds-texts-2020/data?select=train.csv)."
   ]
  },
  {
   "cell_type": "markdown",
   "metadata": {
    "id": "-uxcJRg6AOPA"
   },
   "source": [
    "Главная метрика - Mean Absolute Error (MAE). Во всех частях домашней работы вам нужно получить значение MAE не превышающее 1. В противном случае мы будем вынуждены не засчитать задание :( "
   ]
  },
  {
   "cell_type": "markdown",
   "metadata": {
    "id": "_-njHePCAOPB"
   },
   "source": [
    "Для измерения качества вашей модели используйте разбиение данных на train и test и замеряйте качество на тестовой части."
   ]
  },
  {
   "cell_type": "markdown",
   "metadata": {
    "id": "qKPsv8caAOPB"
   },
   "source": [
    "#### Про данные:\n",
    "Каждое ревью состоит из двух текстов: positive и negative - плюсы и минусы отеля. В столбце score находится оценка пользователя - вещественное число 0 до 10. Вам нужно извлечь признаки из этих текстов и предсказать по ним оценку."
   ]
  },
  {
   "cell_type": "markdown",
   "metadata": {
    "id": "nrTkD2IdAOPB"
   },
   "source": [
    "Удачи! 💪"
   ]
  },
  {
   "cell_type": "markdown",
   "metadata": {
    "id": "R5tT-iQGAOPC"
   },
   "source": [
    "#### Использовать внешние данные для обучения строго запрещено. Можно использовать предобученные модели из torchvision."
   ]
  },
  {
   "cell_type": "code",
   "execution_count": 1,
   "metadata": {
    "colab": {
     "base_uri": "https://localhost:8080/"
    },
    "id": "1qiH63v0Dk_D",
    "outputId": "8260cb7c-a027-4796-d450-59b34a208d69"
   },
   "outputs": [
    {
     "name": "stdout",
     "output_type": "stream",
     "text": [
      "--2020-12-21 00:16:26--  https://www.dropbox.com/s/tfd6kos0rbvkyi4/train.csv.zip\n",
      "Resolving www.dropbox.com (www.dropbox.com)... 162.125.1.18, 2620:100:601a:18::a27d:712\n",
      "Connecting to www.dropbox.com (www.dropbox.com)|162.125.1.18|:443... connected.\n",
      "HTTP request sent, awaiting response... 301 Moved Permanently\n",
      "Location: /s/raw/tfd6kos0rbvkyi4/train.csv.zip [following]\n",
      "--2020-12-21 00:16:26--  https://www.dropbox.com/s/raw/tfd6kos0rbvkyi4/train.csv.zip\n",
      "Reusing existing connection to www.dropbox.com:443.\n",
      "HTTP request sent, awaiting response... 302 Found\n",
      "Location: https://uc2d70666e2cdfd4c849ecb6e19f.dl.dropboxusercontent.com/cd/0/inline/BFcpq53N0HSVG8XGRweFSZjfFGt9LLXb1rGpi5w9IcEG0M5D3ZcRSwX0_ulCM1_7AAP7kVscftFjHr8H-RdVv308ZQoyjOtEEdsKfNhs1aHlGEDn1dkV3ql3UPDGLBL5OiI/file# [following]\n",
      "--2020-12-21 00:16:26--  https://uc2d70666e2cdfd4c849ecb6e19f.dl.dropboxusercontent.com/cd/0/inline/BFcpq53N0HSVG8XGRweFSZjfFGt9LLXb1rGpi5w9IcEG0M5D3ZcRSwX0_ulCM1_7AAP7kVscftFjHr8H-RdVv308ZQoyjOtEEdsKfNhs1aHlGEDn1dkV3ql3UPDGLBL5OiI/file\n",
      "Resolving uc2d70666e2cdfd4c849ecb6e19f.dl.dropboxusercontent.com (uc2d70666e2cdfd4c849ecb6e19f.dl.dropboxusercontent.com)... 162.125.1.15, 2620:100:601a:15::a27d:70f\n",
      "Connecting to uc2d70666e2cdfd4c849ecb6e19f.dl.dropboxusercontent.com (uc2d70666e2cdfd4c849ecb6e19f.dl.dropboxusercontent.com)|162.125.1.15|:443... connected.\n",
      "HTTP request sent, awaiting response... 302 Found\n",
      "Location: /cd/0/inline2/BFc0hfQiCH23G4s1Apegn8Mo6uyh3_EcmKrqafSxSrO8Xvhy7frIgLkVC6c6BfaxQDAqNTTfuUwn0dCEFSdKM402ZLhWCiCYk-w65sCRwGAC7Hi7PzFjddQgAcEjMB_pM3EqlDCx5LuiGFdwwQhp9gGoLfPZkT_JtY3wR5q43YmAas_NphW0yq1hJcBKlgK90jsjdfY4mYPkivnfGt921bM9FJraxt8l0S-yz6DI1WXxmxXDN5hu6RJnIGf3-7mJfwfXcsb70S29OQ9EMVgN2ZsetqirYHsevCJE9IdJtxIbrGG-rT-nCRiL8_2P0Ow4d8ar-HNDgm8iaXIJHJKcWG42r65hdIpLBctL8QbI4w5NLQ/file [following]\n",
      "--2020-12-21 00:16:27--  https://uc2d70666e2cdfd4c849ecb6e19f.dl.dropboxusercontent.com/cd/0/inline2/BFc0hfQiCH23G4s1Apegn8Mo6uyh3_EcmKrqafSxSrO8Xvhy7frIgLkVC6c6BfaxQDAqNTTfuUwn0dCEFSdKM402ZLhWCiCYk-w65sCRwGAC7Hi7PzFjddQgAcEjMB_pM3EqlDCx5LuiGFdwwQhp9gGoLfPZkT_JtY3wR5q43YmAas_NphW0yq1hJcBKlgK90jsjdfY4mYPkivnfGt921bM9FJraxt8l0S-yz6DI1WXxmxXDN5hu6RJnIGf3-7mJfwfXcsb70S29OQ9EMVgN2ZsetqirYHsevCJE9IdJtxIbrGG-rT-nCRiL8_2P0Ow4d8ar-HNDgm8iaXIJHJKcWG42r65hdIpLBctL8QbI4w5NLQ/file\n",
      "Reusing existing connection to uc2d70666e2cdfd4c849ecb6e19f.dl.dropboxusercontent.com:443.\n",
      "HTTP request sent, awaiting response... 200 OK\n",
      "Length: 9205566 (8.8M) [application/zip]\n",
      "Saving to: ‘train.csv.zip’\n",
      "\n",
      "train.csv.zip       100%[===================>]   8.78M  46.2MB/s    in 0.2s    \n",
      "\n",
      "2020-12-21 00:16:27 (46.2 MB/s) - ‘train.csv.zip’ saved [9205566/9205566]\n",
      "\n"
     ]
    }
   ],
   "source": [
    "!wget https://www.dropbox.com/s/tfd6kos0rbvkyi4/train.csv.zip #снова выложила на дропбокс\n",
    "!unzip -q train.csv.zip"
   ]
  },
  {
   "cell_type": "code",
   "execution_count": 2,
   "metadata": {
    "colab": {
     "base_uri": "https://localhost:8080/"
    },
    "id": "lB33T8sPDReU",
    "outputId": "4607c52d-ffb1-4b25-ab15-e84fc4157467"
   },
   "outputs": [
    {
     "name": "stdout",
     "output_type": "stream",
     "text": [
      "total 31272\n",
      "-rw-r--r-- 1 root root 22811739 Oct 12 11:12 train.csv\n",
      "-rw-r--r-- 1 root root  9205566 Dec 21 00:16 train.csv.zip\n"
     ]
    }
   ],
   "source": [
    "!ls -l"
   ]
  },
  {
   "cell_type": "code",
   "execution_count": 3,
   "metadata": {
    "colab": {
     "base_uri": "https://localhost:8080/",
     "height": 197
    },
    "id": "UAfiqnImAOPC",
    "outputId": "99f0f720-207e-4e27-c984-58648d9e84fb"
   },
   "outputs": [
    {
     "data": {
      "text/html": [
       "<div>\n",
       "<style scoped>\n",
       "    .dataframe tbody tr th:only-of-type {\n",
       "        vertical-align: middle;\n",
       "    }\n",
       "\n",
       "    .dataframe tbody tr th {\n",
       "        vertical-align: top;\n",
       "    }\n",
       "\n",
       "    .dataframe thead th {\n",
       "        text-align: right;\n",
       "    }\n",
       "</style>\n",
       "<table border=\"1\" class=\"dataframe\">\n",
       "  <thead>\n",
       "    <tr style=\"text-align: right;\">\n",
       "      <th></th>\n",
       "      <th>review_id</th>\n",
       "      <th>negative</th>\n",
       "      <th>positive</th>\n",
       "      <th>score</th>\n",
       "    </tr>\n",
       "  </thead>\n",
       "  <tbody>\n",
       "    <tr>\n",
       "      <th>0</th>\n",
       "      <td>00003c6036f30f590c0ac435efb8739b</td>\n",
       "      <td>There were issues with the wifi connection</td>\n",
       "      <td>No Positive</td>\n",
       "      <td>7.1</td>\n",
       "    </tr>\n",
       "    <tr>\n",
       "      <th>1</th>\n",
       "      <td>00004d18f186bf2489590dc415876f73</td>\n",
       "      <td>TV not working</td>\n",
       "      <td>No Positive</td>\n",
       "      <td>7.5</td>\n",
       "    </tr>\n",
       "    <tr>\n",
       "      <th>2</th>\n",
       "      <td>0000cf900cbb8667fad33a717e9b1cf4</td>\n",
       "      <td>More pillows</td>\n",
       "      <td>Beautiful room Great location Lovely staff</td>\n",
       "      <td>10.0</td>\n",
       "    </tr>\n",
       "    <tr>\n",
       "      <th>3</th>\n",
       "      <td>0000df16edf19e7ad9dd8c5cd6f6925e</td>\n",
       "      <td>Very business</td>\n",
       "      <td>Location</td>\n",
       "      <td>5.4</td>\n",
       "    </tr>\n",
       "    <tr>\n",
       "      <th>4</th>\n",
       "      <td>00025e1aa3ac32edb496db49e76bbd00</td>\n",
       "      <td>Rooms could do with a bit of a refurbishment ...</td>\n",
       "      <td>Nice breakfast handy for Victoria train stati...</td>\n",
       "      <td>6.7</td>\n",
       "    </tr>\n",
       "  </tbody>\n",
       "</table>\n",
       "</div>"
      ],
      "text/plain": [
       "                          review_id  ... score\n",
       "0  00003c6036f30f590c0ac435efb8739b  ...   7.1\n",
       "1  00004d18f186bf2489590dc415876f73  ...   7.5\n",
       "2  0000cf900cbb8667fad33a717e9b1cf4  ...  10.0\n",
       "3  0000df16edf19e7ad9dd8c5cd6f6925e  ...   5.4\n",
       "4  00025e1aa3ac32edb496db49e76bbd00  ...   6.7\n",
       "\n",
       "[5 rows x 4 columns]"
      ]
     },
     "execution_count": 3,
     "metadata": {
      "tags": []
     },
     "output_type": "execute_result"
    }
   ],
   "source": [
    "import pandas as pd\n",
    "\n",
    "df = pd.read_csv('train.csv')\n",
    "df.head()"
   ]
  },
  {
   "cell_type": "markdown",
   "metadata": {
    "id": "XekwvGtTAOPD"
   },
   "source": [
    "Предобработка текста может сказываться на качестве вашей модели.\n",
    "Сделаем небольшой препроцессинг текстов: удалим знаки препинания, приведем все слова к нижнему регистру. \n",
    "Однако можно не ограничиваться этим набором преобразований. Подумайте, что еще можно сделать с текстами, чтобы помочь будущим моделям? Добавьте преобразования, которые могли бы помочь по вашему мнению."
   ]
  },
  {
   "cell_type": "markdown",
   "metadata": {
    "id": "vCkq31OMAOPD"
   },
   "source": [
    "Также мы добавили разбиение текстов на токены. Теперь каждая строка-ревью стала массивом токенов."
   ]
  },
  {
   "cell_type": "code",
   "execution_count": 4,
   "metadata": {
    "colab": {
     "base_uri": "https://localhost:8080/"
    },
    "id": "HdLLcMlNAOPD",
    "outputId": "a5141f76-7768-40d9-a990-f79c0adb7214"
   },
   "outputs": [
    {
     "name": "stdout",
     "output_type": "stream",
     "text": [
      "[nltk_data] Downloading package punkt to /root/nltk_data...\n",
      "[nltk_data]   Package punkt is already up-to-date!\n"
     ]
    }
   ],
   "source": [
    "import string\n",
    "\n",
    "import nltk\n",
    "nltk.download('punkt')\n",
    "\n",
    "from nltk.tokenize import word_tokenize\n",
    "\n",
    "def process_text(text):\n",
    "    return [word for word in word_tokenize(text.lower()) if word not in string.punctuation]"
   ]
  },
  {
   "cell_type": "code",
   "execution_count": 5,
   "metadata": {
    "id": "hqSgePXJQ6oz"
   },
   "outputs": [],
   "source": [
    "df[\"combined\"] = df['positive'] + \" \" + df['negative'] #создаю колонку с объединенными отзывами"
   ]
  },
  {
   "cell_type": "code",
   "execution_count": 6,
   "metadata": {
    "id": "-qG5ROUXAOPE"
   },
   "outputs": [],
   "source": [
    "from sklearn.model_selection import train_test_split\n",
    "\n",
    "df_train, df_test = train_test_split(df)"
   ]
  },
  {
   "cell_type": "code",
   "execution_count": 7,
   "metadata": {
    "colab": {
     "base_uri": "https://localhost:8080/",
     "height": 406
    },
    "id": "QP7O4TmFEwjG",
    "outputId": "2b7fdd61-643c-4763-ec20-66e6be83e0ae"
   },
   "outputs": [
    {
     "data": {
      "text/html": [
       "<div>\n",
       "<style scoped>\n",
       "    .dataframe tbody tr th:only-of-type {\n",
       "        vertical-align: middle;\n",
       "    }\n",
       "\n",
       "    .dataframe tbody tr th {\n",
       "        vertical-align: top;\n",
       "    }\n",
       "\n",
       "    .dataframe thead th {\n",
       "        text-align: right;\n",
       "    }\n",
       "</style>\n",
       "<table border=\"1\" class=\"dataframe\">\n",
       "  <thead>\n",
       "    <tr style=\"text-align: right;\">\n",
       "      <th></th>\n",
       "      <th>review_id</th>\n",
       "      <th>negative</th>\n",
       "      <th>positive</th>\n",
       "      <th>score</th>\n",
       "      <th>combined</th>\n",
       "    </tr>\n",
       "  </thead>\n",
       "  <tbody>\n",
       "    <tr>\n",
       "      <th>95629</th>\n",
       "      <td>f4beb7e9823c3e8ef4649566e83723c0</td>\n",
       "      <td>No complaints</td>\n",
       "      <td>The central location and helpfulness of the s...</td>\n",
       "      <td>10.0</td>\n",
       "      <td>The central location and helpfulness of the s...</td>\n",
       "    </tr>\n",
       "    <tr>\n",
       "      <th>58681</th>\n",
       "      <td>96397d76375291d8695127eabd226734</td>\n",
       "      <td>I arrived by car yet the parking at the hotel...</td>\n",
       "      <td>Very nice and helpful reception staff who eve...</td>\n",
       "      <td>8.3</td>\n",
       "      <td>Very nice and helpful reception staff who eve...</td>\n",
       "    </tr>\n",
       "    <tr>\n",
       "      <th>16939</th>\n",
       "      <td>2bcb04df5bd528b90ee3b256af9aa5ef</td>\n",
       "      <td>difficult to work out the lights</td>\n",
       "      <td>comfy bed quietness</td>\n",
       "      <td>9.2</td>\n",
       "      <td>comfy bed quietness  difficult to work out th...</td>\n",
       "    </tr>\n",
       "    <tr>\n",
       "      <th>80844</th>\n",
       "      <td>cea93ce65c2f7258d351944fb63863df</td>\n",
       "      <td>No Negative</td>\n",
       "      <td>Great location wonderful staff they were so a...</td>\n",
       "      <td>10.0</td>\n",
       "      <td>Great location wonderful staff they were so a...</td>\n",
       "    </tr>\n",
       "    <tr>\n",
       "      <th>6616</th>\n",
       "      <td>114a53636bc5f19cc84572deeb7fb31e</td>\n",
       "      <td>No Negative</td>\n",
       "      <td>The receptionist was fantastic Friendly helpf...</td>\n",
       "      <td>9.2</td>\n",
       "      <td>The receptionist was fantastic Friendly helpf...</td>\n",
       "    </tr>\n",
       "    <tr>\n",
       "      <th>...</th>\n",
       "      <td>...</td>\n",
       "      <td>...</td>\n",
       "      <td>...</td>\n",
       "      <td>...</td>\n",
       "      <td>...</td>\n",
       "    </tr>\n",
       "    <tr>\n",
       "      <th>77968</th>\n",
       "      <td>c77985be69f0e6e9d580e45bca9f09b0</td>\n",
       "      <td>The room was tiny situated next to an elevato...</td>\n",
       "      <td>The location</td>\n",
       "      <td>5.8</td>\n",
       "      <td>The location  The room was tiny situated next...</td>\n",
       "    </tr>\n",
       "    <tr>\n",
       "      <th>6183</th>\n",
       "      <td>1009a618ce0e33cd41c87249ddde22cb</td>\n",
       "      <td>Service could have been better at the rooftop...</td>\n",
       "      <td>Large apartment well furnished well stocked k...</td>\n",
       "      <td>10.0</td>\n",
       "      <td>Large apartment well furnished well stocked k...</td>\n",
       "    </tr>\n",
       "    <tr>\n",
       "      <th>96891</th>\n",
       "      <td>f7ee540edc80b650d7ea6fdd57e727de</td>\n",
       "      <td>The temperature of the water in the bathroom ...</td>\n",
       "      <td>They went out of their way to make us feel we...</td>\n",
       "      <td>9.6</td>\n",
       "      <td>They went out of their way to make us feel we...</td>\n",
       "    </tr>\n",
       "    <tr>\n",
       "      <th>47418</th>\n",
       "      <td>79c21509cef8889edf7f084e0368fc0d</td>\n",
       "      <td>Length of time to process credit card reversal</td>\n",
       "      <td>Staff coutoeous</td>\n",
       "      <td>7.1</td>\n",
       "      <td>Staff coutoeous  Length of time to process cr...</td>\n",
       "    </tr>\n",
       "    <tr>\n",
       "      <th>39446</th>\n",
       "      <td>653f87aca258c6d26dd7e47a0932485b</td>\n",
       "      <td>Hardly any toiletries in the bathroom barely ...</td>\n",
       "      <td>Great spa Central and super convenient location</td>\n",
       "      <td>6.3</td>\n",
       "      <td>Great spa Central and super convenient locati...</td>\n",
       "    </tr>\n",
       "  </tbody>\n",
       "</table>\n",
       "<p>75000 rows × 5 columns</p>\n",
       "</div>"
      ],
      "text/plain": [
       "                              review_id  ...                                           combined\n",
       "95629  f4beb7e9823c3e8ef4649566e83723c0  ...   The central location and helpfulness of the s...\n",
       "58681  96397d76375291d8695127eabd226734  ...   Very nice and helpful reception staff who eve...\n",
       "16939  2bcb04df5bd528b90ee3b256af9aa5ef  ...   comfy bed quietness  difficult to work out th...\n",
       "80844  cea93ce65c2f7258d351944fb63863df  ...   Great location wonderful staff they were so a...\n",
       "6616   114a53636bc5f19cc84572deeb7fb31e  ...   The receptionist was fantastic Friendly helpf...\n",
       "...                                 ...  ...                                                ...\n",
       "77968  c77985be69f0e6e9d580e45bca9f09b0  ...   The location  The room was tiny situated next...\n",
       "6183   1009a618ce0e33cd41c87249ddde22cb  ...   Large apartment well furnished well stocked k...\n",
       "96891  f7ee540edc80b650d7ea6fdd57e727de  ...   They went out of their way to make us feel we...\n",
       "47418  79c21509cef8889edf7f084e0368fc0d  ...   Staff coutoeous  Length of time to process cr...\n",
       "39446  653f87aca258c6d26dd7e47a0932485b  ...   Great spa Central and super convenient locati...\n",
       "\n",
       "[75000 rows x 5 columns]"
      ]
     },
     "execution_count": 7,
     "metadata": {
      "tags": []
     },
     "output_type": "execute_result"
    }
   ],
   "source": [
    "df_train"
   ]
  },
  {
   "cell_type": "markdown",
   "metadata": {
    "id": "oFmopYrhAOPE"
   },
   "source": [
    "### Часть 1. 1 балл"
   ]
  },
  {
   "cell_type": "markdown",
   "metadata": {
    "id": "MujuxVNXAOPE"
   },
   "source": [
    "Обучите логистическую регрессию на TF-IDF векторах текстов."
   ]
  },
  {
   "cell_type": "code",
   "execution_count": 8,
   "metadata": {
    "id": "lg4LrseiAOPE"
   },
   "outputs": [],
   "source": [
    "from sklearn.feature_extraction.text import TfidfVectorizer\n",
    "from sklearn.linear_model import LinearRegression"
   ]
  },
  {
   "cell_type": "code",
   "execution_count": 9,
   "metadata": {
    "id": "GjrTWiRxK2-M"
   },
   "outputs": [],
   "source": [
    "vectorizer = TfidfVectorizer(min_df=0.001, max_df=0.20) #выкидываю слишком частотные слова, это дает сильно лучше качество"
   ]
  },
  {
   "cell_type": "code",
   "execution_count": 10,
   "metadata": {
    "id": "EERfYUfKZyY4"
   },
   "outputs": [],
   "source": [
    "tfidf_train = df_train['combined']"
   ]
  },
  {
   "cell_type": "code",
   "execution_count": 11,
   "metadata": {
    "id": "RPJgKOciZ5Wn"
   },
   "outputs": [],
   "source": [
    "tfidf_test = df_test['combined']"
   ]
  },
  {
   "cell_type": "code",
   "execution_count": 12,
   "metadata": {
    "id": "SHZRCpqYMIW6"
   },
   "outputs": [],
   "source": [
    "tfidf_train = vectorizer.fit_transform(tfidf_train)"
   ]
  },
  {
   "cell_type": "code",
   "execution_count": 13,
   "metadata": {
    "id": "6qsN4GjiT67Y"
   },
   "outputs": [],
   "source": [
    "tfidf_test = vectorizer.transform(tfidf_test)"
   ]
  },
  {
   "cell_type": "code",
   "execution_count": 14,
   "metadata": {
    "id": "zAbcnAMPUSta"
   },
   "outputs": [],
   "source": [
    "lr_model = LinearRegression()"
   ]
  },
  {
   "cell_type": "code",
   "execution_count": 15,
   "metadata": {
    "colab": {
     "base_uri": "https://localhost:8080/"
    },
    "id": "W5GjEWi9UJzL",
    "outputId": "0d85c032-7076-46a9-e4d5-c8ec913bb7d2"
   },
   "outputs": [
    {
     "data": {
      "text/plain": [
       "LinearRegression(copy_X=True, fit_intercept=True, n_jobs=None, normalize=False)"
      ]
     },
     "execution_count": 15,
     "metadata": {
      "tags": []
     },
     "output_type": "execute_result"
    }
   ],
   "source": [
    "lr_model.fit(tfidf_train, df_train['score'])"
   ]
  },
  {
   "cell_type": "code",
   "execution_count": 16,
   "metadata": {
    "id": "RFPDkDSJXUN7"
   },
   "outputs": [],
   "source": [
    "from sklearn.metrics import mean_absolute_error"
   ]
  },
  {
   "cell_type": "code",
   "execution_count": 17,
   "metadata": {
    "colab": {
     "base_uri": "https://localhost:8080/"
    },
    "id": "bJ0e2wcBXmnK",
    "outputId": "bad65661-b5f6-45dd-9349-623ab83c978c"
   },
   "outputs": [
    {
     "data": {
      "text/plain": [
       "0.9170463960050025"
      ]
     },
     "execution_count": 17,
     "metadata": {
      "tags": []
     },
     "output_type": "execute_result"
    }
   ],
   "source": [
    "mean_absolute_error(lr_model.predict(tfidf_test), df_test['score'])"
   ]
  },
  {
   "cell_type": "markdown",
   "metadata": {
    "id": "01nz_Kz2dkb5"
   },
   "source": [
    "Параметры для tf-idf взяла на рандом [отсюда](https://www.programcreek.com/python/example/83254/sklearn.feature_extraction.text.TfidfVectorizer\n",
    ")"
   ]
  },
  {
   "cell_type": "markdown",
   "metadata": {
    "id": "wIHAp0GqAOPF"
   },
   "source": [
    "### Часть 2. 3 балла"
   ]
  },
  {
   "cell_type": "markdown",
   "metadata": {
    "id": "83kLJIewAOPF"
   },
   "source": [
    "Обучите логистическую регрессию на усредненных Word2Vec векторах. "
   ]
  },
  {
   "cell_type": "code",
   "execution_count": 18,
   "metadata": {
    "id": "u2_gNreGhwlI"
   },
   "outputs": [],
   "source": [
    "from gensim.models import Word2Vec "
   ]
  },
  {
   "cell_type": "code",
   "execution_count": 19,
   "metadata": {
    "id": "2zhOOdRjvrTK"
   },
   "outputs": [],
   "source": [
    "wv_train = df_train['combined'].apply(process_text)"
   ]
  },
  {
   "cell_type": "code",
   "execution_count": 20,
   "metadata": {
    "id": "lBOhq7EGjGGR"
   },
   "outputs": [],
   "source": [
    "wv_test = df_test['combined'].apply(process_text)"
   ]
  },
  {
   "cell_type": "code",
   "execution_count": 21,
   "metadata": {
    "colab": {
     "base_uri": "https://localhost:8080/"
    },
    "id": "siS5DC9ywPyA",
    "outputId": "d4fb4137-77e3-47ff-c743-9e3c32d1b323"
   },
   "outputs": [
    {
     "data": {
      "text/plain": [
       "95629    [the, central, location, and, helpfulness, of,...\n",
       "58681    [very, nice, and, helpful, reception, staff, w...\n",
       "16939    [comfy, bed, quietness, difficult, to, work, o...\n",
       "80844    [great, location, wonderful, staff, they, were...\n",
       "6616     [the, receptionist, was, fantastic, friendly, ...\n",
       "                               ...                        \n",
       "77968    [the, location, the, room, was, tiny, situated...\n",
       "6183     [large, apartment, well, furnished, well, stoc...\n",
       "96891    [they, went, out, of, their, way, to, make, us...\n",
       "47418    [staff, coutoeous, length, of, time, to, proce...\n",
       "39446    [great, spa, central, and, super, convenient, ...\n",
       "Name: combined, Length: 75000, dtype: object"
      ]
     },
     "execution_count": 21,
     "metadata": {
      "tags": []
     },
     "output_type": "execute_result"
    }
   ],
   "source": [
    "wv_train #создаю датасет с разбитыми по спискам строками, чтоб потом это скормить w2v"
   ]
  },
  {
   "cell_type": "code",
   "execution_count": 22,
   "metadata": {
    "id": "U1jqdH89AOPF"
   },
   "outputs": [],
   "source": [
    "w2v_one = Word2Vec(sentences=wv_train, size= 100)"
   ]
  },
  {
   "cell_type": "code",
   "execution_count": 23,
   "metadata": {
    "colab": {
     "base_uri": "https://localhost:8080/"
    },
    "id": "MYJow8SRrnek",
    "outputId": "a138fba6-9334-428c-91ff-2683407e9d3c"
   },
   "outputs": [
    {
     "data": {
      "text/plain": [
       "[('views', 0.8429781794548035),\n",
       " ('balcony', 0.6779142618179321),\n",
       " ('overlooking', 0.6252285242080688),\n",
       " ('terrace', 0.5896338224411011),\n",
       " ('inner', 0.5553147792816162),\n",
       " ('courtyard', 0.5219959616661072),\n",
       " ('yard', 0.5116060972213745),\n",
       " ('facing', 0.5106635689735413),\n",
       " ('tower', 0.5021057724952698),\n",
       " ('veiw', 0.49938350915908813)]"
      ]
     },
     "execution_count": 23,
     "metadata": {
      "tags": []
     },
     "output_type": "execute_result"
    }
   ],
   "source": [
    "w2v_one.wv.most_similar(positive=[\"view\"])"
   ]
  },
  {
   "cell_type": "code",
   "execution_count": 24,
   "metadata": {
    "id": "hn86l-oKyS-4"
   },
   "outputs": [],
   "source": [
    "import numpy as np "
   ]
  },
  {
   "cell_type": "code",
   "execution_count": 25,
   "metadata": {
    "colab": {
     "base_uri": "https://localhost:8080/"
    },
    "id": "rDW01pWkyOAN",
    "outputId": "58612ced-5cb6-4fa6-b1f5-959c8ebe434e"
   },
   "outputs": [
    {
     "data": {
      "text/plain": [
       "array([3, 8])"
      ]
     },
     "execution_count": 25,
     "metadata": {
      "tags": []
     },
     "output_type": "execute_result"
    }
   ],
   "source": [
    "np.array([2,3]) + np.array([1,5])"
   ]
  },
  {
   "cell_type": "code",
   "execution_count": 26,
   "metadata": {
    "id": "0pNb58OIryM6"
   },
   "outputs": [],
   "source": [
    "def sent_w2v(sentence, model):\n",
    "    fin = np.array([0]*model.vector_size) #этот вектор будет подстраиваться под размер эмбеддинга\n",
    "    for word in sentence:\n",
    "        if word in model.wv.vocab.keys(): #проверяю, что слово есть в словаре, т.к. в этом задании я не обучала w2v на тестовой выборке -> там могут\n",
    "            fin = fin + model[word] #быть не встречавшиеся в трейне слова \n",
    "        else: \n",
    "            pass\n",
    "    return fin/np.array(len(sentence) + 1e-2) #на случай пустой строки добавляю копеечку"
   ]
  },
  {
   "cell_type": "code",
   "execution_count": 27,
   "metadata": {
    "id": "HcE9qqfMh2Gc"
   },
   "outputs": [],
   "source": [
    "def df_w2v(df, model):\n",
    "    new = [sent_w2v(item, model) for item in df]\n",
    "    return new"
   ]
  },
  {
   "cell_type": "code",
   "execution_count": 28,
   "metadata": {
    "colab": {
     "base_uri": "https://localhost:8080/"
    },
    "id": "C3q61dbKihjP",
    "outputId": "68148e40-5e0b-43e8-8f15-201912d3ba75"
   },
   "outputs": [
    {
     "name": "stderr",
     "output_type": "stream",
     "text": [
      "/usr/local/lib/python3.6/dist-packages/ipykernel_launcher.py:5: DeprecationWarning: Call to deprecated `__getitem__` (Method will be removed in 4.0.0, use self.wv.__getitem__() instead).\n",
      "  \"\"\"\n"
     ]
    }
   ],
   "source": [
    "v2w_train1 = df_w2v(wv_train, w2v_one)"
   ]
  },
  {
   "cell_type": "code",
   "execution_count": 29,
   "metadata": {
    "colab": {
     "base_uri": "https://localhost:8080/"
    },
    "id": "KzH4J9VIi_nv",
    "outputId": "e8e8fb7e-c1fa-41ce-95ea-72e12cea4da3"
   },
   "outputs": [
    {
     "name": "stderr",
     "output_type": "stream",
     "text": [
      "/usr/local/lib/python3.6/dist-packages/ipykernel_launcher.py:5: DeprecationWarning: Call to deprecated `__getitem__` (Method will be removed in 4.0.0, use self.wv.__getitem__() instead).\n",
      "  \"\"\"\n"
     ]
    }
   ],
   "source": [
    "v2w_test1 = df_w2v(wv_test, w2v_one)"
   ]
  },
  {
   "cell_type": "code",
   "execution_count": 30,
   "metadata": {
    "colab": {
     "base_uri": "https://localhost:8080/"
    },
    "id": "gwVTFBL3jQT0",
    "outputId": "51d0e128-b2cd-47d9-e1ae-54b6968a0ae9"
   },
   "outputs": [
    {
     "data": {
      "text/plain": [
       "LinearRegression(copy_X=True, fit_intercept=True, n_jobs=None, normalize=False)"
      ]
     },
     "execution_count": 30,
     "metadata": {
      "tags": []
     },
     "output_type": "execute_result"
    }
   ],
   "source": [
    "lr_model.fit(v2w_train1, df_train['score'])"
   ]
  },
  {
   "cell_type": "code",
   "execution_count": 31,
   "metadata": {
    "colab": {
     "base_uri": "https://localhost:8080/"
    },
    "id": "nOwx8eBKua4X",
    "outputId": "995b50f9-a231-4c94-af5c-263791dd4895"
   },
   "outputs": [
    {
     "data": {
      "text/plain": [
       "1.0456613864519437"
      ]
     },
     "execution_count": 31,
     "metadata": {
      "tags": []
     },
     "output_type": "execute_result"
    }
   ],
   "source": [
    "mae1 = mean_absolute_error(lr_model.predict(v2w_test1), df_test['score'])\n",
    "mae1"
   ]
  },
  {
   "cell_type": "markdown",
   "metadata": {
    "id": "8FE4OHXeAOPF"
   },
   "source": [
    "Усредняя w2v вектора, мы предполагаем, что каждое слово имеет равноценный вклад в смысл предложения, однако это может быть не совсем так. Теперь попробуйте воспользоваться другой концепцией и перевзвесить слова при получении итогового эмбеддинга текста. В качестве весов используйте IDF (Inverse document frequency)"
   ]
  },
  {
   "cell_type": "markdown",
   "metadata": {
    "id": "wxgPytgr8RP7"
   },
   "source": [
    "Сначала обучу tf-idf vectorizer, чтоб он выдавал idf "
   ]
  },
  {
   "cell_type": "code",
   "execution_count": 32,
   "metadata": {
    "id": "H1KGqKQ28Qrh"
   },
   "outputs": [],
   "source": [
    "vectorizer2 = TfidfVectorizer(use_idf=True, vocabulary=w2v_one.wv.vocab.keys()) #ищем idf по тем же словам, что посутпили в ворд ту век "
   ]
  },
  {
   "cell_type": "code",
   "execution_count": 33,
   "metadata": {
    "colab": {
     "base_uri": "https://localhost:8080/"
    },
    "id": "kQQ_0F-j9hD8",
    "outputId": "be783e39-ef77-4fea-b23d-c4729ab5be4a"
   },
   "outputs": [
    {
     "data": {
      "text/plain": [
       "TfidfVectorizer(analyzer='word', binary=False, decode_error='strict',\n",
       "                dtype=<class 'numpy.float64'>, encoding='utf-8',\n",
       "                input='content', lowercase=True, max_df=1.0, max_features=None,\n",
       "                min_df=1, ngram_range=(1, 1), norm='l2', preprocessor=None,\n",
       "                smooth_idf=True, stop_words=None, strip_accents=None,\n",
       "                sublinear_tf=False, token_pattern='(?u)\\\\b\\\\w\\\\w+\\\\b',\n",
       "                tokenizer=None, use...\n",
       "                vocabulary=dict_keys(['the', 'central', 'location', 'and', 'helpfulness', 'of', 'staff', 'plus', 'breakfast', 'no', 'complaints', 'very', 'nice', 'helpful', 'reception', 'who', 'even', 'gave', 'us', 'some', 'great', 'tips', 'little', 'known', 'less', 'touristic', 'places', 'you', 'can', 'rent', 'bikes', 'at', 'hotel', 'which', 'saves', 'trouble', 'looking', 'for', 'a', 'rental', 'place', 'is', 'close', 'to', 'city', 'centre', 'thus', 'just', 'short', 'away', 'from', 'all', 'locations', 'i', 'arrived', 'by', 'car', 'yet', 'parking', 'itself', 'was', 'quite', 'expensive', 'around', '35', 'euro', 'per', 'day', 'quality', 'beds', 'not', 've', 'had', 'better', 'experiences', 'money', 'in', 'past', 'room', 'has', 'view', 'on', 'waterfront', 'but', 'interior', 'design', 'dated', 'with', 'e', 'g', 'fixed', 'obvious', 'yellow', 'comfy', 'bed', 'quietness', 'difficult', 'work', 'out', 'lights', 'wonderful', 'they', 'were', 'so', 'accommodating', 'definitely', 'staying', 'here', 'again', 'negative', 'receptionist', 'fantastic', 'friendly', 'professional', 'as', 'other', 'reviews', 'this', 'perfect', 'getting', 'london', 'are', 'courteous', 'rooms', 'spotlessly', 'clean', 'comfortable', 'size', 'couple', 'an', 'added', 'bonus', 'seeing', 'st', 'pauls', 'cathedral', 'our', 'window', 'awesome', 'we', 'didn', 't', 'experience', 'any', 'noise', 'problems', 'difficulty', 'off', 'sleep', 'will', 'make', 'choice', 'whenever', 'visit', 'think', 'anything', 'complete', 'expect', '4', 'star', 'good', 'service', 'however', 'thin', 'blanket', 'either', 'hot', 'or', 'cold', 'been', 'asking', 'extra', 'it', 'poor', 'hanging', 'phone', 'tea', 'coffee', 'glasses', 'replaced', 'after', 'use', 'door', 'bathroom', 'closing', 'well', 'bath', 'gels', 'body', 'creams', 'closet', 'missing', 'more', 'than', 'half', 'hangers', 'when', 'entered', 'near', 'highway', '10', 'min', 'train', 'big', 'ok', 'price', 'unfriendly', 'garage', 'access', 'bit', 'too', 'public', 'transport', 'only', 'few', 'stops', 'small', 'decor', 'modern', 'spacious', 'extremely', 'fitness', 'center', 'adequate', 'equipment', 'offering', 'superb', 'there', 'plenty', 'options', 'kept', 'welcoming', 'my', 'amazing', 'exceeded', 'expectations', 'nothing', 'facilities', 'really', 'enjoyed', 'stay', 'quiet', 'lovely', 'ambience', 'charge', '23', 'cooked', 'high', 'went', 'corner', 'petit', 'world', 'spent', '1', 'night', 'executive', 'suite', 'how', 'lives', 'couldn', 'do', 'every', 'inch', 'opulence', 'creates', 'special', 'atmosphere', 'guests', 'fortunately', 'home', 'somewhere', 'unique', 'what', 'wasn', 'like', 'much', 'chef', 'dinner', 'restaurant', 'excellent', 'kitchen', 'interesting', 'type', 'elevators', 'spa', 'cinema', 'restaurants', 'could', 'be', 'slow', 'liked', 'cafe', 'meals', 'drinks', 'abbey', 'road', 'studios', 'crossing', '15', 'minute', 'walk', 'noisy', 'construction', 'across', 'street', 'that', 'sleeping', 'during', 'bar', 'buffet', 'accidentally', 'selected', 'cancellation', 'booking', 'com', 'marriott', 'property', 'would', 'let', 'me', 'change', 'though', 'am', 'rewards', 'member', 'probably', 'have', 'stayed', 'anyway', 'wanted', 'option', 'everything', 'important', 'area', 'paris', 'large', 'local', 'standards', 'reach', 'easy', 'tourist', 'attractions', 'metro', 'value', 'highly', 'recommend', 'transportation', 'kind', 'perfectly', 'equipped', 'awful', 'exellent', 'app', 'office', 'patio', 'also', 'loved', 'simple', 'delightful', 'balcony', 'outside', 'being', 'closed', 'main', 'station', 'hbf', 'decent', 'internet', 'connection', 'far', 'entrance', 'tranquility', 'hotels', 'airport', 'courtesy', 'vehicle', 'between', 'hours', '11', '30', 'almost', '17', '00', 'pay', 'taxi', 'guest', '18', 'positive', 'needed', 'tube', 'early', 'sunday', 'morning', 'before', 'ferry', 'open', '5', 'inconvenient', 'its', 'fair', 'stations', 'dont', 'ask', 'book', 'friends', 'drivers', 'pass', 'charges', 'moulin', 'rouge', 'booked', 'through', '20', '40', 'back', '1am', 'thought', 'asked', '8', '80', 'working', 'olympia', 'smelly', 'corridors', 'wi', 'fi', 'free', 'seems', 'outdated', 'situation', 'de', 'l', 'un', 'du', 'parents', 'double', 'aspect', 'cheerful', 'site', 'plates', 'food', 'lukewarm', 'enough', 'table', 'drawers', 'nowhere', 'put', 'toiletries', 'shower', 'lacking', 'if', 'came', 'later', 'most', 'empty', 'served', 'until', '11am', 'many', 'items', 'refused', 'shame', 'because', 'sausages', 'flooded', 'bottom', 'sheet', 'dirty', 'card', 'refresh', 'done', 'best', 'situated', 'calm', 'next', 'damn', 'square', '7', 'squares', 'red', 'light', 'district', 'family', 'don', 'want', 'notice', 'means', 'decorations', 'facing', 'buildings', 'included', '3', 'although', 'two', 'provide', 'tour', 'services', 'reasonably', 'priced', 'enterance', 'typical', 'radisson', 'blu', 'bad', 'smell', 'days', 'cups', 'smelled', 'wider', 'adding', 'one', 'thing', 'about', 'chain', 'late', 'check', 'pm', 'fault', 'general', 'please', 'improve', 'always', 'issue', 'providing', 'lotion', 'bottles', 'water', 'fact', 'eat', 'return', 'show', 'takeaway', 'meal', 'drink', 'chill', 'weren', 'able', 'go', 'pubs', '12', 'year', 'old', 'concierge', 'incredibly', 'gorgeous', 'boutique', 'tiny', 'fine', 'having', 'said', 's', 'expected', 'going', 'pretty', 'decided', 'disneyland', 'first', 'got', 'last', 'cleaners', 'took', 'presents', 'both', 'advise', 'straight', 'cleaner', 'send', 'email', 'leaving', 'waited', 'hear', 'something', 'received', 'then', 'upon', 'myself', 'them', 'replied', 'saying', 'proof', 'did', 'find', 'acceptable', 'response', 'their', 'still', 'weeks', 'uncomfortable', 'someone', 'things', 'told', 'needs', 'decorating', 'accommodations', 'towels', 'bedroom', 'appeared', 'changed', 'prior', 'arrival', 'quickly', 'rectified', 'call', 'supper', 'powerful', 'showers', 'deep', 'links', 'spots', 'tower', 'bridge', 'pudding', 'lane', 'fire', 'monument', 'fresh', 'pint', 'milk', 'mini', 'available', 'romantic', 'loads', 'touches', 'personal', 'anonymous', 'neat', 'especially', 'against', 'rest', 'busy', 'person', 'another', 'help', 'directions', 'recommendations', 'etc', 'accessories', 'such', 'map', 'eiffel', 'ideal', 'long', 'expecting', 'paid', 'friend', 'wanting', 'rush', 'catch', 'counter', 'take', 'time', 'complementary', 'stand', 'up', 'stained', 'questionable', 'upto', 'hilton', 'dining', 'full', 'groups', 'attractive', 'glamour', 'facility', 'sites', 'interest', 'via', 'walking', 'times', 'performed', 'payment', 'system', 'second', 'removed', 'credit', 'staffed', 'sized', 'cleaning', 'fabulous', 'down', 'lift', 'reminiscent', 'waiting', 'bus', 'won', 'annoying', 'organic', 'nonsense', 'seemed', 'each', 'while', 'wonder', 'number', 'trees', 'cut', 'produce', 'leaflets', 'queues', '2', 'emphasis', 'normal', 'usual', 'least', 'three', 'sachets', 'average', 'cuppa', 'fifteen', 'mins', 'pressed', 'ground', 'others', 'floor', 'real', 'problem', 'ice', 'bucket', 'useless', 'bottle', 'champagne', 'safes', '6', 'apple', 'products', 'computer', 'user', 'sewing', 'kit', 'related', 'boxes', 'everywhere', 'soap', '9', 'hair', 'shampoo', 'conditioner', 're', 'upstairs', 'sink', 'collecting', 'grime', 'looked', 'grubby', 'way', 'folding', 'information', 'counted', 'twenty', 'telling', 'toilet', 'paper', 'joke', 'already', 'upgrade', 'aswell', 'town', 'wasnt', 'tram', 'takes', 'get', 'enjoy', 'views', 'ride', 'environment', 'relatively', 'areas', 'underground', 'nearby', 'aldgate', 'hill', 'required', 'fast', 'casual', 'bars', 'minutes', 'shopping', 'sightseeing', 'theatres', 'brilliant', 'fluffy', 'selection', 'tv', 'moved', 'without', 'kettle', 'hairdryer', 'informing', 'apology', 'tatty', 'serious', 'need', 'decoration', 'upgrading', 'new', 'where', 'leave', 'bags', 'beginning', 'end', 'four', 'people', 'huge', 'wifi', 'devices', 'possibly', 'overall', 'cloud', 'unbelievable', 'extraordinary', 'young', 'man', 'named', 'level', 'comfort', 'accommodation', 'throughout', 'rooftop', '360', 'degree', 'panoramic', 'cocktails', 'la', 'ramblas', 'unable', 'checkout', 'despite', 'compensated', 'somewhat', 'casa', 'barcelona', 'bringing', 'together', 'greatest', 'companies', 'libertine', 'satan', 'serves', 'breakfasts', 'accompanied', 'undoubtedly', 'laid', 'attention', 'detail', 'roof', 'terrace', 'swing', 'imagine', 'unfortunately', 'should', 'escape', 'd', 'particularly', 'seating', 'disabled', 'understand', 'why', 'pre', 'inviting', 'uneven', 'tiled', 'felt', 'unsafe', 'bare', 'feet', 'mould', 'grouting', 'onto', 'generator', 'awake', 'loud', 'considering', 'six', 'hour', 'drive', 'following', 'corridor', 'leading', 'tired', 'give', 'impression', 'disappointed', 'wouldnt', 'manager', 'made', 'feel', 'welcome', 'sushi', 'dusty', 'inspiring', 'genuinely', 'girls', 'desk', 'biggest', 'wish', 'convenient', 'museum', 'quarter', 'middle', 'famous', 'streets', 'hyde', 'park', 'picadilly', 'generous', 'along', 'coffe', 'supplied', 'pantry', 'order', 'fashioned', 'sheets', 'blankets', 'summer', 'duvet', 'air', 'con', 'blast', 'happens', 'delicious', 'lunch', 'cosy', 'claustrophobic', 'found', 'pressure', 'weak', 'pleased', 'break', 'quirky', 'willingness', 'solve', 'receive', 'used', 'subway', 'cool', 'stop', 'baker', 'neighborhood', 'surrounded', 'beautiful', 'houses', 'lot', 'oxford', 'shops', 'super', 'maybe', 'isn', 'feels', 'own', 'apartment', 'inside', 'stuff', 'glass', 'doors', 'separate', 'blinds', 'baby', 'pillows', 'liking', 'positioned', 'narrow', 'space', 'deluxe', 'cleanliness', 'outstanding', 'handy', 'provided', 'plugs', 'm', '100', 'basement', 'below', 'requested', 'met', 'dungeon', 'basically', 'appealing', 'different', 'countries', 'customers', 'effort', 'into', 'daughters', 'birthday', 'balloons', 'note', 'cake', 'teddy', 'bear', 'sweet', 'opinion', 'furniture', 'pictures', 'ceiling', 'skirting', 'walls', 'cookies', 'gym', 'cost', '11th', 'a4', 'plug', 'brick', 'wall', 'dissatisfied', 'lounge', 'swimming', 'pool', 'appointed', 'bitten', 'legs', 'badly', 'sure', 'wouldn', 'wedding', 'anniversary', 'theatre', 'blind', 'cross', 'yummy', 'drain', 'plumbing', 'talk', 'esp', 'incredible', 'distance', 'brings', '7min', 'machine', 'touch', 'report', 'raise', 'relation', 'commute', 'tasty', 'indicate', 'allocated', 'regarding', 'instance', 'based', 'millennium', 'add', 'continental', '55', 'x', 'vouchers', 'see', 'voucher', 'alot', 'yogurt', 'bowl', 'cereal', 'juice', 'upgraded', 'prefect', 'spaciousness', 'thick', 'white', 'cotton', 'firm', 'linen', 'amenities', 'presented', 'nespresso', 'daily', 'replenishment', 'pods', 'fully', 'stocked', 'glazed', 'windows', 'block', 'curtains', 'sit', 'couch', 'daughter', 'happy', 'forever', 'memories', 'pull', 'slippers', 'robes', 'superior', 'range', 'hard', 'movies', 'partner', 'hardly', 'move', 'luckily', 'feeling', 'stuffy', 'right', 'champs', 'elysee', 'steps', 'george', 'v', 'directly', 'connected', 'bigger', 'charles', 'rer', 'cafes', 'including', 'chocolate', 'desserts', 'centers', 'monoprix', 'zara', 'h', 'brands', 'louis', 'queen', 'addition', 'sofa', 'accomodate', 'shown', 'junior', 'top', 'dinning', 'turned', 'euros', 'frankly', 'worth', 'since', 'planning', 'heating', 'worked', 'blessing', 'temperature', 'c', 'freezing', 'safe', 'fridge', 'writing', 'chair', 'impractical', 'toilette', 'washing', 'basin', 'bathtub', 'spacy', 'mirror', 'located', 'prime', 'importance', 'apply', 'makeup', 'easily', 'lighting', 'separately', 'electricity', 'sockets', 'chargers', 'believe', 'placed', 'higher', 'easier', 'realized', 'shut', 'once', 'lamp', 'practical', 'wash', 'your', 'hands', 'using', 'may', 'become', 'prefers', 'pants', 'joking', 'lol', 'meant', 'bicycle', 'avaliable', 'behind', 'over', 'weekend', 'within', 'store', 'meeting', 'lack', 'packets', 'sugar', 'vienna', 'informative', 'sound', 'adjacent', 'talking', 'playing', 'members', 'polite', 'attentive', 'warm', 'hotter', 'details', 'features', 'music', 'lobby', 'dismissive', 'greeting', 'rude', 'photo', 'id', 'know', 'house', 'tone', 'security', 'informed', 'arriving', 'require', 'activate', 'infact', 'anyone', 'come', 'ace', 'friendlier', 'attitude', 'humour', 'customer', 'stylish', 'valet', 'menu', 'opt', 'front', 'signal', 'condition', 'refrigerator', 'obviously', 'tate', 'britain', 'given', 'cookie', 'queue', 'understaffed', 'volume', 'tables', 'cleared', 'disappointing', 'terms', 'furnishings', 'certainly', 'luxury', 'hoped', 'locatio', 'heart', 'sants', 'trip', 'became', 'twin', 'checking', 'homemade', 'pastries', 'smart', 'position', 'river', 'son', 'side', 'appreciated', 'thanks', 'hope', 'tell', '30am', 'boat', 'bank', 'embankment', 'weekdays', 'transfers', 'caf', '24', 'helps', 'english', 'chanels', 'european', 'roomy', 'spoke', 'german', 'round', 'pleasant', 'complaint', 'sinks', 'hold', 'husband', 'trying', 'shave', 'none', 'deal', 'u', 'wheelchair', 'highest', 'accommodated', 'instantly', 'simply', 'impeccable', 'orange', 'whilst', 'pieces', 'clearly', 'worn', 'atmospheric', 'crooked', 'cell', 'charged', 'generally', 'helpfull', 'plan', 'april', 'ready', 'walks', 'duplex', 'returning', 'multiple', 'satisfied', 'overlooking', 'vibe', 'total', 'isolation', 'doing', 'job', 'andre', 'john', 'desperately', 'tried', 'due', 'strike', 'sincere', 'efforts', 'alexandra', 'exemplary', 'returned', 'smile', 'marc', '103', 'sky', 'yo', 'sun', 'events', 'wellness', 'club', '33', 'must', 'massage', 'training', 'bliss', 'pedrera', 'passeig', 'gr', 'cia', 'totally', 'apologetic', 'mainly', '73', 'linate', 'walked', 'milan', 'coming', 'stunning', 'dear', 'does', 'living', 'line', 'justified', '20min', 'visited', 'trendy', 'traditional', 'navigli', 'contemporary', 'properly', 'rate', 'louvre', 'latin', 'fairly', 'offered', 'suffering', 'jet', 'lag', 'knocked', 'hinges', 'additional', 'italian', 'ratio', '50', 'contact', 'lacked', 'fluent', 'disturb', 'sign', 'team', 'entering', 'ignoring', 'deposit', 'gbp', 'works', 'friendliness', 'unclean', 'congress', 'lock', 'fix', 'possible', 'airco', 'unpleasant', 'baths', 'jacuzzi', 'lady', 'checked', 'foot', 'dream', 'lucky', 'sitting', 'enormous', 'luxurious', 'pity', 'efficient', 'making', 'wait', 'evening', 'dark', 'apart', 'alternative', 'arrangement', 'ridiculous', 'rather', 'treat', '40th', 'crew', 'case', 'lots', 'elevator', 'suitcases', 'carried', 'flight', 'stairs', 'variety', 'ever', 'gluten', 'request', 'penny', 'sauna', 'bathrobe', 'shaving', 'genius', 'till', '6pm', 'pure', 'single', 'absolutely', 'variations', 'exceptional', 'beers', 'look', 'date', 'confortable', 'else', 'yelling', 'control', 'twice', 'afternoon', 'apparent', 'reason', 'immediately', 'doesn', 'toilets', 'often', 'buckingham', 'palace', 'gardens', 'dressed', 'doormen', 'favourite', 'idea', 'fifth', 'apparently', 'addressed', '85', 'eur', 'exec', 'remote', 'screen', 'smallest', 'mold', 'knocking', 'cheap', 'scum', 'edge', 'barely', 'tinned', 'mushrooms', 'egg', 'electrics', 'stopped', 'dryer', 'wimbledon', 'stair', 'carpet', 'ones', 'terrible', 'eye', 'alarm', 'above', 'broken', 'bedding', 'standard', 'flat', 'low', 'priority', 'suggest', 'discussed', '52', 'porter', 'skills', 'tasteful', 'try', 'depressed', 'accused', 'paying', 'love', 'supermarket', 'll', 'refer', 'brighter', 'vegetarian', 'nd', 'cakes', 'bread', 'same', 'horrible', 'cor', 'milano', 'travel', 'specious', 'vegetables', 'fruits', 'receptions', 'iron', 'laundry', 'fab', 'dressing', 'gown', 'west', 'part', 'amsterdam', 'menus', 'parks', 'land', 'rail', 'beach', 'relaxing', 'beaches', 'excelent', 'called', 'premier', 'unacceptable', 'nightmare', 'lumpy', 'ensured', 'states', 'wrote', 'unreasonable', 'difference', 'compensate', 'confused', 'neither', 'state', 'shot', 'stated', 'ignored', 'fashionable', 'kitchenette', '22', 'nor', 'vending', 'remark', 'relocate', 'finally', 'communal', 'funeral', 'gets', 'frustrated', 'these', 'avoid', 'particular', 'route', 'enter', 'opening', 'soon', 'mouse', 'downstairs', 'dealing', 'years', 'respect', 'those', 'happen', 'manageable', 'direct', 'minibar', 'surprise', 'wife', 'uk', 'picked', 'conveniently', 'serving', 'regard', 'minor', 'point', 'otherwise', 'dinners', 'attend', 'royal', 'albert', 'hall', 'natural', 'history', 'poky', 'under', 'hitting', 'shabby', 'carpets', 'mum', '70th', 'ordered', 'eggs', 'head', 'woken', '05', 'weekday', 'handled', 'accurately', 'tub', 'fill', 'limited', 'example', 'croissant', 'rain', 'trams', 'buses', 'trains', 'yuk', 'keeping', 'improving', 'occasion', 'defect', 'bedside', 'issues', 'reported', 'immediate', 'action', 'loft', 'larger', 'suit', 'male', 'traffic', 'staffs', 'reasonable', 'mattress', 'steak', 'perfection', 'recall', 'heavy', 'sounds', 'stupid', 'oh', 'regulate', 'ac', 'flies', 'tree', 'dock', 'bathrooms', 'becoming', 'downtown', 'transfer', 'sometimes', '16th', 'moving', 'chairs', '17th', 'plastic', 'housekeeping', 'tissue', 'third', 'remain', 'washroom', 'quick', 'nobody', 'approachable', 'medium', 'newly', 'refurbished', 'might', 'preference', 'tricky', '16', 'punch', 'intimate', 'appropriate', 'adjustment', 'indeed', '15mins', 'mayfair', 'exercise', 'management', 'successful', 'outcome', 'achieved', 'budget', 'noted', 'according', 'list', 'biscuits', 'shortbread', 'sparsely', 'alone', 'sell', 'stuck', 'kids', 'jumping', 'drains', 'proximity', 'gare', 'nord', 'equivalent', 'prices', 'crazy', 'drab', 'basic', 'displayed', 'various', 'web', 'moorgate', 'tubes', 'calling', 'overheated', 'winter', 'softer', 'compact', 'newspapers', 'slamming', 'personel', 'dust', 'rum', '8th', 'salad', 'tomato', 'thank', 'knowledgeable', 'doorman', 'showed', 'grown', 'unhelpful', 'downright', 'amazingly', 'concert', 'attended', 'specific', 'channels', 'atleast', 'channel', 'nicely', 'furnished', 'comfier', 'pollution', 'travelled', 'museums', 'sixth', 'shuttle', 'cheaper', 'regular', 'residential', 'conditioning', 'wet', 'style', 'sch', 'nbrunn', 'comfiest', 'iv', 'slept', 'housekeepers', 'switching', 'pipes', 'highlighted', 'thanked', 'letting', 'steep', 'ate', 'da', 'vinci', 'breakfest', 'makers', 'whatever', 'fruit', 'juices', 'kinds', 'salty', 'comasina', 'mind', 'write', 'comment', 'mention', 'weird', 'eating', 'bought', 'okay', 'gesture', 'allegedly', 'strong', 'fried', 'cooking', 'oil', 'soundproof', 'class', '9th', 'cash', 'shard', 'landmarks', 'plentiful', 'never', 'mentioned', 'cigarette', 'ends', 'thrown', 'patrons', 'funky', 'lines', 'accross', 'crowded', 'host', 'incl', 'swiftly', 'politeness', 'disturbing', 'answer', 'holiday', 'wearing', 'business', 'clerks', 'waiters', 'keepers', 'exceptionally', 'centraal', 'additionally', 'rijksmuseum', 'van', 'gogh', 'accessed', 'occasionally', 'log', 'activities', 'patient', 'spotless', 'caused', 'inefficient', 'ventilation', 'complimentary', 'policy', 'recommended', 'tap', 'surprised', 'ambiance', 'bright', 'thames', 'provision', 'forward', 'finding', 'piece', 'experienced', 'lie', 'mean', 'percent', 'bill', 'paul', 'buy', 'classic', 'bird', 'luggage', 'kindle', 'left', 'prosecco', '25', 'th', 'k', 'yard', 'electrical', 'knew', 'waitresses', 'candle', 'cubicle', 'tad', 'didnt', 'pp', 'cramped', 'shelf', 'repaired', 'dripped', 'smoke', 'detector', 'fall', 'asleep', 'convenience', 'im', 'afraid', 'knows', 'maintenance', 'sorted', 'ed', 'immensely', 'advantage', 'cover', 'sides', 'rises', 'lazy', 'inform', 'building', 'pricey', 'offer', 'undrinkable', 'include', 'bin', 'mounted', 'smaller', 'blockage', 'sam', 'charming', 'completely', 'flow', 'cared', '30th', 'express', 'rose', 'petals', 'strawberries', 'cream', 'wine', 'thoughtful', 'longer', 'hand', 'emptying', 'strange', 'contained', 'gin', 'whisky', 'tonic', 'guy', 'tapas', 'aircon', 'faulty', 'cater', 'requirement', 'discovered', 'cause', 'complain', 'dealt', 'effectively', 'efficiently', 'annoyed', 'departure', '8am', 'constantly', 'performing', 'meet', 'greet', 'landing', 'his', 'individual', 'mobile', 'he', 'concern', 'rat', 'race', 'routine', 'deserved', 'further', 'result', 'reassured', 'reduction', 'future', 'considered', 'resolution', 'refund', 'funds', 'wise', 'anywhere', 'umbrella', 'raining', 'michelin', 'starred', 'practicality', 'exactly', 'fits', 'tray', 'panels', 'liverpool', 'friday', 'originally', 'ex', 'lightening', 'hallway', 'lifts', 'dingy', 'preferred', 'lighter', 'bubbly', 'celebrate', 'extras', 'heatwave', 'evenings', 'chaotic', 'thursday', 'ran', 'waitress', 'running', 'her', 'wrong', 'original', 'flowers', 'shaftesbury', 'ave', 'mornings', 'trained', 'latter', 'slightly', 'solution', 'squeaky', 'minimal', 'reservation', 'page', 'speeds', 'pages', 'literally', 'load', 'initial', 'classical', 'calming', 'persons', 'av', 'similar', '75', 'machines', 'drove', 'men', 'remembered', 'previous', 'visits', 'beyond', '21st', 'she', 'sumptuous', 'non', 'freshly', 'ingredients', 'pancakes', 'clouds', 'impressive', 'christmas', 'smells', 'cigar', 'parts', 'wonderfully', 'bedlinen', 'unless', 'saving', 'themselves', 'practice', 'irritating', 'sort', 'common', 'spain', 'opposite', 'gloucester', 'worst', 'cells', 'sealed', 'website', 'besides', 'group', 'advance', 'necessary', 'putting', 'blame', 'seem', 'care', 'loyalty', 'everybody', 'willing', 'search', 'speed', 'refurbishment', 'receptionists', 'piping', 'flushed', 'comparison', 'visitors', 'appreciation', 'professionalism', 'western', 'saint', 'honore', 'five', 'october', '14', '2015', '27', 'everyone', 'basis', 'warmth', 'mile', 'weary', 'appreciate', 'daytime', 'alice', 'stands', 'international', 'hip', 'groovy', 'refreshing', 'chains', 'snacks', 'technology', 'delight', 'proofing', 'heard', 'teenage', 'nephew', 'adult', 'children', 'excited', 'remove', 'caters', '2016', 'ease', 'hygiene', 'overpriced', 'dlr', 'gate', 'opera', 'bakery', 'nicer', 'whether', 'finished', 'face', 'whole', 'enjoyable', 'comes', 'tight', 'relax', 'worrying', 'tab', 'vacuumed', 'entire', 'nights', 'beautifully', 'decorated', 'opulent', 'earls', 'court', 'process', 'passing', 'dessert', 'delivered', 'dave', 'gripe', 'hoovering', 'description', 'waste', 'las', 'plaza', 'catalunya', 'cab', 'rides', 'destinations', 'unreal', 'awoken', 'builders', 'crying', 'arranged', 'italy', 'ear', 'firmer', 'allowed', 'ticket', 'purchase', 'avoided', 'designed', 'senior', 'elegance', 'stressed', 'drainage', 'differently', 'follow', 'ups', 'pot', 'serve', 'opportunity', 'attacks', 'managers', 'bell', 'stephan', 'smiling', 'mary', 'katherine', 'gentle', 'helped', 'pack', 'box', 'flower', 'market', 'gracia', 'packed', 'aggressive', 'perfume', 'lower', 'duty', 'repeatedly', 'spoon', 'several', 'sometime', 'major', 'dirt', 'careful', 'breath', 'deeply', 'distances', 'sights', 'product', 'faced', 'difficulties', 'applying', 'taking', 'cars', 'dusted', 'transparent', 'locked', 'quilts', 'affordable', 'genuine', 'photos', 'match', 'mix', 'misleading', 'satisfactory', 'opened', 'unusable', 'connect', 'dishes', 'step', 'deserves', 'stars', 'failing', 'levels', 'lounges', 'week', 'grey', 'brown', 'agree', 'haven', 'eaten', 'pizzeria', 'delivery', 'fans', 'switched', 'wardrobe', 'hassle', 'greeted', 'kindness', '10mins', 'heading', 'arrive', 'finish', 'relaxed', 'prepared', 'didnot', 'beans', 'hash', 'browns', 'availability', 'sausage', 'bacon', 'scrambled', 'toast', 'ie', 'say', 'emailed', 'instead', 'charity', '102', 'satisfaction', 'dropped', 'treatments', 'practically', 'zone', 'freely', 'damaged', 'springs', 'port', 'managed', 'source', 'fc', 'tickets', 'mark', 'attending', 'event', 'excel', '150', 'pounds', 'talked', 'repeating', 'official', 'colleague', 'suited', 'closer', 'numerous', 'occasions', 'surcharge', 'separated', 'pushed', 'individually', 'abroad', 'treated', 'scrumptious', 'orly', 'alert', 'blocked', 'account', 'anticipated', 'rumbling', 'wind', 'surround', 'appears', 'online', 'valentines', 'wear', 'life', 'chic', '1st', 'eixample', 'concept', 'bubbles', 'ipad', 'laptop', 'equally', '2am', 'promptly', 'built', 'usb', 'charger', 'ports', 'bookings', 'beforehand', 'hadn', 'updated', 'inconvenience', 'showing', 'pulled', 'faces', 'funny', 'interestingly', 'trainee', 'actually', 'personable', 'drying', 'august', 'requests', 'confort', 'r', 'fixtures', 'modernized', 'disturbed', 'soundproofing', 'television', 'neighbouring', 'conversation', 'shouting', 'sizeable', 'goes', '21', 'regency', 'proper', 'fraction', 'oriental', 'doesnt', 'praise', 'disgraceful', 'openly', 'shrugged', 'shoulders', 'manageress', 'scenery', 'upside', 'canteen', 'moderately', 'peace', 'manage', 'darkness', 'ages', 'reality', 'duomo', 'east', '100m', 'microwave', 'disposable', 'fork', 'bring', 'rainy', 'season', 'smartly', 'sold', 'smoking', 'peak', 'hasn', 'except', 'supportive', 'smoked', 'salmon', 'purpose', 'explain', 'noticeable', 'seen', 'lived', 'renewed', 'scratches', 'stopper', 'handle', 'earlier', 'misunderstanding', 'personnel', '50m', 'conference', 'mid', 'wire', 'threadbare', 'stretch', 'arms', 'recommending', 'vfm', 'climb', '400', 'butter', 'yoghurt', 'anymore', 'fish', 'chips', 'supposedly', 'haddock', 'cardboard', 'flavour', 'complained', 'speak', 'n', 'definately', 'set', 'marble', 'overhead', 'leaking', 'trough', 'workers', 'power', 'patronising', 'explaining', 'unaware', 'completed', 'explanation', 'improvement', 'canals', 'makes', 'noises', 'plate', 'pasta', 'h10', 'neighbourhood', 'word', 'ritz', 'function', 'bay', 'marie', 'resistance', 'aware', 'sorry', 'thankful', 'woke', 'rates', 'allowing', 'girlfriend', 'unimpressive', 'immaculate', 'anybody', 'cook', 'heat', 'downside', 'happening', 'markets', 'troublesome', 'info', '12pm', 'saturday', '11pm', 'disappoint', 'speakers', 'glazing', 'cope', 'trucks', 'rubbish', 'collection', 'taxis', 'blowing', 'residents', 'usually', 'drunk', 'gathering', 'minus', 'storage', 'draws', 'cupboards', 'clothes', 'tend', 'share', 'boyfriend', 'female', 'tucked', 'favorite', 'offerings', 'bottled', 'sparkling', 'run', 'ipads', 'courtyard', 'amount', 'costs', 'mistakes', 'cancelling', 'ziggo', 'dome', 'max', 'canal', 'ironing', 'board', 'period', 'ago', 'policies', 'charging', 'continues', 'keep', 'trays', 'rust', 'seat', 'moment', 'video', 'art', 'wallpaper', 'advised', 'mac', 'character', 'summary', 'degrees', '4pm', 'contrary', 'law', 'pump', 'led', 'shared', 'outdoor', 'meaning', 'incase', 'constant', 'fan', 'lend', 'eve', 'hoping', 'cooled', '4am', 'begging', 'seriously', 'now', 'frightening', 'replacing', 'collapsed', 'points', 'lost', 'therefore', 'recharge', 'scaffolding', 'concerns', 'human', 'throw', 'collect', 'auto', 'bercy', 'restaraunt', 'currently', 'convention', 'prince', 'regent', 'fitted', 'deco', 'vault', 'rely', 'paddington', 'piccadilly', 'covent', 'garden', 'saved', 'push', 'lied', 'metres', 'spend', 'shining', 'functions', 'granted', 'controlled', 'impossible', 'adjust', 'ambient', '32', 'object', 'ancient', 'holes', 'encountered', 'effective', 'steamed', 'appear', 'described', 'makeover', 'numbers', 'floors', 'interested', 'billa', 'silent', 'featured', 'surroundings', 'replacement', 'shampoos', 'loose', 'microscopic', 'en', 'porridge', 'seated', 'live', 'score', 'curt', 'airy', 'remarkably', 'boy', 'pick', 'saw', 'brought', 'converter', 'handed', 'gone', 'inner', 'assume', 'actual', 'compared', 'shouldn', 'girl', 'umbrellas', 'accurate', 'carry', 'bag', 'bellman', 'switches', 'organising', 'assist', 'setting', 'overnight', 'needing', 'key', 'operate', 'spotty', 'flush', 'units', 'triple', 'knowledge', 'tobacco', 'guidance', 'knowing', 'appropriately', '30pm', 'cant', 'boil', 'socket', 'unplug', 'diet', 'cleaned', 'thoroughly', '405', 'choose', 'rise', 'expo', 'fee', 'regents', 'smallish', 'chatting', 'prefer', 'wake', 'matched', 'images', 'duck', 'restoration', 'iconic', 'railway', 'taken', 'kosher', 'meters', 'disable', 'hanger', '2nd', 'ensuite', 'bunch', 'deciding', 'musty', 'lyon', 'unhappy', 'privilege', 'payed', 'private', 'functional', 'bother', 'accessible', 'crack', 'tiles', 'delighted', 'start', 'elegant', 'overcrowded', 'tourists', 'combination', 'elements', 'smelling', 'offers', 'rich', 'sagrada', 'familia', 'crowds', 'rambla', 'accommodate', 'ms', 'ana', 'pol', 'slice', 'types', 'supplies', 'replenished', 'refreshed', 'checkin', 'privacy', 'disadvantage', 'yes', 'sir', 'marais', 'authentic', 'scale', 'tourism', 'internal', 'lacks', 'true', 'strongly', 'shiny', 'brand', 'cozy', 'soft', 'reservations', 'hats', 'heated', 'speedy', 'towel', 'loudly', '39', 'discount', 'advertise', 'parked', 'engine', 'pod', 'travelling', 'beer', 'waters', 'alcohol', 'disapointed', 'cup', 'uncomfortably', 'dancing', '90', 'receiving', 'hamburger', 'virtually', 'overly', 'chatty', 'noice', 'taps', 'secure', 'massive', 'stepped', 'wow', 'lush', 'black', 'spread', 'gentleman', 'barman', 'greenwich', 'stone', 'cutty', 'sark', 'maritime', 'clipper', 'irish', 'pub', 'installed', 'smal', 'battery', 'partial', 'words', 'data', 'roaming', 'steam', 'cooler', 'indoor', 'age', 'limit', 'literature', 'questioned', 'iphone', 'falling', 'courteously', 'politely', 'self', 'hospitality', 'vibrant', 'broadway', 'assigned', 'smelt', 'possibility', 'o2', 'renovated', 'rated', 'mentioning', 'joining', 'raised', 'doumo', 'name', 'valued', 'wooden', 'vast', 'importantly', 'metros', 'observed', 'mr', 'vincent', 'heater', 'friedly', 'realising', 'localization', 'pimlico', 'shallow', 'confirmed', 'says', 'fot', 'language', 'sketchy', 'chose', 'beaten', 'terribly', 'fit', 'previously', 'sons', 'sent', 'basket', 'treats', 'chilled', 'party', 'section', 'sat', 'minded', 'pretentious', 'kilburn', 'tesco', 'convienient', 'nitpick', 'nt', 'lone', 'traveller', 'truly', 'entry', 'hidden', 'jewel', 'mats', 'benefit', 'welcomed', 'mill', 'cardio', 'weights', 'sunk', 'tho', 'queries', 'perhaps', 'uses', 'incorrectly', 'ended', 'absence', 'inaccessible', 'traveling', 'earl', 'beverages', 'p', 'sufficient', 'cheeses', 'sliced', 'meats', 'teas', 'cooker', 'reserved', 'explained', 'communication', 'fewer', 'accent', 'opted', '4th', 'outskirts', 'wide', 'choices', 'cereals', 'locality', 'ahead', 'outlets', 'exit', 'scratch', 'ridiculously', 'traveled', 'extensively', 'renovation', 'waiter', 'le', 'bastille', 'safety', 'congestion', 'exited', 'bike', 'rentals', 'decide', 'study', 'vegan', 'mixture', 'cheese', 'vegetarians', 'spreads', 'uber', 'picky', 'wrap', 'matter', 'ruin', 'barceloneta', 'gothic', 'purchased', 'excuse', 'surly', 'dry', 'factor', 'denied', 'shirt', 'hat', 'cordoned', 'somebody', 'eventually', 'him', 'prove', 'ruined', 'wembley', 'discussion', 'coordinate', 'upset', 'euston', 'kings', 'suitcase', 'blocking', 'path', 'blvd', 'montparnasse', 'heartbeat', 'struggling', 'slot', 'mattresses', 'overdue', 'justify', '2017', 'negatives', 'hammersmith', 'tours', 'method', 'whom', 'mixed', 'leisurely', 'pace', 'enjoying', 'steaming', 'happened', 'moreover', 'specifically', 'lit', 'urgently', 'refreshment', 'merely', 'economy', '64', 'british', 'hell', 'held', 'disaster', 'covers', 'detached', 'paperwork', 'dreadful', 'renting', 'south', 'creative', 'commend', 'monday', 'extent', 'hostess', 'oriented', 'unnecessary', 'calls', 'frustrating', 'closely', 'hiccup', 'realise', 'vary', 'catching', 'guess', 'premium', 'recent', 'engagement', 'odd', 'layout', 'fireplace', 'outlet', 'domo', 'dine', 'initially', 'chilly', 'electric', 'cupboard', 'warmed', 'crashed', 'failed', 'travellers', 'billed', 'reduced', 'comments', 'mirrors', 'pillow', 'que', 'renovations', 'warning', 'centrum', 'refilled', 'forgot', 'apologize', 'mistake', 'savoury', 'impressed', 'cleanness', 'extended', 'firstly', 'km', 'concrete', 'wires', 'rolls', '175', 'invasion', 'worse', 'regards', 'signage', 'insufficient', 'unclear', 'ethos', 'costing', 'advertised', 'regularly', 'websites', 'company', 'acted', 'lively', 'chest', 'pokey', 'disgusting', 'wc', 'seperate', 'fittings', 'disrespectful', 'backed', 'victoria', 'chicken', 'toasted', '600', 'singles', 'sight', 'batllo', 'excursions', 'mar', 'diagonal', 'direction', 'containing', 'sports', 'steel', 'arrangements', 'fuss', 'languages', 'tended', 'green', 'disconcerting', 'worries', 'spaces', 'gem', 'elsewhere', 'supermarkets', 'filled', 'croissants', 'platter', 'cappuccino', 'pitched', 'exact', 'overbearing', 'gives', 'families', 'ladies', 'wont', 'dam', 'starbucks', 'heineken', 'recommendation', 'dedicated', 'radiators', 'teh', 'seats', 'france', 'emperor', 'ian', 'himself', 'die', 'arc', 'triomphe', 'seine', 'hi', 'tech', 'loo', 'opaque', 'bulb', 'read', 'phoned', 'satisfy', 'crowne', 'adjoining', 'advertising', 'course', 'inquired', 'relations', 'honoured', 'plans', 'cancelled', 'student', 'comforting', 'highlight', 'fare', 'disapointing', 'phones', 'sensitive', 'hearing', 'terraced', 'resturant', 'overlooks', 'housing', 'sea', 'obliging', 'cooling', 'noticed', 'question', 'minimum', 'pleasing', 'quietly', 'hole', 'defective', 'festival', 'slight', 'incident', 'county', 'oasis', 'rainshower', 'characterful', 'subject', 'select', 'secured', 'maintained', 'overworked', 'aren', 'hence', 'ability', 'print', 'documents', 'refreshments', 'unusual', 'march', 'banging', 'switch', 'speaking', 'banged', 'everytime', '9am', 'interacted', 'cloths', 'caps', 'fortune', 'reading', 'pleasantly', 'divine', 'backache', 'goid', 'canary', 'wharf', 'quay', 'relevant', 'forgotten', 'attentiveness', 'ongoing', 'journey', 'suggestions', 'eaves', 'signs', 'sprayer', 'responsive', 'fourth', 'apologised', 'crumbs', 'blue', 'dried', 'tile', 'hairs', 'housekeeper', 'fussy', 'booklet', 'guide', 'washed', 'upfront', 'present', 'horrendous', 'confirmation', 'insisting', 'copy', 'changing', 'ihg', 'everyday', 'aspects', 'diners', 'awards', 'satisfying', 'comparing', 'category', 'reviewers', 'desirable', 'valid', 'cutting', 'exploring', 'scratched', 'spaceship', 'spectacular', 'foyer', 'fabulously', 'reduce', 'continuous', 'pedro', 'celebrated', '25th', 'acknowledged', '2pm', 'diverse', 'unbearable', 'barri', 'gotic', 'creaking', 'overground', 'restraunts', 'shop', 'written', 'shape', 'interiors', 'grand', 'michel', 'arrange', 'suburb', 'fell', 'cracks', 'listed', 'scary', 'nescafe', 'sticks', 'mcdonalds', 'strip', 'incorrect', 'odour', 'disinterested', 'reachable', 'confirm', 'reached', 'cable', '5min', 'madness', 'exciting', 'buzzy', 'accomodating', 'respond', 'disastrous', 'confusing', 'selections', 'guard', 'purple', 'plain', 'golden', 'pearl', 'poorly', 'signing', 'prepaid', 'meter', 'ceilings', 'boiling', 'forget', '250', 'fatty', 'hopefully', 'gel', 'varieties', 'aged', 'advanced', 'turn', 'stool', 'nibbles', 'kensington', 'beside', 'nozzle', 'indian', 'idiot', '01', 'sleek', 'exterior', 'shaking', 'closes', 'started', 'elysees', 'hesitation', 'awkwardly', 'radiator', 'ring', 'external', 'answered', 'espanya', 'arena', 'africa', 'month', 'approx', '24hours', 'inquiry', 'delay', 'debited', 'refunded', 'cancel', 'partners', 'marathon', 'build', 'delays', 'fitting', 'turning', 'covering', 'routes', 'inches', 'useful', 'baggage', 'tidy', 'mediocre', 'boring', 'leisure', 'unexpectedly', 'plush', 'optional', 'automatically', 'recovery', 'challenging', 'whose', 'schedules', 'bedrooms', 'disappointment', 'adults', 'southwark', 'survive', 'heavily', 'aircondition', 'sealing', 'airless', 'vents', 'thumping', 'headache', 'stopping', 'film', 'confident', 'sensible', 'pricing', 'thats', 'orientated', '403', 'jus', 'irons', 'bothered', 'vip', 'royalty', 'definatly', 'staffing', 'peaceful', 'tastefully', 'shelves', 'clothing', 'stronger', 'watch', 'magical', 'driver', 'flights', 'woman', 'scheduled', 'superbly', 'upmarket', 'immaculately', 'hofburg', 'illuminated', 'lactose', 'competent', 'saunas', 'motivated', 'beverage', 'jug', 'improved', 'stank', 'desperate', 'updating', 'rock', 'miserable', 'lead', 'fun', 'robbed', 'mine', 'scare', 'essentially', 'flexible', 'vacate', 'mice', 'helping', 'contents', 'sadly', 'pro', 'active', 'spot', 'opens', 'involved', 'abundance', 'admit', 'listened', 'personally', 'listen', 'shutters', 'yum', 'insulation', 'neighbors', 'unused', 'horror', 'fabric', 'progress', 'lake', 'birds', 'songs', 'flip', 'flops', 'school', 'holidays', 'breackfast', 'films', 'feather', 'cleaness', 'exception', 'facilties', 'valuables', 'belongings', 'june', '2014', 'endless', 'supply', 'chocolates', 'compare', 'creaky', 'tear', 'suites', 'unlike', 'overland', 'awkward', 'feb', '8pm', 'compliment', 'display', '10pm', 'sad', 'luke', 'oven', 'buck', 'science', 'approach', 'sufficiently', 'qualified', 'global', 'filthy', 'hospital', 'filling', 'cards', 'sideways', 'sounding', 'racist', '15min', 'formed', 'disgrace', 'olympic', 'stratford', 'nowadays', 'o', 'clock', 'french', 'ben', 'blunt', 'invest', 'focused', 'refuse', 'regardless', 'grade', 'payments', 'adaptor', 'desire', 'laughed', 'clear', 'visiting', 'dislike', 'cleanest', 'taxes', 'reimbursement', 'occupant', 'restocked', 'showering', 'attraction', 'begin', 'released', 'contacted', 'promised', 'pubic', 'investigation', 'stains', 'cases', 'operative', 'downgrade', 'proceeded', 'argue', 'invited', 'declined', 'conversations', 'damage', 'waldorf', 'aldwych', 'accepted', 'matters', 'amounts', 'debit', 'discounted', 'followed', 'arguments', 'beware', 'procedure', 'loan', 'earned', 'awaiting', 'form', 'king', 'ratings', 'stadium', 'appalling', 'stuffs', 'inadequate', 'damp', 'inappropriate', 'nearly', 'florence', 'thru', '1000', 'freshen', 'workout', 'showered', 'upper', 'americans', 'women', 'slowest', 'maker', 'sainsbury', 'sooooooo', 'roll', 'opener', 'poo', 'temp', 'cheery', 'adds', 'magnetic', 'whatsoever', 'moody', 'overhaul', '120', 'pound', 'appearance', 'condensation', 'je', 'imperial', 'starter', 'movie', 'accessibility', '5pm', 'unbearably', 'critical', 'towards', 'pristine', 'newer', 'hurt', 'neck', 'looks', 'coz', 'pilows', 'height', 'restriction', 'carpark', 'espresso', 'package', 'camera', 'rough', 'montmartre', 'frosted', 'repair', 'shocking', 'mall', '3rd', 'maps', 'picking', 'elena', 'proffesional', '00am', 'church', 'apartments', 'belonging', '51', 'foul', 'jets', 'goodbye', 'heathrow', 'cam', 'ing', 'joy', 'conservatory', 'dogs', 'dog', 'popular', 'normally', 'struggled', 'benedict', '45', 'ours', 'clue', 'organise', 'compensation', 'crisps', 'popcorn', 'buying', 'differs', 'carmen', 'zero', 'joint', 'bracket', 'suddenly', 'reporting', 'condescending', 'knightsbridge', 'months', 'feedback', 'westminster', 'landmark', 'designer', 'restricted', '29', 'usa', 'fianc', 'permanently', 'remember', 'criticism', 'relaxation', 'exist', 'radio', '24h', 'conditions', 'departing', 'wished', 'specified', 'fron', 'rattling', 'sharing', 'turndown', 'couldnt', 'prep', 'dissapointed', 'split', 'circulation', 'vs', 'correct', 'significantly', 'impact', 'changes', 'causing', 'secondary', 'quieter', 'celebrating', 'suprise', 'cheesecake', 'personalised', 'athmosphere', 'force', 'upgrades', 'tuileries', 'queens', 'university', 'stairway', 'nil', 'attempted', 'attendant', 'eifel', 'glad', 'heritage', 'brakfast', 'broke', 'realy', 'tastes', 'play', 'wa', 'manic', 'hustle', 'bustle', 'hoxton', 'bcn', 'harbor', 'drop', 'dead', 'belief', 'demanding', 'travels', 'watching', 'boats', 'signature', 'cocktail', '104', 'purely', 'dragged', 'telephone', '50th', 'chase', '30mins', 'promise', 'cooperative', 'missed', 'nightlife', 'dislikes', 'amba', 'rowdy', 'varied', 'attempt', 'apologise', 'ensure', 'proud', 'yards', 'nevertheless', 'leaves', 'spare', 'minimalist', 'committed', 'silence', 'warned', 'properties', 'lancaster', 'january', 'terasse', 'valentine', 'canap', 'alcoholic', 'news', 'expense', 'spanish', 'requires', 'plumber', 'persisted', 'centrally', 'lose', 'reserve', 'oversight', 'allow', '24th', 'matches', 'solutions', 'deals', 'quaint', 'specially', 'blocks', 'busses', 'stark', 'explore', 'popped', 'hammering', 'ive', 'random', 'existing', 'ordering', 'exorbitant', 'pleasurable', 'yr', 'hydepark', 'floating', 'physically', 'sick', 'drinking', '07', 'assured', 'novotel', 'tax', 'accept', 'cabinets', 'courses', 'parliament', 'spending', 'majority', 'breskfast', 'continued', 'bijlmer', 'frequent', 'allows', 'complains', 'base', 'packing', 'transit', 'sunlight', 'passport', 'midnight', 'figure', 'cm', 'humid', 'discover', 'jubilee', 'waterloo', 'sliding', 'purposes', 'controls', 'tall', 'elder', 'upholstery', 'halls', 'classy', 'miles', 'san', 'siro', 'absolute', 'hardest', 'pop', 'hungry', 'cushion', 'lounger', 'republique', 'bustling', 'boulangeries', 'musee', 'picasso', 'shutting', 'edgy', 'spoiled', 'straff', 'computers', 'lap', 'europe', 'holding', 'rm', 'includes', 'nesspresso', 'discrete', 'affected', 'spoil', 'enjoyment', 'loaded', 'workmen', 'crashing', 'slide', 'removing', 'sunbeds', 'cultural', 'wiew', 'message', 'answering', 'questions', 'twins', 'proportioned', 'somehow', 'spotted', 'negotiate', 'picture', 'sunny', 'taste', 'partying', 'angry', 'recently', 'advice', 'b', 'bathe', 'create', 'slip', 'terrific', 'assistance', 'vent', 'circus', 'produced', 'tepid', 'transferred', 'stephansplatz', 'pedestrian', 'entirely', 'bearable', 'gig', 'vegetable', 'maria', 'giving', 'refurbishments', 'est', 'engaged', 'smiley', 'barley', 'comfortably', 'temporary', 'ur', 'windy', 'noting', 'banks', 'mineral', '6th', 'sensational', 'galeries', 'lafayette', 'patrick', 'sydney', 'carefully', 'interrupting', 'explanations', 'responsibility', 'communicating', 'sending', 'luggages', 'untidy', 'slipping', 'kiosk', 'trek', 'prompt', 'billing', 'biscuit', 'wondering', 'replenish', 'improvements', 'doona', 'refill', 'tissues', 'rack', 'burnt', 'burn', 'centrale', 'piano', 'player', 'flashing', 'neighbour', 'lowest', 'visible', 'covered', 'lime', 'residue', 'barbican', 'brush', 'lightning', 'stunk', 'connecting', 'slowly', 'imagined', 'nearest', 'pharmacy', 'count', 'secret', 'prevent', 'meetings', 'trafalgar', 'borough', 'serviced', 'unit', 'sterile', 'clinical', 'bathrobes', 'catalonia', 'unexpected', 'device', 'began', 'frequently', 'rectify', 'david', 'cuisine', 'notes', 'hallways', 'resolved', 'cigarettes', 'bumpy', 'safely', 'serviceminded', 'austrian', 'notre', 'dame', 'pointed', 'opportunities', 'touristy', 'furnitures', 'cabinet', 'happier', 'caught', 'storm', 'jordaan', 'blackout', 'eager', 'tiring', 'paint', 'budgets', 'din', 'wan', 'older', 'historic', 'venue', 'surprising', 'interrupted', 'decore', 'honestly', 'cat', 'nuts', 'track', 'fulfilled', 'm1', 'organized', 'efficiency', 'reflection', 'allocation', 'delux', 'disgusted', 'embarrassed', 'ramp', 'embarrassing', 'drilling', 'sightseeings', 'bug', 'bugs', 'mouldy', 'te', 'shifted', 'spoken', 'manners', 'manhattan', 'studio', 'magnificent', 'waffles', 'poached', 'carte', 'cabin', 'leaked', 'neighbours', 'portion', 'planned', 'extend', 'ache', 'pointless', 'pancras', 'expectation', 'topped', 'refurbishing', 'comparatively', 'buffets', 'sparse', 'buds', 'wool', 'cave', '2min', 'forks', 'nite', 'heaters', 'corners', 'adjusted', 'yourself', 'energy', 'carrying', 'tough', 'ppl', 'energetic', 'owner', 'regret', 'destroyed', 'leak', 'stroll', 'games', 'entertainment', 'wee', 'notification', '02', 'concerts', 'airconditioner', 'tasteless', 'consider', 'travelodge', 'inn', 'organised', 'neighbor', 'breathing', 'uncommon', 'maximum', 'sandwich', 'health', 'climbing', 'image', 'elderly', 'edges', 'deducted', 'voice', 'realize', 'handicapped', 'agreed', 'ambassador', 'benefits', 'unhygienic', 'alas', 'support', 'culture', 'hop', 'marylebone', 'sounded', 'cons', 'ants', 'ranking', 'ranked', 'regina', 'bidet', 'department', 'length', 'african', 'afford', 'inconsiderate', 'confusion', '10am', 'bass', 'stale', 'revamp', 'suitable', 'messy', 'ile', 'roads', 'atrium', 'oversized', 'sofas', 'rugs', 'mostly', 'mixer', 'kick', 'hate', 'def', 'bose', 'speaker', 'adapter', 'mood', 'pla', 'closest', 'triumph', 'skybar', 'resting', 'boiler', 'overwhelming', '5th', 'multilingual', 'compromised', 'owing', 'draught', 'decaf', 'teabags', 'thinking', '200', 'grumpy', 'delayed', 'decades', 'quit', 'tip', 'confy', 'shaftsbury', 'avenue', 'methods', 'downhill', 'brief', 'watched', 'sunset', 'patch', 'sister', 'berlin', 'vacation', 'weather', 'thicker', 'seater', 'districts', 'curtain', 'flaking', 'deserve', 'honor', 'google', 'connections', 'consistent', 'ideally', 'extractor', 'protect', 'beakfast', 'schiphol', 'couples', 'cubicles', '6am', 'universal', 'liquid', 'usable', 'traveler', 'essential', 'solved', 'pharmacies', 'stream', 'forth', 'lying', 'pregnant', 'acknowledge', 'mums', 'smoker', 'absent', 'arabs', '27th', 'strangely', 'stole', 'flexibility', 'chance', 'sample', 'act', 'knowledgable', 'muffins', 'pizza', 'drawer', 'passwords', 'cellar', 'technical', 'touching', 'unbelievably', 'armchair', 'chinese', 'stadt', 'rapid', 'uniform', 'familiar', 'throughly', 'gins', 'inc', 'india', 'swim', 'seperated', 'chaps', 'chat', 'cute', 'standing', 'luxe', 'rid', 'austria', 'bayswater', 'queensway', 'notting', '101', 'poster', 'flooring', '308', 'ordinary', 'defiantly', 'locally', 'carnaby', 'refurb', 'painted', 'throwing', 'supervisor', 'complaining', 'cheapest', 'stupidly', 'squeezed', 'overlooked', 'notch', 'chamber', 'flag', 'ourselves', 'relative', 'runs', 'smoothly', 'crash', 'capsule', 'concerned', 'stood', 'among', 'smiles', 'leads', 'designs', 'ams', 'zuid', 'soooo', 'pissed', 'abit', 'balanced', 'dorchester', 'okey', 'architecture', '502', 'theater', '53', 'press', 'trips', 'bored', 'sport', 'amstel', 'si', 'hire', 'locate', 'electronic', 'swipe', 'designated', 'child', 'vacuum', 'color', 'unimpressed', 'repeat', 'understanding', 'camp', 'nou', 'innovative', 'adapters', 'electronics', 'industry', 'movement', 'filter', 'clogged', 'layer', 'gross', 'tape', 'seal', 'assuming', 'sucked', 'skin', 'starting', 'sub', 'discuss', 'argumentative', 'arguing', 'credited', '3am', 'deck', 'thankfully', 'shortly', 'shade', 'canopy', 'bartender', 'intense', 'trainers', 'ver', 'created', 'colors', 'artistic', 'borrow', 'thorough', 'potentially', 'counting', 'burger', 'record', '70', 'disco', 'lover', 'bang', 'encounter', 'lil', 'error', 'diner', 'personality', 'u4', 'reliable', 'errors', 'linens', 'bells', 'necessities', 'shambles', 'supposed', 'yesterday', 'approached', 'insisted', 'presence', '2x', 'curry', 'packet', 'clicked', 'thermostat', 'runners', 'capable', 'grocery', 'stores', 'shaver', 'toothbrush', 'jaded', 'underwear', 'chrome', 'valuable', 'sleepers', 'tooth', 'premises', 'gas', 'dance', 'walkable', 'sanitary', 'pets', 'rating', 'strand', 'emergency', 'vehicles', 'sirens', 'disturbance', 'rear', 'preparing', 'attached', 'danube', 'stays', 'apples', 'sweets', 'stomping', 'slippery', 'command', 'helpfully', 'depressing', 'lousy', 'thou', 'conditioned', 'yeah', 'vomit', 'erratic', 'tasted', 'grim', 'smiled', 'prepare', 'furthermore', '13', 'olds', 'wishes', 'gain', 'figuring', 'extensive', 'intolerant', 'quilt', 'themed', 'silly', 'hit', 'hung', 'underneath', 'passed', 'killer', 'ro', 'timing', 'lovers', 'continue', 'rarity', 'considerable', 'puddle', 'hopeless', 'turns', 'rang', 'ill', 'manor', 'honest', 'loungers', '45am', 'master', 'knock', 'aerobus', 'scandalous', 'dare', 'bites', 'treatment', 'false', 'clever', 'yours', 'enviroment', 'hated', 'limescale', 'raw', 'sewage', 'demanded', 'employee', 'provides', 'smartphone', 'eu', 'utter', 'cities', 'bordering', 'mc', 'costa', 'term', 'consuming', 'balance', 'schonbrunn', 'concerning', 'closeness', 'identify', 'era', 'clientele', 'jazz', 'listening', 'flying', 'smoothies', 'yogurts', 'omelettes', 'ect', 'solo', 'fooled', 'judge', 'supporting', 'celebration', 'kingsize', 'recepcionist', 'ham', 'camden', 'suppose', 'boys', '7th', 'hr', 'flew', 'vacated', 'pleasure', 'rue', 'des', 'july', 'interaction', 'weekends', 'scuffs', 'marks', 'careless', 'par', 'backyard', 'honeymoon', 'strawberry', 'dip', 'robe', 'accordingly', 'rumpus', 'registration', 'activity', 'stroller', 'sooo', 'temperatures', 'rushed', 'rebooked', 'pricy', '15pm', 'remedied', 'current', 'impatient', 'promenade', 'ivan', 'settled', 'glitch', 'resulted', 'laggage', 'marco', 'drafty', 'motorway', 'convinient', 'fancy', 'couches', 'monuments', 'pads', 'industrial', 'beat', 'grateful', 'amongst', 'appartment', 'albeit', 'revolving', 'quietest', 'harsh', 'grate', 'lined', 'loby', 'understood', 'complicated', 'mail', 'address', 'attempts', '99', 'gladly', 'climate', 'worthy', 'historical', 'fashion', 'surprisingly', 'westbahnhof', 'mezzanine', 'staircase', 'sleeper', 'sincerely', 'monica', 'penthouse', 'boiled', 'lens', 'certain', '10th', 'cheated', 'helipad', 'helicopters', 'pair', 'knife', 'brasseries', 'unfortunate', 'outrageously', 'eater', 'easter', 'royale', 'jump', 'comeback', 'post', 'regulator', 'monsieur', 'deceptive', 'capacity', 'trolleys', 'comforters', 'allergies', 'asthma', 'clearer', 'intersection', 'shoe', 'caring', 'employees', 'final', 'secondly', 'partly', 'applicable', 'alright', 'mess', 'pocket', 'btw', 'papers', 'dnd', 'letter', 'folded', 'placa', 'noicy', 'dramatically', 'screaming', 'supremely', 'tacky', 'buffe', 'justice', 'sweltering', 'periods', 'clearing', 'timely', 'torn', 'unsettling', '2mins', 'leaks', 'distant', 'bothersome', 'drag', '300', 'beauty', 'modernised', 'brilliantly', 'eatery', '5mins', 'manner', 'veiw', 'pleasent', 'detailed', 'insanely', 'shangri', 'carlton', 'martini', 'fees', 'sunglasses', 'ping', 'pong', 'god', 'insects', 'moldy', 'warn', 'castle', 'breads', 'guards', 'galleries', 'sofitel', 'faubourg', 'simpler', 'snack', 'bedded', 'requesting', 'aesthetic', 'accomodation', 'warmer', 'downfall', 'vert', 'mechanical', 'toothpaste', 'assortment', 'shades', 'obtained', 'gay', 'unpretentious', 'replace', 'seven', 'dials', '26', 'celsius', 'travelers', 'quarters', 'challenged', 'unprofessional', 'arrogant', 'todo', 'stock', 'earplugs', 'item', 'button', 'congratulations', 'mod', 'tvs', 'charm', 'steady', 'decline', 'unwilling', 'painting', 'metal', 'lamps', 'buttons', 'spaghetti', 'shepherd', 'bush', 'peeling', 'chipped', 'gift', 'filtered', 'grandson', 'nut', 'allergy', 'stiflingly', 'behaviour', 'expression', 'quid', 'buzz', 'regulation', 'everthing', 'bumping', 'hang', 'maze', 'suspect', 'ten', 'miss', 'trust', 'unlikely', 'retro', '500', 'businesses', 'shine', 'neighboring', 'bearing', 'maneuver', 'resulting', 'blow', 'pancreas', 'uninspiring', 'sizable', 'reconnect', 'ncp', 'lustre', 'isolated', 'kindly', 'pain', 'spoilt', 'chasing', 'baked', 'hearty', 'doubt', '28', 'hundred', 'suggests', 'honour', '24hr', 'finest', 'recomend', 'trap', 'intercontinental', 'cot', 'band', 'boarding', 'passes', 'cap', 'inedible', 'exhaust', 'exchange', 'arch', 'rank', 'nightclub', 'vic', 'ramada', 'jack', 'mariahilfer', 'foods', 'brasserie', 'remarkable', 'unattended', 'test', 'cos', 'arr', 'overflowing', 'rubbery', 'discusting', 'hight', 'profesional', 'recepcion', 'north', 'american', 'el', 'sloppy', 'belong', '44', 'inconsistent', 'tender', 'saloon', 'ugly', 'holmes', 'hooks', 'server', 'snotty', 'authorisation', 'sucks', 'unpolite', 'shoreditch', '7pm', 'quibble', 'experiencing', 'bouncers', 'bizarre', 'wood', 'tunnel', 'freshner', 'magazines', 'disposal', 'substance', 'especialy', 'ensuring', 'wad', '115', '60', 'bloomsbury', 'atm', 'shuts', 'causes', 'altogether', 'wasted', 'crib', 'risk', 'latest', 'conveniences', 'pantheon', 'keycards', 'cumbersome', 'restrictive', 'splashing', 'coke', '000', 'exaggerated', 'balconies', 'ho', 'hum', 'pl', 'chosen', 'na', 'operators', 'factors', 'region', 'spite', 'indication', 'threatened', '125', 'balmes', 'espana', '80th', 'objective', 'client', 'reasons', 'climatisation', '210', 'tools', 'healthy', 'jam', 'honey', 'marina', 'heliport', 'save', 'outrageous', 'toiletry', 'vicinity', '19', 'equal', 'status', 'ibis', 'nearer', '95', 'expresso', 'worker', 'shocked', 'ship', 'galleria', 'driving', 'acces', 'gowns', 'regulated', 'professionals', 'unforgettable', 'honors', 'media', '48', 'rembrandt', 'approximately', 'thoughts', 'spilled', 'series', 'books', 'glorious', 'millenium', 'mother', 'excellant', 'spec', 'hub', 'urban', 'lodge', 'outlook', 'rented', 'cruise', 'zoo', '82', 'surprises', 'dish', 'pathetic', 'australian', 'sizes', 'farther', 'realised', 'anyways', 'georgian', '700', 'seasons', 'reciption', 'functioning', 'extremelly', 'slim', 'dripping', '3pm', 'frendly', 'neutral', 'answers', 'unconfortable', 'inexperienced', 'treating', 'lets', 'clients', 'bistros', 'boulevard', 'germain', 'cdg', 'abruptly', 'learn', 'massages', 'disorganised', 'scene', 'porte', 'maillot', 'grapefruit', 'unreliable', 'vintage', 'boyfriends', 'brother', 'mars', 'goodness', 'establishment', 'utensils', 'newspaper', 'mannered', 'aging', 'westfields', '49', 'hazard', 'eurostar', 'terminal', 'dull', 'fat', 'toaster', 'quicker', 'hoover', 'panel', 'dim', 'sevice', 'definetly', 'row', 'compromise', 'sauce', 'considerate', 'friendliest', 'stiff', 'formal', 'harder', '7am', 'angle', 'draw', 'perk', 'gold', 'challenge', 'mom', 'instructions', '00pm', 'finishing', 'sth', 'sponge', 'gon', '47', 'fireworks', 'owners', 'expanded', 'retained', 'portions', 'raul', 'overcharged', 'pension', 'indicated', 'extreme', 'netflix', 'equiped', 'material', 'falls', 'nasty', 'asset', 'unavailable', 'teams', 'slack', 'reminded', 'southbank', 'grandchildren', 'sara', 'apologies', 'spelling', 'alba', 'instant', 'managing', 'intend', 'nail', 'screw', 'fly', 'greatly', 'hottest', 'digital', 'shaft', 'steaks', 'addressing', 'bumped', 'tom', 'rip', 'unusually', 'criticise', 'coffeemaker', 'teapot', 'review', 'social', 'plane', 'configuration', 'bargain', 'disability', 'seventh', 'bits', 'taped', 'rusty', 'dispensers', 'settle', 'harbour', 'preserved', 'warming', 'spiral', 'stress', 'fellow', 'soiled', 'recommand', 'pret', 'manger', 'undertaken', 'faults', 'junction', 'stories', 'breafast', 'mad', 'powder', 'respite', 'touring', 'arabic', 'spirits', 'shows', 'keeps', 'nap', 'alternatives', 'wheels', 'extortionate', 'protested', 'reluctantly', 'insist', 'pastry', 'hail', 'cushions', 'sunshine', 'waking', 'stafff', 'deceiving', 'chek', 'omelette', 'explicitly', 'expansive', 'guarantee', 'transaction', 'shock', 'transactions', 'pending', 'peoples', 'noisey', 'ginger', 'ale', 'unbeatable', 'riverside', 'stretched', 'skylounge', 'sales', 'discussions', 'bins', 'kid', 'abrupt', 'rails', 'docklands', 'occasional', 'haul', 'australia', 'soho', 'breakast', 'restuarant', 'ft', '0', 'cracked', 'motel', 'insult', 'responsiveness', 'friendlyness', 'balloon', 'faultless', 'code', 'rudest', 'incompetent', 'queuing', 'width', 'understandable', 'fail', 'tooo', 'watery', 'meat', 'rarely', 'herbal', 'forced', 'enamel', 'stewed', 'shockingly', 'grout', 'enought', 'gracious', 'consistently', 'scored', 'bulbs', 'stephen', 'figured', 'apollo', 'emptied', 'slower', 'worry', 'multi', 'lingual', 'closeby', 'necessity', 'photographs', 'earth', 'ranging', 'engineering', 'masses', 'barged', 'execellent', 'buzzing', 'sprayed', 'shoulder', 'discomfort', 'keys', 'searching', 'reconstruction', 'carpeted', 'imagination', 'citizenm', 'insane', 'gadgets', 'depending', 'inclusion', 'drinkers', 'stuf', 'link', 'nitpicking', 'haha', 'intermittent', 'restful', 'components', 'waterfall', 'convince', 'duration', 'attendants', 'pram', 'potential', 'docking', 'spray', 'maid', 'soo', '18th', 'continually', 'occupying', 'ventilated', 'soggy', 'unavoidable', 'f', 'garbage', 'viennese', 'substantial', 'antiquated', 'sewer', 'stairwell', 'assumed', 'lefts', 'breaks', 'operation', 'hey', 'starts', 'wlan', 'intended', 'colder', 'seconds', 'reaction', 'soy', 'terraces', 'soak', 'keen', '09', '108', 'chick', 'smooth', 'hairdryers', 'nicest', 'bakeries', 'indulge', 'scales', 'responding', 'bahn', 'bicycles', 'commission', 'bedbugs', 'onwards', 'stating', 'aloud', 'invoice', 'sebastian', 'knives', 'woodwork', 'crawl', 'retrieve', 'fixing', 'minuscule', 'promotion', 'behalf', 'marketing', 'choosing', 'pushy', 'overcooked', 'renovating', 'frame', 'rotting', 'defo', 'nav', 'reccomend', 'machinery', 'loading', 'destination', 'director', 'skype', 'sloterdijk', 'dispenser', 'warmly', 'positives', 'grab', 'fastest', 'concierges', 'essentials', 'blown', 'ways', 'breakfeast', 'washbasin', 'indifferent', 'continuously', 'canapes', 'scones', 'cheaply', 'mass', '18c', 'unwelcoming', 'portable', 'secluded', 'painful', 'rubber', 'accumulated', 'ashamed', 'admitted', 'scam', 'salads', 'typically', 'cornflakes', 'guided', 'heaven', 'kinda', 'respectful', 'bellhop', 'comparable', 'sticky', 'toffee', 'superking', 'seasoned', 'reference', 'venture', '5minutes', 'pancake', 'chambermaid', 'breeze', 'remained', 'ish', 'paintings', 'omelet', 'ventilator', 'router', 'dined', 'gourmet', 'unlimited', 'floods', 'trend', 'guys', 'suggestion', 'slipper', 'olive', 'mews', 'tomorrow', 'costly', 'cobwebs', 'navigate', 'tremendous', 'sympathetic', 'police', 'administration', 'names', 'excellently', 'establishments', 'perspective', 'lounging', 'humidity', 'collected', 'discoloured', 'plaster', 'decaff', 'weed', 'delivering', 'responded', 'sets', 'cleaniness', 'football', 'alley', 'dodgy', 'consideration', 'foam', 'suffer', 'duvets', 'locking', 'splendid', 'surfaces', 'copthorne', 'hadnt', 'directed', 'temperamental', 'colleagues', 'surely', 'nighttime', 'clerk', 'stephens', 'fluff', 'stingy', 'powered', 'restless', 'sleepless', 'unlocked', 'enquired', 'resteraunt', 'basics', 'eg', 'subtitles', 'colourful', 'gatwick', 'perks', 'inter', 'reflect', 'undercooked', 'noisily', 'likely', 'conection', 'login', 'leg', 'afternoons', 'decision', 'lidl', 'som', '19th', 'dec', 'hrs', 'passionate', 'parallel', 'shady', 'surrounding', 'enthusiastic', 'assisted', 'medical', 'cheeky', 'docks', 'canada', 'logging', 'buffett', 'eats', 'communications', 'inclusive', 'suggested', 'logic', 'staf', 'harrods', 'dusts', 'teeth', 'structure', 'froze', 'thai', 'phenomenal', 'struggle', 'stench', 'alarms', 'smashing', 'accents', 'drank', 'priceless', 'fascinating', 'corporate', 'onsite', 'unlock', 'restored', 'sense', 'boards', 'nails', 'montcalm', '303', 'losing', 'leicester', 'geared', 'existent', '9pm', 'worried', 'panic', 'cordial', 'feature', 'edgeware', 'halal', 'exhausting', 'considerably', 'permission', 'heads', 'relocated', 'noon', 'windowless', 'wherever', 'medication', 'doorway', 'parisian', 'february', 'parties', 'occupants', 'annex', 'drained', 'wants', 'requiring', 'gap', 'proofed', 'hipster', 'tag', 'colour', 'lovley', 'scheme', 'affect', 'expects', 'visitor', 'retreat', 'storing', 'lunchtime', 'lettuce', 'draft', 'tons', 'finaly', 'presume', 'unfair', 'fry', 'plant', 'reaching', 'cosmetic', 'gent', 'diamond', 'salon', 'grotty', 'ample', 'bond', 'stink', 'oddly', 'shaped', 'werent', 'coffees', 'standart', 'flickering', 'tidied', 'automatic', 'caliber', 'ironed', 'bite', 'lengthy', 'beeing', 'melon', 'cava', 'failure', 'solid', 'hubs', 'wien', 'mitte', 'ubahn', 'handles', 'battersea', 'chelsea', 'border', 'tottenham', 'rambles', 'twist', 'placing', 'unpacking', 'cricket', 'strict', 'rules', 'parquet', 'groundfloor', 'cofee', 'dreadfully', 'intimidating', 'impolite', 'creating', 'swans', 'minimalistic', 'query', 'humming', 'burgers', 'orders', 'dent', 'matress', 'al', 'becomes', 'petite', 'boqueria', 'outer', 'poorest', 'bellboy', 'rare', 'ripped', 'net', 'breaker', 'eveything', 'recomended', 'turkey', 'moderate', 'concorde', 'absolutly', 'laugh', '2m', 'bases', 'ignore', 'growing', 'cycle', 'candles', 'roses', 'decorate', 'reflected', 'patchy', 'referred', 'battered', 'passages', 'op', 'wen', 'booth', 'washcloths', 'game', 'terrasse', 'focus', 'ad', 'exquisite', 'homely', 'handwritten', 'goodies', 'wardrobes', 'headboard', 'generic', 'swearing', 'multimedia', 'signed', 'w', 'shorter', 'tomatoes', 'weight', 'dishonest', 'scrub', 'therapist', 'burns', 'soaking', 'fields', 'definetely', 'desired', 'slices', 'commercial', 'congested', 'glam', 'brekkie', 'recieved', 'isnt', 'tennis', 'conversion', 'printemps', 'jail', 'maids', 'porch', 'crisp', '4star', 'facilitated', 'truck', 'overwhelmed', 'advertisement', 'doorstep', 'cnn', 'bbc', 'spatious', 'sse', 'drone', 'motor', 'chlorine', 'staion', 'drapes', 'slam', 'sore', 'jan', 'jamies', '140', 'groceries', 'solving', 'misses', 'rolling', 'pushing', 'linked', 'requirements', 'horribly', 'leather', 'alerted', 'platters', 'sterling', 'northern', 'wondered', 'offended', 'suggesting', 'soaked', 'cattle', 'dropping', 'failures', 'atractions', 'escalators', 'chambermaids', 'stones', 'teeny', 'retail', 'fizz', 'thinks', 'restaurent', 'thankyou', 'pepper', 'frayed', 'lamb', 'conceirge', 'veg', 'arrives', 'residence', 'elegantly', 'antiques', 'antique', 'sandwiches', 'honesty', 'drawing', 'pictured', 'nonetheless', 'remotely', 'impressions', 'played', 'proved', 'blank', 'fed', 'brewed', 'scalding', 'dangerous', 'mug', '38', 'asia', 'forcing', 'blew', 'afterwards', 'exceedingly', 'jams', 'cramp', 'notably', 'declared', 'ink', 'bland', 'acknowledgement', 'tulip', 'comply', 'vue', 'exclusive', 'rescue', 'students', 'dormitory', 'reconsider', 'hostel', 'squeeze', 'utilities', 'freindly', 'lay', 'network', 'transports', 'michael', 'giant', 'equipments', 'naff', 'theme', 'bye', 'breckfast', 'ramble', 'marvelous', 'plugged', 'chaos', 'cite', 'copies', 'hesitate', 'extraction', 'arrivals', 'unsuitable', 'curious', 'infrastructure', 'disrupted', 'absurd', 'anna', 'cheers', 'happily', 'crossed', 'prettiest', 'messages', 'alleyway', 'communicate', 'presentation', 'possibilities', 'viena', 'brekfast', 'vodka', 'mended', 'towers', 'compensates', 'worldwide', 'attentitive', 'unsure', 'mislead', 'irritated', '12am', 'coped', 'miguel', 'shift', 'rudely', 'puts', 'eateries', 'america', 'mcdonald', 'kfc', 'remind', 'sits', 'inspired', 'futuristic', 'hose', 'petty', 'users', 'whiskey', 'mat', 'injured', 'coolest', 'spell', 'deliveries', 'blonde', 'occupancy', 'abysmal', '60s', 'demand', 'bfast', 'primavera', '500m', 'consumed', 'unwelcome', 'danger', 'posh', 'horrid', '20mins', 'luxuries', 'rugby', 'investigate', 'impaired', 'audio', 'cutlery', 'greasy', 'systems', 'applies', 'stn', 'fries', 'amenity', 'inquire', 'usage', 'apex', 'exhibition', 'spared', 'herself', 'claims', 'temple', 'reallly', 'dozen', 'uneasy', 'whitechapel', 'loitering', 'frozen', '54', 'bench', 'sarcastic', 'passports', 'guessed', 'origin', 'interact', 'orsay', 'disliked', 'congrats', 'wonky', 'chiswick', 'dad', 'competitive', 'selfridges', 'passage', '15minutes', 'hugely', 'dates', 'synthetic', 'implemented', 'inexpensive', 'enhanced', 'ashtray', 'slipped', 'comforter', 'flour', 'update', 'mode', 'excluded', 'reimburse', 'currency', 'evrything', 'malpensa', 'soup', 'mothers', 'england', 'effect', 'disruption', 'mount', 'tick', 'folks', 'stadpark', 'competitors', 'flushing', 'bijou', 'disconnecting', 'singel', 'labyrinth', 'queried', 'apologising', 'mitre', 'sex', 'luxembourg', 'expressed', 'signals', 'everithing', 'equals', 'accompanying', 'surfing', 'increased', 'flawless', 'technician', 'financial', 'loss', 'benefited', 'stick', 'substandard', 'paintwork', 'waitrose', 'pots', 'bluetooth', 'materials', 'unstable', 'printer', 'printed', 'partially', 'organisation', 'tends', 'unnecessarily', 'wil', 'platz', 'cuisines', 'naschmarkt', 'arranging', 'aslo', 'gentlemen', 'finger', 'frontdesk', 'headed', 'community', 'pools', 'enthusiasm', 'stored', 'floorboards', 'creaked', 'jammed', 'faint', 'armchairs', 'dipped', 'runner', 'james', 'outs', 'bathtubs', 'bleak', 'abandoned', 'commuting', 'carvery', 'fragrance', 'keycard', 'playground', 'soundproofed', 'wandering', 'shirts', 'furbished', 'pad', 'organization', 'bureau', 'westfield', 'fortunate', 'southern', 'obstructed', 'mate', 'burning', 'lobster', 'conducive', 'setup', 'semi', 'co', 'behavior', 'airconditioning', 'wth', 'refundable', 'scaffold', 'today', 'savvy', 'shed', 'molton', 'tha', 'astonishing', 'array', 'behaved', 'attract', 'country', 'mails', 'insulated', 'occupied', '190', 'proposed', 'outdoors', 'upscale', 'rattled', 'potatoes', 'merlot', 'revellers', 'operating', 'homeless', 'beggars', 'resemble', 'gloomy', 'flowing', 'carpeting', 'brushed', 'sand', 'sweaty', 'feed', 'imac', 'rediculous', 'cuts', 'supreme', 'messed', 'precisely', 'functioned', 'tranquil', '36', 'sale', 'pin', 'costumer', 'smth', 'bent', 'inspect', 'grandeur', 'bathroon', 'emails', 'enclosed', 'stressful', 'les', 'halles', 'muslims', 'scotland', 'token', 'odor', 'breathtaking', 'evident', 'shortage', 'repeated', 'britannia', 'malls', 'ticks', 'francisco', 'runny', 'meanwhile', 'processed', 'pen', 'naturally', 'modernisation', 'stolen', 'reflects', 'hectic', 'detract', 'strategically', 'lima', 'delicacies', 'similarly', 'conscious', 'topper', 'holborn', 'communicated', 'locals', 'ammenities', 'grounds', 'performance', 'excessively', 'thier', 'diversity', '15th', 'excessive', 'corrected', 'mandatory', 'backs', 'reset', 'increase', 'brill', 'pizzas', 'amazed', '60th', 'ending', 'claudia', 'anne', 'wireless', 'grabbed', 'porters', 'dire', 'awfully', 'scraping', 'wrapped', 'soaps', 'quadruple', 'disappeared', 'shines', 'eyes', 'charing', 'nature', 'enquiries', 'engaging', 'century', 'sachet', 'gail', 'patricia', '71', '24hrs', 'aloof', 'burned', 'wines', 'cart', 'fusty', 'husbands', 'jacket', 'dress', 'recorded', 'soulless', 'correctly', 'fight', 'unwanted', 'ignorance', 'richmond', 'buggy', 'globe', 'orient', 'venice', 'hammam', 'placement', 'interconnecting', 'hoovered', 'metrostation', 'matrass', 'unpacked', 'styles', 'younger', 'confuse', 'kleenex', 'investment', 'repairs', 'scent', 'sharp', 'jugged', 'hare', 'wing', 'escorted', 'fingers', 'manual', 'tubs', 'snooty', '240', 'hosting', 'thirty', 'sporadic', 'servicing', 'unobtrusive', 'terminus', 'complex', 'belvedere', 'touched', 'combined', 'mis', '1min', 'hike', 'impersonal', 'marked', 'pickup', 'fulham', 'stephanplatz', 'branded', 'prater', 'purchases', 'definitively', 'headaches', 'japanese', 'heavenly', 'interruptions', 'seamless', 'complimentry', 'seek', 'insistence', 'nit', 'fireplaces', 'atrocious', 'pays', 'refurbish', 'unhealthy', 'xmas', 'thoughtfully', 'architect', 'guell', 'pineapple', 'sunbathing', 'wishing', 'urgent', 'swap', 'claim', 'opposed', 'architectural', 'victorian', 'schedule', 'ticked', 'trapped', 'contains', 'flavored', 'awfull', '180', '220', 'win', 'competition', 'matching', 'crowd', 'embassy', 'easiest', 'passcode', 'telly', 'winding', 'tops', 'martin', 'crammed', 'engineer', '149', 'desks', 'needless', '24hour', 'infested', 'printing', 'theft', 'proactive', 'alive', 'dest', 'swimmingpool', 'picturesque', 'depicted', 'contain', 'walkway', 'jamie', 'memorable', 'scuff', 'badge', 'install', 'urge', 'muesli', 'college', 'mohammed', 'consierge', '5am', 'recognise', 'gallery', 'nervous', 'accomodated', 'stinky', 'wery', 'caution', 'upsetting', 'gaps', 'sorts', 'recognition', 'kicking', 'tentative', 'ought', 'mosquitos', 'enquiry', 'russell', 'dial', '507', 'pride', 'inconveniences', 'forms', 'cafeteria', 'acoustic', 'racket', '5star', 'lazare', 'untrue', 'strength', 'pics', 'text', 'straighteners', '105', 'upsell', 'pullman', 'monumental', 'relationship', 'spinach', 'trainstation', 'advising', 'mike', 'oscar', 'bowls', 'busiest', 'teenagers', 'expert', 'discreet', 'contacting', 'utility', 'airline', 'overbooked', 'classify', 'helful', 'frank', 'inns', 'snug', 'inward', 'officer', 'niggle', 'picks', 'draining', 'excess', 'quirkiness', 'lisa', 'foc', 'revisit', 'licence', 'busier', 'faucet', 'vauxhall', 'spartan', 'decently', 'moist', 'mouth', 'watering', 'hammock', 'abd', 'overdone', 'malfunctioned', 'visa', 'statement', 'claimed', 'believed', 'deliver', 'rats', 'movements', 'sa', 'edgware', 'os', 'rule', 'cockroach', 'appointment', 'creditcard', 'midday', 'membership', 'enabled', 'clueless', 'simultaneously', 'consequently', 'thistle', 'pit', 'unattractive', 'restorant', '230', 'announced', 'rained', 'forest', 'liberty', 'palladium', 'vey', 'selling', 'terras', 'accessing', 'shoddy', 'excelente', 'foreigners', 'gaudi', '300m', 'ipod', 'apologized', 'exceed', 'hygienic', '1hr', 'originality', 'controllable', 'join', 'jaz', 'ajax', 'biljmer', '46', 'coats', 'lcd', 'yoghurts', 'crispy', 'styling', 'goods', 'boots', 'highlights', 'dispute', 'ultimately', 'pic', 'eaters', 'rathaus', 'carlos', 'economical', 'notified', 'straightforward', 'aside', 'onward', 'factory', 'blood', 'stain', 'hygenic', 'comprehensive', 'unpack', 'ther', 'upright', 'coffin', 'peculiar', 'strategic', 'handful', 'appalled', 'sided', 'matrasses', 'draperies', 'dreary', 'sensor', 'cans', 'sullen', 'success', 'representative', 'andy', 'panini', 'squashed', 'maitre', 'appointments', 'infinity', 'spring', 'grades', 'likewise', 'choc', 'brownies', 'bunk', 'dawn', 'inferior', 'responsible', 'annexe', 'delt', 'occurred', 'ideas', 'password', 'serene', 'kicked', 'operational', 'flooding', 'overdrawn', 'mere', 'brushing', 'flannel', 'professionally', 'download', 'wave', 'september', 'vondel', 'leidseplein', 'moquette', 'theatreland', 'chinatown', 'closets', 'glories', 'dom', 'beneath', 'mila', 'lite', 'understated', 'refined', 'appearing', 'lowered', 'trouser', 'variation', 'vibrating', 'squeaking', 'salt', 'holder', 'catered', 'boot', 'prison', 'exceptions', 'hostile', 'favour', 'assumption', 'grace', 'delicate', 'carnival', 'gear', 'anytime', 'respects', 'lifting', 'shuffle', 'forgetting', 'backwards', 'independent', 'versailles', 'broadband', 'woeful', 'diana', 'refills', 'inattentive', 'whoever', 'straw', 'menue', 'gore', 'facade', 'hurry', 'referring', 'trash', 'awhile', 'lid', 'mercure', '130', 'extravagant', 'airbnb', 'waffle', '80s', 'drawn', 'specify', 'knob', 'scared', 'latch', 'beeping', 'visual', 'pavement', 'cheek', 'au', 'memory', 'stable', 'tin', 'mugs', 'pampered', 'magic', 'wings', 'piped', 'singing', 'application', 'silver', 'stopover', 'ocean', 'sunrise', 'disconnected', 'bee', 'sanctuary', 'infused', 'sloane', 'authorised', 'noisier', 'national', 'story', 'hook', 'void', 'redecoration', 'beef', 'hospitable', 'threw', '59', 'yrs', 'trade', 'ws', 'roadworks', 'propose', 'cruises', 'regulations', 'ment', 'damrak', 'rd', 'youth', 'license', 'circumstances', 'chocolat', 'grill', 'pile', 'nottinghill', 'biking', 'automated', 'tank', 'identical', 'tiniest', 'oldest', '14th', 'forum', 'jogging', 'coeliac', 'toasting', 'dutch', 'tr', 'storey', 'pet', 'inflexible', 'readily', 'gd', 'sloping', 'catering', 'toddlers', 'dissapointing', 'suits', 'extraordinarily', 'tainted', 'flimsy', 'separating', 'vibrations', 'chipping', 'admittedly', 'letters', 'freshener', 'identity', 'hiltons', 'girlfriends', 'nightcap', 'wallet', 'smokers', 'smokey', 'vacant', 'usd', 'refusing', 'rotten', 'rooom', 'dj', 'resturants', 'magnifying', 'circle', 'entertaining', 'background', 'unwind', 'bistro', 'citizen', 'ambassadors', 'olives', 'resident', 'brunch', 'reply', 'y', 'flood', '207', 'china', 'untill', 'branch', 'converters', 'version', 'taj', 'receipt', 'se', 'describe', 'miscommunication', 'divided', 'infront', 'converted', 'operated', 'decadent', 'recompense', 'bravo', 'norm', 'breathe', 'holland', 'intrusive', 'nationalities', 'lux', 'gorgeously', 'flustered', 'protection', 'nightly', 'foreign', 'disruptive', 'deter', '110', 'manchester', 'dustbin', 'aesthetically', 'splashed', 'sooner', 'piazza', 'del', 'contrast', 'ornate', 'adjustable', 'launch', 'fro', 'localisation', 'redecorating', 'modernising', 'widely', 'varying', 'mild', 'persian', '08', 'mrs', 'handling', 'shattered', 'remains', 'additions', 'slammed', 'hello', 'sorting', 'laundromat', 'capsules', 'elbows', 'quantity', 'mop', 'leakage', 'recommendable', 'effiel', 'exotic', 'flair', 'dangerously', 'frames', 'wich', 'f1', '4stars', 'chatted', 'controller', 'speaks', 'pierre', 'cloth', 'tie', 'pouring', 'empathy', 'escalator', 'hourly', 'aperitif', 'ringing', 'micro', 'gutted', 'thrilled', 'doubles', 'mecure', 'understandably', 'glance', 'joined', '144', 'witch', 'sisters', 'role', 'model', 'emplacement', 'mosquitoes', 'egyptian', 'confined', 'litter', 'disappear', 'aprox', 'born', 'furnishing', '15am', 'react', 'prawn', 'alittle', 'lager', 'christian', 'amd', 'release', 'aqua', 'cranky', 'enquire', 'impeccably', 'prestigious', 'surpassed', 'sum', 'vell', 'laminate', 'batteries', 'spoons', '28th', 'excluding', 'drier', 'casino', '45pm', 'draughty', 'inflated', 'bills', 'knee', 'cote', 'offices', 'sophisticated', 'neighborhoods', 'departed', 'venues', 'comforts', 'tradition', 'adjusting', 'empowered', 'hundreds', 'sill', 'expencive', 'moon', 'gf', 'peter', 'evacuation', 'mildew', 'annoyance', 'owned', '65', 'circulate', 'rinse', 'wired', 'tipping', 'reducing', 'encourage', 'motorbikes', 'implied', 'marvellous', 'christina', 'habit', 'naked', 'everyting', 'worm', 'oldish', 'cycling', 'butts', 'champ', 'bathtube', 'deposits', 'domestic', 'coach', 'warren', 'settings', 'scramble', 'baking', 'advert', 'airconditioned', 'swiming', 'toddler', 'broom', '320', 'commitment', 'award', 'stationary', 'quote', 'quoted', 'facilites', '20minutes', 'constructions', 'shuttles', 'airports', 'freshness', 'rigid', 'goof', 'attic', 'optimal', 'throat', '42', '135', 'dismal', 'fake', 'slightest', 'guaranteed', 'brewery', 'transformed', '611', 'breaking', 'million', 'roman', 'vinegar', 'meh', 'planes', 'cleverly', 'colours', 'nerves', 'uncooperative', 'personell', 'hermes', 'ball', '530', 'issued', 'definite', 'sited', 'wander', 'urine', 'crappy', 'revelers', 'measured', 'connects', 'ikea', 'nightclubs', '12th', 'midst', 'tariff', 'cleanless', 'm2', 'containers', 'sorbonne', 'enable', 'programme', '20m', 'observation', 'ins', 'hangout', '203', 'tramway', 'bignami', 'coloured', 'generously', 'stefanie', 'fires', 'avoiding', 'bur', 'fills', 'boss', 'oper', 'unloading', '10min', 'vanity', 'clubs', 'incentive', 'quartier', 'hampshire', 'flaw', 'cabs', 'cooperation', 'inspection', 'portobello', 'underfloor', 'depend', 'largely', 'uninteresting', 'tasting', 'coat', 'recieve', 'lanes', 'untrained', 'informations', 'father', 'useable', '4g', 'rumble', 'former', 'aroma', 'dampness', 'illegal', 'shrug', 'lastly', 'weekly', 'nope', 'pretending', 'rushing', 'skylight', 'gherkin', 'wetherspoons', 'fountain', 'locaton', 'smashed', 'blamed', 'xx', 'footsteps', 'shouldnt', 'amusing', 'severe', 'pains', 'nr', 'redone', 'oyster', 'havent', 'likes', 'styled', 'accident', 'outgoing', 'valve', 'overflow', 'bothering', 'uninviting', 'bartenders', 'utmost', 'fantastically', 'sake', 'drown', 'connectivity', 'severely', 'clapham', 'frustration', 'netherlands', 'invite', 'cellphone', 'excuses', 'cables', 'reward', 'centres', 'lemon', 'truffles', 'lug', 'pros', 'controlling', 'vibration', 'rai', '13th', 'fear', 'heights', 'overal', 'chefs', 'til', 'gust', 'indoors', 'forthcoming', 'bout', 'snoring', 'doubled', 'upkeep', 'ps', 'staid', 'claire', 'miniscule', 'suburban', 'jobs', 'omg', 'stare', 'nad', 'pringles', 'creak', 'aweful', 'chemical', 'uninterested', 'downgraded', 'pretended', 'boutiques', 'vondelpark', 'museumplein', 'elemis', 'drawbacks', 'facelift', 'december', 'alex', '04', 'appliances', 'arty', 'landings', 'war', '3star', 'icing', 'discovering', 'ceremony', 'porta', 'snd', 'daniel', 'ist', 'arm', 'separation', '3min', 'november', 'hen', 'damages', '57', 'palais', 'pipe', 'stifling', 'neglected', 'legal', 'hyatt', 'sour', 'graffiti', 'drastic', 'westminister', 'und', 'resort', 'poisoning', 'companion', 'distinct', 'manned', 'coverage', 'searched', 'island', 'classes', 'beautyful', 'fo', 'aimed', 'sector', 'renewal', 'scratchy', 'eighth', 'bagels', 'outstandingly', 'sheer', 'undergoing', 'flaky', 'modest', 'reverse', 'arab', 'nada', 'veggie', 'element', 'physical', 'wink', 'insulting', 'derelict', 'sudden', 'register', 'massively', 'resolving', 'dietary', 'restrictions', 'polish', 'keyboard', 'doubletree', 'locating', 'taught', 'enormously', 'ca', 'flavoured', 'andrea', 'discretion', 'screwed', 'task', 'discussing', 'chap', 'jumped', 'profile', 'wiped', 'owed', 'functionality', 'operator', 'granola', 'library', 'significant', 'traps', '1m', 'perception', 'reputation', 'peppermint', 'berries', 'comfey', 'exhausted', 'avail', 'homey', 'gps', 'rug', 'mountains', 'presenting', 'nuisance', 'excellence', 'society', 'restroom', 'occitane', 'mobility', 'ultra', 'operates', 'freezer', 'abt', 'unblock', 'drops', 'duties', 'lagged', 'research', 'getaway', 'extension', 'drunken', '34', 'teenager', 'uncertain', 'listing', 'escapes', 'lockers', 'fulfill', 'polished', 'depot', 'spit', 'combine', 'invested', 'glory', 'deg', 'bitter', 'apt', 'trump', 'perfekt', 'gaulle', 'stall', 'combo', 'joints', 'preferences', 'tel', 'winner', 'simplicity', 'program', 'madam', 'obtain', 'di', 'discounts', 'vat', 'exe', 'laptops', 'effortless', 'isle', 'a1', 'ann', 'refit', 'q', 'il', 'jardin', 'commented', 'montmarte', 'undisturbed', 'tp', 'guessing', 'latte', 'majestic', 'simon', 'tailored', 'graded', 'rudeness', 'tlc', 'sealant', 'ref', 'marmalade', 'weetabix', 'luck', 'tibidabo', 'totaly', 'sq', 'julia', 'lent', 'rainfall', 'presumably', 'macaroons', 'seasonal', 'monitor', 'specialy', 'fatima', 'united', 'relied', 'baguette', 'rediculously', 'wipe', 'axel', 'approved', 'stepping', 'theres', 'tramp', 'pc', 'candies', 'artwork', 'exiting', 'flatscreen', 'extremly', 'edible', 'miniature', 'subways', 'intention', 'staircases', 'innkeepers', 'hindsight', 'mature', 'exposed', 'organize', 'rooftops', '1500', 'sewerage', 'u2', 'interieur', 'lasted', 'rembrandtplein', 'powdered', 'creamer', 'dot', 'prominent', 'software', 'aires', 'lords', 'consisted', 'laura', 'nites', 'wrongly', 'stir', 'raspail', 'gum', 'receiption', 'houskeeping', 'rammed', 'lovey', 'coldness', 'alternate', 'qualities', 'toiletteries', 'ons', 'unlucky', 'townhouse', 'sophistication', 'kinder', 'timetable', 'absolut', 'steal', 'mojitos', 'remodeled', 'thr', 'caffe', 'yourselves', 'offhand', 'nearness', 'friendy', 'walkways', 'austere', 'sleeps', 'positively', 'tablet', 'musky', 'riding', 'digging', 'kate', 'corso', 'buenos', 'litle', 'della', 'milks', 'overpowering', 'chargeable', 'assistant', 'bubble', 'nh', 'patisserie', 'snobby', 'characters', 'alongside', 'manoeuvre', 'plunge', 'cognac', 'panorama', 'brushes', 'smoothie', 'upcoming', 'broad', 'samsung', 'creature', 'fighting', 'argued', 'evidently', 'tedious', 'ealing', 'glamorous', '205', 'chased', 'brera', 'shoppers', 'platform', 'consume', 'promises', 'hackney', 'farm', 'shore', 'ditch', 'mint', 'programmes', 'russian', 'orientation', 'skyline', 'nyc', 'encouraged', 'citizens', '89', 'grosvenor', 'overbooking', 'drills', 'arose', 'insipid', 'bathing', 'pressing', '350', 'jackets', 'countless', 'thay', 'embarrassment', 'freshening', 'disorganized', 'freeze', 'fraud', 'helen', 'enhance', 'suspected', 'rings', 'personalized', 'swiss', 'effects', 'keeper', 'shall', 'deli', 'mistaken', 'bud', 'bloody', 'unsightly', 'izakaya', 'dollars', 'disabilities', 'appauling', 'peanuts', 'belonged', 'postcode', 'spoils', 'rundown', 'lemonade', 'faster', '109', 'spilt', 'eva', 'pints', 'baileys', '197', 'evacuated', 'hotell', 'robbery', 'meets', 'advantages', 'dissatisfaction', 'pathway', 'locker', 'ahmed', 'label', 'default', 'claiming', 'spotlights', 'asks', 'wheel', 'mondrian', 'remedy', 'smack', 'accomodations', '6ft', 'planet', 'smellies', 'antonio', 'viewing', 'tee', 'truth', 'actions', 'habits', 'pork', 'drawback', 'grumble', 'crockery', 'finishes', 'intelligent', 'corresponding', 'programs', 'disrepair', '20th', 'dynamic', 'renaissance', 'z', 'befor', 'introduced', 'convent', 'barking', 'wobbly', 'replenishing', 'hired', 'pour', 'haphazard', 'whirlpool', 'paste', 'sweating', 'subtle', 'desert', 'informal', 'renewing', 'partition', 'laughing', 'rebuild', 'packs', 'schipol', 'painfully', '69', 'overcharge', 'ghost', 'tears', 'grilled', 'nose', 'sarah', 'underwhelming', 'eco', 'scenario', 'overheard', 'deserted', 'roughly', 'eastern', 'stranded', 'wifes', 'rendering', 'lotions', 'bedsheets', 'fountains', 'youtube', 'accustomed', 'condiments', '22nd', 'unload', 'renew', 'skipped', 'abundant', 'angel', 'compliments', 'codes', 'field', 'shoes', 'prob', 'mn', 'reject', 'remodeling', 'coordination', 'lengths', 'tries', 'scenic', 'inclusions', 'tuesday', 'accomadating', 'glimpse', 'costed', 'asap', 'dubai', 'bettered', 'exelent', 'possessions', '1km', 'restaraunts', 'paddling', 'repetitive', 'stranger', 'rice', 'poured', 'shelving', 'gran', 'beats', 'freebies', 'moves', 'turkish', 'beautifull', 'dissappointed', 'suffered', 'dis', 'gusts', 'wit', 'unwell', 'accepting', 'accounts', 'stage', 'bun', 'safer', 'rainforest', 'laying', 'beatiful', 'skyy', 'prawns', 'depends', 'aches', 'tripped', 'goodge', 'socks', 'situations', 'creepy', 'weighing', 'roomservice', 'malmaison', 'recognize', 'loyal', 'wasting', 'daunting', 'lys', 'es', 'displays', 'artificial', 'enters', 'soya', 'dump', 'pres', 'thief', 'itinerary', 'android', 'vibes', 'pitch', '118', 'rolled', 'proffessional', 'roissy', 'misled', 'workman', 'varies', 'drunks', 'eventim', '37', 'suprised', 'landed', 'ghetto', 'waits', 'nye', 'oneself', 'learned', 'holders', 'advisor', 'subpar', 'daylight', 'plays', 'pink', 'wiring', 'oppressive', 'striking', 'teabag', 'responses', 'ambulances', 'tres', 'bermondsey', 'reversed', 'robots', 'kew', 'salami', 'affair', 'terrorist', 'echo', 'reial', 'shepherds', 'empire', 'lies', 'petrol', 'insect', 'definition', 'theirs', 'utterly', 'producing', 'barrier', 'recover', 'barca', 'ducts', 'struck', 'victor', 'partake', 'uplift', 'diligent', 'halfway', 'problematic', 'inevitable', 'delivers', 'savoy', 'eight', 'tablets', 'lasagne', 'represent', 'shout', 'navigating', 'sourced', 'mask', 'ricardo', 'reacted', 'jar', 'adequately', 'unsatisfactory', 'stamford', 'anti', 'circuit', 'locks', 'wicked', 'learning', 'reluctant', 'horn', 'butler', 'mon', 'paths', 'supplement', '72', 'posted', 'compfy', 'slick', 'gratis', 'plants', 'cameras', 'trolley', 'processes', 'theaters', 'crap', 'cosmetics', 'provisions', 'behave', 'aesthetics', 'resolve', 'et', 'prix', 'surface', 'chambre', 'instruction', 'reminder', 'ala', 'overrated', 'screens', 'custom', 'expenses', 'native', 'trainer', 'scala', 'divider', '1pm', 'purse', 'garibaldi', 'brightly', 'promoted', '414', 'cluttered', 'wonderland', 'cracking', 'atitude', 'rung', 'niggles', 'francesco', 'overloaded', 'flawlessly', 'mistakenly', 'grease', 'overlook', 'spectrum', 'scooter', 'dresser', 'tempted', 'agreement', 'shouted', '800', 'stared', 'returns', 'envelope', 'turist', 'freeview', 'attitudes', 'redecorated', 'counts', 'grip', 'slippy', 'conditioners', 'springy', 'hefty', 'bulky', 'manages', 'relief', 'slanted', 'veggies', 'tripadvisor', 'dint', 'fetch', 'tracks', 'prefered', 'orderd', 'fold', 'mojito', 'dual', 'matresses', 'liquor', 'candy', 'dispensed', 'u3', 'ignorant', 'guiding', 'tge', 'dandelyan', 'understatement', 'lovation', 'ali', 'argument', 'soda', 'pungent', 'hide', 'gifts', 'chilling', 'swan', 'witnessed', 'facebook', 'amusement', 'disputed', '269', 'pur', 'servers', 'unfailingly', 'definitly', 'dating', 'repainting', 'especial', 'classed', 'parc', 'integrated', 'impacted', 'intermittently', 'fairness', 'kitted', 'repairing', 'hdmi', 'villa', 'stazione', 'trick', 'brakefast', 'scruffy', '70s', 'variable', 'stinks', 'resembled', '25mins', 'stuffed', 'rapidly', 'preventing', 'malfunctioning', 'lip', 'lipstick', 'vile', 'helpless', 'wednesday', 'inspite', 'pole', 'parliment', 'depart', 'modes', 'mayonnaise', 'shell', 'architecturally', 'fri', 'comfrotable', 'intent', 'overwhelmingly', 'adjustments', 'cosmopolitan', 'proficient', 'greetings', 'dissapointment', 'signposted', 'greater', 'unorganized', 'ar', 'patience', 'content', 'spitalfields', 'granddaughter', 'aid', 'admire', 'thread', 'martina', 'felix', 'modernization', 'centralized', 'bankside', 'br', 'penalty', 'fool', 'agent', 'lication', 'faulted', 'seafood', 'comfortabel', 'allergic', 'mayor', 'sticking', 'scenes', 'poolside', 'lessons', 'pablo', 'packages', 'assisting', 'rubens', 'corn', 'entertained', 'hostels', 'kitchens', 'departments', 'bog', '76', 'nonchalant', '160', 'subsequently', 'prevented', 'studying', 'infant', 'wembly', 'furnitured', 'fr', 'roofs', 'lighted', 'project', 'rivoli', 'bouncy', 'den', 'lining', 'ken', '06', 'dishwasher', 'forbidden', 'contributed', 'faucets', 'backside', 'pan', 'beneficial', 'yoga', 'oranges', 'piles', 'brisk', 'ledge', 'wakes', 'frindly', 'aperitivo', '001', 'judging', 'saver', 'folk', 'westend', 'married', 'rebook', 'refilling', 'pr', 'remaining', 'bday', 'unheard', 'artsy', 'fresher', 'flushes', 'preferable', 'portland', 'momo', 'leaky', 'shoping', 'handbag', 'underway', 'bedsheet', 'stansted', 'viewed', 'epic', 'sacre', 'honours', 'convient', 'selecting', 'pulling', 'luca', 'upholstered', 'cola', 'illy', 'cbd', 'nine', 'file', 'congealed', 'measures', 'supberb', 'securely', 'basins', 'fridges', 'scrumbled', 'prague', 'bw', 'hd', 'comp', 'coupled', 'wonderfull', 'flashy', 'recognised', 'extract', 'treadmill', 'telephoned', 'adorable', 'happiness', 'shake', 'boxing', 'accomadation', 'spoiling', 'extending', 'vale', 'tim', 'nachos', 'rotterdam', 'urgell', 'ans', 'facecloths', 'adventure', 'lean', 'carrot', 'officially', 'tapping', 'toren', 'childrens', 'waived', 'whereas', 'circular', 'spill', 'preparation', 'sundays', '204', 'owe', 'eventhough', 'directing', 'intuitive', 'lever', 'seemingly', 'clarified', 'coeur', 'sexy', 'rave', 'emma', 'niece', 'pier', 'glitches', 'plethora', 'audible', 'mechanism', 'ticking', 'combining', 'village', 'flakes', 'countryside', 'cord', 'fluctuated', 'prosseco', 'horse', 'chemicals', 'whats', 'slid', 'ireland', 'accor', 'toe', 'moments', 'utilized', 'wholesome', 'lo', 'thomas', 'frontage', 'deserts', 'gelato', 'tells', 'pigeons', 'necessarily', 'meagre', 'session', 'guestroom', 'amend', 'asian', 'strongest', 'chanel', 'concord', 'patiently', 'pigalle', 'adaptors', 'festive', 'reckon', 'cubical', 'kamer', 'moring', 'pee', 'worlds', 'dorsett', 'laud', 'document', 'alfonso', 'bet', 'taller', 'greek', 'reseption', 'surrounds', 'atall', 'musical', 'faculties', 'potter', 'guides', 'feathers', 'uht', 'impress', 'richer', 'ba', 'airways', 'allocate', 'bot', 'trivial', 'receptive', 'tied', 'lavish', 'tele', 'christopher', 'diy', 'capital', 'fiddly', 'odeon', 'dilapidated', 'celebrations', 'ha', 'toys', 'smoky', 'sells', 'bussiness', 'target', 'unknown', 'lesser', 'conformable', 'gard', 'langham', 'hotle', 'rosa', 'hotspot', 'globally', 'alike', 'bathrob', 'army', 'pie', 'represents', 'superficial', 'swift', 'richard', 'displeased', 'william', 'linger', 'cappucino', 'razor', '508', 'logged', '3g', 'grange', 'ethical', 'fir', 'qualify', 'dumped', 'crown', 'schwedenplatz', 'islington', 'walled', 'conrad', 'maintain', 'deduct', 'disk', 'reassure', 'awsome', 'splash', 'uncomfy', 'chip', 'unmanned', 'manually', 'hauptbahnhof', 'focussed', 'handicap', 'refunding', 'poorer', 'worthwhile', 'convinced', 'warf', 'elaborate', 'unorganised', 'maximise', 'highways', 'dash', 'sooooo', 'assorted', 'silken', 'educated', 'guinness', 'insecure', 'rejected', 'programmed', 'sympathy', 'stylishly', 'established', 'attack', '145', 'moan', 'plesent', 'ness', 'stephansdom', 'shadow', 'napkins', 'queued', 'sweat', 'pcs', 'ducks', 'submit', 'dared', 'gates', 'staring', 'obliged', 'londons', 'cider', 'enabling', 'noone', '20am', 'comfty', 'rabbit', 'gaucho', 'irresponsible', 'detect', 'siesta', 'trading', 'toom', 'ditto', 'spreading', 'tiling', 'stern', 'definatley', 'decorative', 'bend', 'rounds', 'supported', 'trocadero', 'unappetising', 'cartons', 'fixture', 'kebab', 'favor', 'skip', 'cc', 'calibre', 'generators', 'anyhow', 'tripping', 'horrific', 'colorful', 'soul', 'ringstrasse', 'chewing', '31', 'pianist', 'spacey', 'dresses', 'chief', 'permanent', 'production', 'faded', 'environmentally', 'potato', 'inbetween', '30min', 'sangria', 'starving', 'krasnapolsky', 'discretionary', 'banana', 'benches', 'giulia', 'schoenbrunn', 'althought', 'tenant', 'andaz', 'spirit', 'jugs', 'u1', 'tool', 'enclosure', 'unprepared', 'railroad', 'unwashed', 'alma', 'cctv', 'timed', 'strictly', 'consecutive', 'timer', 'browsing', 'rhe', 'foe', 'prostitutes', 'insurance', 'spar', 'rood', 'dozens', 'roon', 'supplying', 'hubby', 'presentable', 'transportations', 'explains', 'mains', 'rom', 'cats', 'ton', 'tripple', 'garcia', 'spouse', 'rome', 'appeal', '200m', 'ration', 'tramline', 'trafic', 'belt', 'torture', 'dragging', 'iced', 'entrances', 'fillet', 'pointing', 'gently', 'wakeup', 'ballroom', 'germaine', 'doctor', 'metre', 'scuffed', 'photography', 'females', 'canceled', 'initiative', 'locatin', 'brusque', 'trainees', 'interests', 'valentina', 'wif', 'troubles', 'usefull', 'altough', 'detergent', 'reserving', 'recessed', 'unfinished', 'detected', 'evidence', 'procedures', 'pursue', 'monotonous', 'teens', 'measure', 'wonders', 'oily', 'attempting', '310', 'estate', 'timings', 'mainline', 'cadorna', 'prima', 'ligging', 'briefly', 'york', 'league', 'comfotable', 'activated', 'scottish', 'parade', 'vamp', 'kudos', 'patches', 'delightfully', 'pretend', 'acting', 'sim', 'notices', 'karlsplatz', 'phoning', 'largest', 'mushroom', 'grading', 'thumbs', 'simone', 'ultimate', 'fuse', 'restuarants', 'tiresome', 'unhelpfull', 'distribution', 'attachment', 'checks', 'arrondissement', 'faith', 'lifted', 'mission', 'remainder', 'como', 'academy', 'dumo', 'vis', 'lesson', 'development', 'm4', 'aircraft', 'racks', 'driven', '150m', 'borderline', 'sneezing', 'voices', 'cappuccinos', 'sylvia', 'comb', 'neatly', 'denis', 'journeys', 'tro', 'queueing', 'specials', 'kelly', 'ambulance', 'jelly', 'seedy', 'disconnect', 'inevitably', 'prints', 'entitled', 'holds', 'fav', 'thieves', 'comming', 'alles', 'rested', 'julio', 'benjamin', 'omlette', 'coughing', 'hurried', 'grimy', 'inserted', 'flats', '309', 'longest', 'ny', 'scott', 'distracting', 'blows', 'benefitted', 'vice', 'rim', '3mins', 'prize', 'gracias', 'blond', 'paseo', 'yds', 'died', 'sec', 'limp', 'frills', 'teething', 'provider', 'angles', 'adored', 'criticisms', 'exhibitions', 'restraunt', 'verity', 'strangers', 'coin', 'amenable', 'brownie', 'minuts', 'ting', 'swapped', 'tgv', 'toileteries', 'duly', 'mare', 'badroom', 'satisfactorily', 'hallen', 'reviewed', 'moaning', 'arival', 'saggy', 'neon', 'tightening', 'associated', 'spruce', 'chocs', 'kits', 'boulangerie', 'tuned', 'expired', 'verry', 'vine', 'bowling', 'preauthorised', 'annoyingly', '23rd', 'marred', 'pas', 'cupcakes', 'loving', 'themes', 'lick', 'satellite', 'furthest', 'everythings', 'misrepresented', 'adele', 'realistic', 'dimensions', 'miraculously', 'sections', 'offensive', 'individuals', 'versa', 'reimbursed', 'battle', 'leafy', 'facilitate', 'salzburg', 'operations', 'monitored', 'aug', 'montjuic', 'madeleine', 'anf', 'reliability', 'browser', 'dispite', '116', 'leaflet', 'vastly', 'renovate', 'muslim', 'spider', 'och', 'att', 'raucous', 'microwaved', 'demands', 'inclined', 'crackers', '601', 'melted', 'complications', 'authorization', 'louder', 'hers', 'knobs', 'peg', 'knees', 'applied', 'ears', 'babies', 'j', 'fond', 'med', 'fluently', 'lest', 'clunking', 'kitkat', 'aloft', 'records', 'sidewalks', 'hv', 'moisture', 'detour', 'seeking', 'cares', 'internally', 'depth', 'graduation', 'settee', '189', 'fizzy', 'japan', 'golf', 'princess', 'hint', 'arround', 'stefano', 'capuccino', 'fiance', 'resto', 'clot', 'clealiness', 'externally', 'seeds', 'blakemore', 'updates', 'int', 'shoebox', 'washrooms', 'allot', 'dental', '213', 'chambers', 'protector', 'burst', 'profit', 'garnier', 'engage', 'grande', 'installation', 'cuz', 'chandeliers', 'dairy', 'leftover', 'eclectic', 'uniquely', 'scarce', 'poble', 'wetroom', 'trousers', 'skimpy', 'achieve', 'economic', 'ships', '1h', 'underwhelmed', 'drill', 'overseas', 'appetizers', '29th', 'sessions', '10m', '111', 'feelings', 'ineffective', 'noodles', 'afield', 'extreamly', 'courtyards', 'clarify', 'tow', 'toothbrushes', 'romance', 'offset', 'labelled', 'versus', 'exists', 'interactive', 'incurred', 'sash', 'restaurantes', 'bleach', 'walker', 'swanky', 'consistency', 'facial', '3x', 'wed', 'rocks', 'descriptions', 'rustic', 'acess', 'beams', 'handheld', 'unresponsive', 'wer', 'invisible', 'marginal', 'emirates', 'balls', 'congierge', 'bain', 'rashers', 'suburbs', 'liner', 'favourites', 'injury', 'anxious', 'randomly', 'mega', 'swept', 'gotten', 'correspond', 'sophia', 'videos', 'notifying', '96', 'spaceous', 'streaming', 'container', 'otel', 'animals', 'notify', 'raphael', 'ads', 'reassuring', 'hamam', 'occupy', 'tremendously', 'bombing', 'pedestrians', '170', 'cent', 'wandered', 'chop', 'permit', 'lee', 'circumstance', 'zetter', 'coins', 'ares', 'xl', 'malfunction', 'interconnected', 'catalunia', 'decour', 'sting', 'skimmed', 'stead', 'annual', 'overrun', 'consequence', 'sloped', 'henry', 'jackhammers', 'bocconi', 'olympics']))"
      ]
     },
     "execution_count": 33,
     "metadata": {
      "tags": []
     },
     "output_type": "execute_result"
    }
   ],
   "source": [
    "vectorizer2.fit([(' ').join(line) for line in wv_train]) #тут лежат объединенные отзывы из трейна, я их склеиваю в строку, тк иначе векторайзер не примет"
   ]
  },
  {
   "cell_type": "code",
   "execution_count": 34,
   "metadata": {
    "colab": {
     "base_uri": "https://localhost:8080/",
     "height": 35
    },
    "id": "9_GkFwdDIP-k",
    "outputId": "06f05639-d560-402d-c5c5-66b9e7371ab5"
   },
   "outputs": [
    {
     "data": {
      "application/vnd.google.colaboratory.intrinsic+json": {
       "type": "string"
      },
      "text/plain": [
       "'the central location and helpfulness of the staff plus pukka breakfast no complaints'"
      ]
     },
     "execution_count": 34,
     "metadata": {
      "tags": []
     },
     "output_type": "execute_result"
    }
   ],
   "source": [
    "[(' ').join(line) for line in wv_train][0] #проверяю, что это норм работает "
   ]
  },
  {
   "cell_type": "code",
   "execution_count": 35,
   "metadata": {
    "colab": {
     "base_uri": "https://localhost:8080/"
    },
    "id": "UfyUPGepAnBP",
    "outputId": "cfcc651e-ede3-477d-e7e5-8702ad3bc1d0"
   },
   "outputs": [
    {
     "data": {
      "text/plain": [
       "8697"
      ]
     },
     "execution_count": 35,
     "metadata": {
      "tags": []
     },
     "output_type": "execute_result"
    }
   ],
   "source": [
    "idf = vectorizer2.idf_ \n",
    "len(vectorizer2.idf_ )"
   ]
  },
  {
   "cell_type": "code",
   "execution_count": 36,
   "metadata": {
    "id": "LVK0E0o2CKb3"
   },
   "outputs": [],
   "source": [
    "idfs = dict(zip(vectorizer2.get_feature_names(), idf)) #создаю словарик, где словам соответствуют их idf "
   ]
  },
  {
   "cell_type": "code",
   "execution_count": 37,
   "metadata": {
    "id": "hxwbOi2Q66PJ"
   },
   "outputs": [],
   "source": [
    "def sent_w2v_idf(sentence, model):\n",
    "    fin = np.array([0]*model.vector_size)\n",
    "    for word in sentence:\n",
    "        if word in model.wv.vocab.keys(): \n",
    "            fin = fin + model[word]*(idfs[word] - 1)\n",
    "        else: \n",
    "            pass\n",
    "    return fin "
   ]
  },
  {
   "cell_type": "markdown",
   "metadata": {
    "id": "Q-qrqUNZDAJr"
   },
   "source": [
    "Я вычитаю 1, так как по дефолту tfidfvetorizer к idf добавляет 1 ([пруф](https://stackoverflow.com/questions/36756335/calculating-idf-using-tfidfvectorizer-from-sklearn-feature-extraction-text-tfidf))"
   ]
  },
  {
   "cell_type": "code",
   "execution_count": 38,
   "metadata": {
    "id": "63oncl8WCU8K"
   },
   "outputs": [],
   "source": [
    "def df_w2v_idf(df, model):\n",
    "    new = [sent_w2v_idf(item, model) for item in df]\n",
    "    return new"
   ]
  },
  {
   "cell_type": "code",
   "execution_count": 39,
   "metadata": {
    "colab": {
     "base_uri": "https://localhost:8080/"
    },
    "id": "DAGATzhx_PAy",
    "outputId": "edf6e7b6-f7f0-40fd-8dc8-a549c0c66970"
   },
   "outputs": [
    {
     "name": "stderr",
     "output_type": "stream",
     "text": [
      "/usr/local/lib/python3.6/dist-packages/ipykernel_launcher.py:1: DeprecationWarning: Call to deprecated `__getitem__` (Method will be removed in 4.0.0, use self.wv.__getitem__() instead).\n",
      "  \"\"\"Entry point for launching an IPython kernel.\n"
     ]
    },
    {
     "data": {
      "text/plain": [
       "array([ 1.0103371 , -1.8279282 ,  0.45265922,  2.7383347 ,  0.22794527,\n",
       "        0.7251977 , -1.019404  ,  2.658697  , -0.75378525, -0.86681324,\n",
       "        0.3777644 , -0.43296733, -0.02857683, -0.23407161, -2.2813926 ,\n",
       "       -0.2877636 , -2.3921995 ,  0.24896592,  0.22245103, -0.25676814,\n",
       "        1.6997426 ,  0.24518259, -1.040208  , -0.8473157 , -0.3411123 ,\n",
       "       -0.6816792 , -1.3731414 , -1.892572  ,  0.37437636, -0.9440226 ,\n",
       "       -0.16773936, -1.6379933 , -0.6186026 ,  0.7465456 , -0.1756425 ,\n",
       "       -0.83920264, -1.423778  ,  0.6333255 , -1.6784024 , -0.1778119 ,\n",
       "        0.3251245 ,  0.9232042 , -0.7187944 ,  0.4342579 ,  0.47205397,\n",
       "        1.0366596 ,  0.5545952 ,  1.4046327 ,  0.08698767,  1.5456557 ,\n",
       "       -1.1937954 , -0.11594364,  0.4210697 ,  0.5272433 , -0.22989494,\n",
       "        2.367037  ,  0.46523842, -1.0155061 ,  0.53060097,  0.51444834,\n",
       "       -0.02289132,  1.8908141 , -0.35836112, -0.66226935, -0.29561147,\n",
       "       -0.45928732,  0.71079814,  0.33891362, -0.33563998, -3.5317008 ,\n",
       "       -0.72308993,  0.14624752,  0.94005203, -0.93740785, -1.0167028 ,\n",
       "        2.119325  , -0.51120746, -0.16626076, -2.039599  , -1.08185   ,\n",
       "       -0.18590382, -1.6937703 , -0.92181355, -0.9554977 ,  0.57138604,\n",
       "        2.4405558 ,  1.3853743 , -1.5312245 ,  0.30751237,  1.2254846 ,\n",
       "       -0.4726987 ,  0.8193979 ,  0.19443628, -0.26541752, -0.06956577,\n",
       "        1.3955071 ,  0.15753768,  1.0988822 , -0.36416447, -0.01297068],\n",
       "      dtype=float32)"
      ]
     },
     "execution_count": 39,
     "metadata": {
      "tags": []
     },
     "output_type": "execute_result"
    }
   ],
   "source": [
    "w2v_one['nice']"
   ]
  },
  {
   "cell_type": "code",
   "execution_count": 40,
   "metadata": {
    "colab": {
     "base_uri": "https://localhost:8080/"
    },
    "id": "XSVRxVR-_W28",
    "outputId": "9a8c2ae4-4b40-4b60-8922-c6330aa42861"
   },
   "outputs": [
    {
     "data": {
      "text/plain": [
       "3.00972982709941"
      ]
     },
     "execution_count": 40,
     "metadata": {
      "tags": []
     },
     "output_type": "execute_result"
    }
   ],
   "source": [
    "idfs['nice']"
   ]
  },
  {
   "cell_type": "code",
   "execution_count": 41,
   "metadata": {
    "colab": {
     "base_uri": "https://localhost:8080/"
    },
    "id": "IwBB5cAy_cAP",
    "outputId": "ba8fe195-3986-47fd-a50c-169c7b903a22"
   },
   "outputs": [
    {
     "name": "stderr",
     "output_type": "stream",
     "text": [
      "/usr/local/lib/python3.6/dist-packages/ipykernel_launcher.py:1: DeprecationWarning: Call to deprecated `__getitem__` (Method will be removed in 4.0.0, use self.wv.__getitem__() instead).\n",
      "  \"\"\"Entry point for launching an IPython kernel.\n"
     ]
    },
    {
     "data": {
      "text/plain": [
       "array([  3.0408418 ,  -5.50157   ,   1.3623819 ,   8.241648  ,\n",
       "         0.6860537 ,   2.1826491 ,  -3.0681307 ,   8.00196   ,\n",
       "        -2.2686899 ,  -2.6088736 ,   1.1369689 ,  -1.3031148 ,\n",
       "        -0.08600855,  -0.70449233,  -6.8663754 ,  -0.8660907 ,\n",
       "        -7.1998744 ,   0.74932015,   0.6695175 ,  -0.7728027 ,\n",
       "         5.115766  ,   0.73793334,  -3.130745  ,  -2.5501914 ,\n",
       "        -1.0266558 ,  -2.0516703 ,  -4.132785  ,  -5.6961308 ,\n",
       "         1.1267717 ,  -2.841253  ,  -0.50485015,  -4.9299173 ,\n",
       "        -1.8618267 ,   2.2469006 ,  -0.5286365 ,  -2.5257733 ,\n",
       "        -4.2851872 ,   1.9061388 ,  -5.051538  ,  -0.5351658 ,\n",
       "         0.9785369 ,   2.7785952 ,  -2.163377  ,   1.306999  ,\n",
       "         1.4207549 ,   3.1200655 ,   1.6691817 ,   4.227565  ,\n",
       "         0.26180938,   4.652006  ,  -3.5930018 ,  -0.34895903,\n",
       "         1.2673061 ,   1.58686   ,  -0.69192165,   7.124142  ,\n",
       "         1.400242  ,  -3.056399  ,   1.5969656 ,   1.5483506 ,\n",
       "        -0.0688967 ,   5.69084   ,  -1.0785701 ,  -1.9932518 ,\n",
       "        -0.88971066,  -1.3823308 ,   2.1393104 ,   1.0200385 ,\n",
       "        -1.0101857 , -10.629465  ,  -2.1763053 ,   0.44016552,\n",
       "         2.8293028 ,  -2.8213444 ,  -3.0600007 ,   6.3785954 ,\n",
       "        -1.5385964 ,  -0.5004    ,  -6.138642  ,  -3.2560763 ,\n",
       "        -0.55952024,  -5.097791  ,  -2.7744098 ,  -2.8757899 ,\n",
       "         1.7197176 ,   7.3454137 ,   4.1696024 ,  -4.608572  ,\n",
       "         0.9255292 ,   3.6883776 ,  -1.4226954 ,   2.4661665 ,\n",
       "         0.58520067,  -0.79883504,  -0.20937416,   4.2000995 ,\n",
       "         0.47414586,   3.3073385 ,  -1.0960367 ,  -0.03903824],\n",
       "      dtype=float32)"
      ]
     },
     "execution_count": 41,
     "metadata": {
      "tags": []
     },
     "output_type": "execute_result"
    }
   ],
   "source": [
    "w2v_one['nice']*idfs['nice']"
   ]
  },
  {
   "cell_type": "code",
   "execution_count": 42,
   "metadata": {
    "colab": {
     "base_uri": "https://localhost:8080/"
    },
    "id": "fPhvL3bXCZoa",
    "outputId": "9de72c5e-b86f-40be-c852-0c8f5eb3b3f0"
   },
   "outputs": [
    {
     "name": "stderr",
     "output_type": "stream",
     "text": [
      "/usr/local/lib/python3.6/dist-packages/ipykernel_launcher.py:5: DeprecationWarning: Call to deprecated `__getitem__` (Method will be removed in 4.0.0, use self.wv.__getitem__() instead).\n",
      "  \"\"\"\n"
     ]
    }
   ],
   "source": [
    "v2w_train1_idf = df_w2v_idf(wv_train, w2v_one)"
   ]
  },
  {
   "cell_type": "code",
   "execution_count": 43,
   "metadata": {
    "colab": {
     "base_uri": "https://localhost:8080/"
    },
    "id": "qpLUB0mERyKD",
    "outputId": "b613553c-1c0d-4873-f1dd-77d90774e9a4"
   },
   "outputs": [
    {
     "name": "stderr",
     "output_type": "stream",
     "text": [
      "/usr/local/lib/python3.6/dist-packages/ipykernel_launcher.py:5: DeprecationWarning: Call to deprecated `__getitem__` (Method will be removed in 4.0.0, use self.wv.__getitem__() instead).\n",
      "  \"\"\"\n"
     ]
    }
   ],
   "source": [
    "v2w_test1_idf = df_w2v_idf(wv_test, w2v_one)"
   ]
  },
  {
   "cell_type": "code",
   "execution_count": 44,
   "metadata": {
    "colab": {
     "base_uri": "https://localhost:8080/"
    },
    "id": "IVDE0YCjR48O",
    "outputId": "a2e6a37b-098c-4914-983c-bd0b89227bee"
   },
   "outputs": [
    {
     "data": {
      "text/plain": [
       "LinearRegression(copy_X=True, fit_intercept=True, n_jobs=None, normalize=False)"
      ]
     },
     "execution_count": 44,
     "metadata": {
      "tags": []
     },
     "output_type": "execute_result"
    }
   ],
   "source": [
    "lr_model.fit(v2w_train1_idf, df_train['score'])"
   ]
  },
  {
   "cell_type": "code",
   "execution_count": 45,
   "metadata": {
    "colab": {
     "base_uri": "https://localhost:8080/"
    },
    "id": "icjtuZUqR9tf",
    "outputId": "9979e671-db45-4e1b-df1e-93fbd11a8f3e"
   },
   "outputs": [
    {
     "data": {
      "text/plain": [
       "1.027295012633059"
      ]
     },
     "execution_count": 45,
     "metadata": {
      "tags": []
     },
     "output_type": "execute_result"
    }
   ],
   "source": [
    "mae1_idf = mean_absolute_error(lr_model.predict(v2w_test1_idf), df_test['score'])\n",
    "mae1_idf"
   ]
  },
  {
   "cell_type": "markdown",
   "metadata": {
    "id": "tXEw2xfaSMvm"
   },
   "source": [
    "Далее попробую с векторами размера 200, 300, 500, 800"
   ]
  },
  {
   "cell_type": "code",
   "execution_count": 46,
   "metadata": {
    "id": "ChVZszlxSUia"
   },
   "outputs": [],
   "source": [
    "w2v_two = Word2Vec(sentences=wv_train, size= 200)"
   ]
  },
  {
   "cell_type": "code",
   "execution_count": 47,
   "metadata": {
    "colab": {
     "base_uri": "https://localhost:8080/"
    },
    "id": "Dojb-rKAWswp",
    "outputId": "6679a2d5-4caa-4740-becc-d1c65335757e"
   },
   "outputs": [
    {
     "name": "stderr",
     "output_type": "stream",
     "text": [
      "/usr/local/lib/python3.6/dist-packages/ipykernel_launcher.py:5: DeprecationWarning: Call to deprecated `__getitem__` (Method will be removed in 4.0.0, use self.wv.__getitem__() instead).\n",
      "  \"\"\"\n"
     ]
    }
   ],
   "source": [
    "v2w_train2 = df_w2v(wv_train, w2v_two)"
   ]
  },
  {
   "cell_type": "code",
   "execution_count": 48,
   "metadata": {
    "colab": {
     "base_uri": "https://localhost:8080/"
    },
    "id": "8iclCJoLWzh5",
    "outputId": "2fbe331d-907a-494c-fa41-a8fda3cc066b"
   },
   "outputs": [
    {
     "name": "stderr",
     "output_type": "stream",
     "text": [
      "/usr/local/lib/python3.6/dist-packages/ipykernel_launcher.py:5: DeprecationWarning: Call to deprecated `__getitem__` (Method will be removed in 4.0.0, use self.wv.__getitem__() instead).\n",
      "  \"\"\"\n"
     ]
    }
   ],
   "source": [
    "v2w_test2 = df_w2v(wv_test, w2v_two)"
   ]
  },
  {
   "cell_type": "code",
   "execution_count": 49,
   "metadata": {
    "colab": {
     "base_uri": "https://localhost:8080/"
    },
    "id": "fz0UyFzDXJ9x",
    "outputId": "8377f4c4-77f0-4d54-c93c-b4183d92af6d"
   },
   "outputs": [
    {
     "data": {
      "text/plain": [
       "LinearRegression(copy_X=True, fit_intercept=True, n_jobs=None, normalize=False)"
      ]
     },
     "execution_count": 49,
     "metadata": {
      "tags": []
     },
     "output_type": "execute_result"
    }
   ],
   "source": [
    "lr_model.fit(v2w_train2, df_train['score'])"
   ]
  },
  {
   "cell_type": "code",
   "execution_count": 50,
   "metadata": {
    "colab": {
     "base_uri": "https://localhost:8080/"
    },
    "id": "M-KQpV5AXS46",
    "outputId": "f58fb356-3036-47e8-dbd3-bc815ff2c945"
   },
   "outputs": [
    {
     "data": {
      "text/plain": [
       "1.022035378727736"
      ]
     },
     "execution_count": 50,
     "metadata": {
      "tags": []
     },
     "output_type": "execute_result"
    }
   ],
   "source": [
    "mae2 = mean_absolute_error(lr_model.predict(v2w_test2), df_test['score'])\n",
    "mae2"
   ]
  },
  {
   "cell_type": "code",
   "execution_count": 51,
   "metadata": {
    "colab": {
     "base_uri": "https://localhost:8080/"
    },
    "id": "Nkmlto1SXcJT",
    "outputId": "e075a148-bc28-46e3-d869-732e3ab0320e"
   },
   "outputs": [
    {
     "name": "stderr",
     "output_type": "stream",
     "text": [
      "/usr/local/lib/python3.6/dist-packages/ipykernel_launcher.py:5: DeprecationWarning: Call to deprecated `__getitem__` (Method will be removed in 4.0.0, use self.wv.__getitem__() instead).\n",
      "  \"\"\"\n"
     ]
    }
   ],
   "source": [
    "v2w_train2_idf = df_w2v_idf(wv_train, w2v_two)"
   ]
  },
  {
   "cell_type": "code",
   "execution_count": 52,
   "metadata": {
    "colab": {
     "base_uri": "https://localhost:8080/"
    },
    "id": "KvNu2xa1aNoO",
    "outputId": "56176f79-b2e0-4544-9fb9-4317b40e6a81"
   },
   "outputs": [
    {
     "name": "stderr",
     "output_type": "stream",
     "text": [
      "/usr/local/lib/python3.6/dist-packages/ipykernel_launcher.py:5: DeprecationWarning: Call to deprecated `__getitem__` (Method will be removed in 4.0.0, use self.wv.__getitem__() instead).\n",
      "  \"\"\"\n"
     ]
    }
   ],
   "source": [
    "v2w_test2_idf = df_w2v_idf(wv_test, w2v_two)"
   ]
  },
  {
   "cell_type": "code",
   "execution_count": 53,
   "metadata": {
    "colab": {
     "base_uri": "https://localhost:8080/"
    },
    "id": "S37xBF8SXly7",
    "outputId": "a44cf4a5-c633-4bda-bcc3-d17f203bcb65"
   },
   "outputs": [
    {
     "data": {
      "text/plain": [
       "LinearRegression(copy_X=True, fit_intercept=True, n_jobs=None, normalize=False)"
      ]
     },
     "execution_count": 53,
     "metadata": {
      "tags": []
     },
     "output_type": "execute_result"
    }
   ],
   "source": [
    "lr_model.fit(v2w_train2_idf, df_train['score'])"
   ]
  },
  {
   "cell_type": "code",
   "execution_count": 54,
   "metadata": {
    "colab": {
     "base_uri": "https://localhost:8080/"
    },
    "id": "xMtVk4VaaYEY",
    "outputId": "4eadf9c8-5386-44a3-877d-d0f7fa35f0d9"
   },
   "outputs": [
    {
     "data": {
      "text/plain": [
       "0.9887834458788837"
      ]
     },
     "execution_count": 54,
     "metadata": {
      "tags": []
     },
     "output_type": "execute_result"
    }
   ],
   "source": [
    "mae2_idf = mean_absolute_error(lr_model.predict(v2w_test2_idf), df_test['score'])\n",
    "mae2_idf"
   ]
  },
  {
   "cell_type": "code",
   "execution_count": 55,
   "metadata": {
    "id": "ITE24Tonahd3"
   },
   "outputs": [],
   "source": [
    "w2v_three = Word2Vec(sentences=wv_train, size= 300)"
   ]
  },
  {
   "cell_type": "code",
   "execution_count": 56,
   "metadata": {
    "colab": {
     "base_uri": "https://localhost:8080/"
    },
    "id": "5NM31Km5alLT",
    "outputId": "59d8aaac-4c21-47cf-be6d-dbd72f3d6209"
   },
   "outputs": [
    {
     "name": "stderr",
     "output_type": "stream",
     "text": [
      "/usr/local/lib/python3.6/dist-packages/ipykernel_launcher.py:5: DeprecationWarning: Call to deprecated `__getitem__` (Method will be removed in 4.0.0, use self.wv.__getitem__() instead).\n",
      "  \"\"\"\n"
     ]
    }
   ],
   "source": [
    "v2w_train3 = df_w2v(wv_train, w2v_three)"
   ]
  },
  {
   "cell_type": "code",
   "execution_count": 57,
   "metadata": {
    "colab": {
     "base_uri": "https://localhost:8080/"
    },
    "id": "BJxNrve1axsI",
    "outputId": "fc321624-aba9-4316-aff6-770ff7b10dba"
   },
   "outputs": [
    {
     "name": "stderr",
     "output_type": "stream",
     "text": [
      "/usr/local/lib/python3.6/dist-packages/ipykernel_launcher.py:5: DeprecationWarning: Call to deprecated `__getitem__` (Method will be removed in 4.0.0, use self.wv.__getitem__() instead).\n",
      "  \"\"\"\n"
     ]
    }
   ],
   "source": [
    "v2w_test3 = df_w2v(wv_test, w2v_three)"
   ]
  },
  {
   "cell_type": "code",
   "execution_count": 58,
   "metadata": {
    "colab": {
     "base_uri": "https://localhost:8080/"
    },
    "id": "pu-gtaHKa05w",
    "outputId": "29a1744f-a923-4b21-9468-b570c673be59"
   },
   "outputs": [
    {
     "data": {
      "text/plain": [
       "LinearRegression(copy_X=True, fit_intercept=True, n_jobs=None, normalize=False)"
      ]
     },
     "execution_count": 58,
     "metadata": {
      "tags": []
     },
     "output_type": "execute_result"
    }
   ],
   "source": [
    "lr_model.fit(v2w_train3, df_train['score'])"
   ]
  },
  {
   "cell_type": "code",
   "execution_count": 59,
   "metadata": {
    "colab": {
     "base_uri": "https://localhost:8080/"
    },
    "id": "skuvrE2oa4s1",
    "outputId": "1cb05791-b6d1-4d3e-85d5-04839c5c1deb"
   },
   "outputs": [
    {
     "data": {
      "text/plain": [
       "1.0142415639780809"
      ]
     },
     "execution_count": 59,
     "metadata": {
      "tags": []
     },
     "output_type": "execute_result"
    }
   ],
   "source": [
    "mae3 = mean_absolute_error(lr_model.predict(v2w_test3), df_test['score'])\n",
    "mae3"
   ]
  },
  {
   "cell_type": "code",
   "execution_count": 60,
   "metadata": {
    "colab": {
     "base_uri": "https://localhost:8080/"
    },
    "id": "6Dber1xUbYX3",
    "outputId": "1007f83c-1a4d-4db1-c805-dd62c413c9c4"
   },
   "outputs": [
    {
     "name": "stderr",
     "output_type": "stream",
     "text": [
      "/usr/local/lib/python3.6/dist-packages/ipykernel_launcher.py:5: DeprecationWarning: Call to deprecated `__getitem__` (Method will be removed in 4.0.0, use self.wv.__getitem__() instead).\n",
      "  \"\"\"\n"
     ]
    }
   ],
   "source": [
    "v2w_train3_idf = df_w2v_idf(wv_train, w2v_three)"
   ]
  },
  {
   "cell_type": "code",
   "execution_count": 61,
   "metadata": {
    "colab": {
     "base_uri": "https://localhost:8080/"
    },
    "id": "evZJKsC7bcHG",
    "outputId": "ab518d6f-856d-4069-f80b-348fd7cbd33c"
   },
   "outputs": [
    {
     "name": "stderr",
     "output_type": "stream",
     "text": [
      "/usr/local/lib/python3.6/dist-packages/ipykernel_launcher.py:5: DeprecationWarning: Call to deprecated `__getitem__` (Method will be removed in 4.0.0, use self.wv.__getitem__() instead).\n",
      "  \"\"\"\n"
     ]
    }
   ],
   "source": [
    "v2w_test3_idf = df_w2v_idf(wv_test, w2v_three)"
   ]
  },
  {
   "cell_type": "code",
   "execution_count": 62,
   "metadata": {
    "colab": {
     "base_uri": "https://localhost:8080/"
    },
    "id": "DmPovMaibf7L",
    "outputId": "722ee528-faed-45a3-d1ee-79d89cbe9468"
   },
   "outputs": [
    {
     "data": {
      "text/plain": [
       "LinearRegression(copy_X=True, fit_intercept=True, n_jobs=None, normalize=False)"
      ]
     },
     "execution_count": 62,
     "metadata": {
      "tags": []
     },
     "output_type": "execute_result"
    }
   ],
   "source": [
    "lr_model.fit(v2w_train3_idf, df_train['score'])"
   ]
  },
  {
   "cell_type": "code",
   "execution_count": 63,
   "metadata": {
    "colab": {
     "base_uri": "https://localhost:8080/"
    },
    "id": "5nTpKfxibjj5",
    "outputId": "5e1b6442-539a-4202-d9fd-a0c482512d4a"
   },
   "outputs": [
    {
     "data": {
      "text/plain": [
       "0.9750252605675549"
      ]
     },
     "execution_count": 63,
     "metadata": {
      "tags": []
     },
     "output_type": "execute_result"
    }
   ],
   "source": [
    "mae3_idf = mean_absolute_error(lr_model.predict(v2w_test3_idf), df_test['score'])\n",
    "mae3_idf"
   ]
  },
  {
   "cell_type": "code",
   "execution_count": 64,
   "metadata": {
    "id": "zUhwH1ugc_Rg"
   },
   "outputs": [],
   "source": [
    "w2v_four = Word2Vec(sentences=wv_train, size= 500)"
   ]
  },
  {
   "cell_type": "code",
   "execution_count": 65,
   "metadata": {
    "colab": {
     "base_uri": "https://localhost:8080/"
    },
    "id": "fohoD2PygpBF",
    "outputId": "b86dcd64-db4b-4913-cfa0-8208ffab831e"
   },
   "outputs": [
    {
     "name": "stderr",
     "output_type": "stream",
     "text": [
      "/usr/local/lib/python3.6/dist-packages/ipykernel_launcher.py:5: DeprecationWarning: Call to deprecated `__getitem__` (Method will be removed in 4.0.0, use self.wv.__getitem__() instead).\n",
      "  \"\"\"\n"
     ]
    }
   ],
   "source": [
    "v2w_train4 = df_w2v(wv_train, w2v_four)"
   ]
  },
  {
   "cell_type": "code",
   "execution_count": 66,
   "metadata": {
    "colab": {
     "base_uri": "https://localhost:8080/"
    },
    "id": "-xuv1FFxgvHz",
    "outputId": "ac57b68a-75f6-4316-9f77-9b5a71474039"
   },
   "outputs": [
    {
     "name": "stderr",
     "output_type": "stream",
     "text": [
      "/usr/local/lib/python3.6/dist-packages/ipykernel_launcher.py:5: DeprecationWarning: Call to deprecated `__getitem__` (Method will be removed in 4.0.0, use self.wv.__getitem__() instead).\n",
      "  \"\"\"\n"
     ]
    }
   ],
   "source": [
    "v2w_test4 = df_w2v(wv_test, w2v_four)"
   ]
  },
  {
   "cell_type": "code",
   "execution_count": 67,
   "metadata": {
    "colab": {
     "base_uri": "https://localhost:8080/"
    },
    "id": "Fa4CLNoSgzAu",
    "outputId": "fea16a15-96dd-46f0-b637-161ff90ea27c"
   },
   "outputs": [
    {
     "data": {
      "text/plain": [
       "LinearRegression(copy_X=True, fit_intercept=True, n_jobs=None, normalize=False)"
      ]
     },
     "execution_count": 67,
     "metadata": {
      "tags": []
     },
     "output_type": "execute_result"
    }
   ],
   "source": [
    "lr_model.fit(v2w_train4, df_train['score'])"
   ]
  },
  {
   "cell_type": "code",
   "execution_count": 68,
   "metadata": {
    "colab": {
     "base_uri": "https://localhost:8080/"
    },
    "id": "nrnhjg-rg3Qp",
    "outputId": "276fbd1e-6762-490f-945f-71d3e2e0fab6"
   },
   "outputs": [
    {
     "data": {
      "text/plain": [
       "0.9978672525105143"
      ]
     },
     "execution_count": 68,
     "metadata": {
      "tags": []
     },
     "output_type": "execute_result"
    }
   ],
   "source": [
    "mae4 = mean_absolute_error(lr_model.predict(v2w_test4), df_test['score'])\n",
    "mae4"
   ]
  },
  {
   "cell_type": "code",
   "execution_count": 69,
   "metadata": {
    "colab": {
     "base_uri": "https://localhost:8080/"
    },
    "id": "HoLhl_Hig8oy",
    "outputId": "6242f0d3-c761-4228-f6ca-01e4cec8dbb8"
   },
   "outputs": [
    {
     "name": "stderr",
     "output_type": "stream",
     "text": [
      "/usr/local/lib/python3.6/dist-packages/ipykernel_launcher.py:5: DeprecationWarning: Call to deprecated `__getitem__` (Method will be removed in 4.0.0, use self.wv.__getitem__() instead).\n",
      "  \"\"\"\n"
     ]
    }
   ],
   "source": [
    "v2w_train4_idf = df_w2v_idf(wv_train, w2v_four)"
   ]
  },
  {
   "cell_type": "code",
   "execution_count": 70,
   "metadata": {
    "colab": {
     "base_uri": "https://localhost:8080/"
    },
    "id": "mg0AuNnHi0o2",
    "outputId": "49c313a2-3c99-47a6-d1d6-48d3980481f2"
   },
   "outputs": [
    {
     "name": "stderr",
     "output_type": "stream",
     "text": [
      "/usr/local/lib/python3.6/dist-packages/ipykernel_launcher.py:5: DeprecationWarning: Call to deprecated `__getitem__` (Method will be removed in 4.0.0, use self.wv.__getitem__() instead).\n",
      "  \"\"\"\n"
     ]
    }
   ],
   "source": [
    "v2w_test4_idf = df_w2v_idf(wv_test, w2v_four)"
   ]
  },
  {
   "cell_type": "code",
   "execution_count": 71,
   "metadata": {
    "colab": {
     "base_uri": "https://localhost:8080/"
    },
    "id": "HlAClW8Li6X2",
    "outputId": "43810f6e-900f-41f2-e32f-1b24225b7e21"
   },
   "outputs": [
    {
     "data": {
      "text/plain": [
       "LinearRegression(copy_X=True, fit_intercept=True, n_jobs=None, normalize=False)"
      ]
     },
     "execution_count": 71,
     "metadata": {
      "tags": []
     },
     "output_type": "execute_result"
    }
   ],
   "source": [
    "lr_model.fit(v2w_train4_idf, df_train['score'])"
   ]
  },
  {
   "cell_type": "code",
   "execution_count": 72,
   "metadata": {
    "colab": {
     "base_uri": "https://localhost:8080/"
    },
    "id": "sdZeRZQEi9HD",
    "outputId": "e0a01438-2ffc-4084-c23e-5d0b9847e17a"
   },
   "outputs": [
    {
     "data": {
      "text/plain": [
       "0.950996555712033"
      ]
     },
     "execution_count": 72,
     "metadata": {
      "tags": []
     },
     "output_type": "execute_result"
    }
   ],
   "source": [
    "mae4_idf = mean_absolute_error(lr_model.predict(v2w_test4_idf), df_test['score'])\n",
    "mae4_idf"
   ]
  },
  {
   "cell_type": "code",
   "execution_count": 73,
   "metadata": {
    "id": "1zt6DfgoB7iT"
   },
   "outputs": [],
   "source": [
    "w2v_five = Word2Vec(sentences=wv_train, size= 800)"
   ]
  },
  {
   "cell_type": "code",
   "execution_count": 74,
   "metadata": {
    "colab": {
     "base_uri": "https://localhost:8080/"
    },
    "id": "HApErKtACAfG",
    "outputId": "8250ddad-49fc-4aa7-86c5-6e22c13971a1"
   },
   "outputs": [
    {
     "name": "stderr",
     "output_type": "stream",
     "text": [
      "/usr/local/lib/python3.6/dist-packages/ipykernel_launcher.py:5: DeprecationWarning: Call to deprecated `__getitem__` (Method will be removed in 4.0.0, use self.wv.__getitem__() instead).\n",
      "  \"\"\"\n"
     ]
    }
   ],
   "source": [
    "v2w_train5 = df_w2v(wv_train, w2v_five)\n",
    "v2w_test5 = df_w2v(wv_test, w2v_five)"
   ]
  },
  {
   "cell_type": "code",
   "execution_count": 75,
   "metadata": {
    "colab": {
     "base_uri": "https://localhost:8080/"
    },
    "id": "XDYnctXwCOVe",
    "outputId": "2764b20e-78b7-491f-d330-d9da424bab11"
   },
   "outputs": [
    {
     "data": {
      "text/plain": [
       "LinearRegression(copy_X=True, fit_intercept=True, n_jobs=None, normalize=False)"
      ]
     },
     "execution_count": 75,
     "metadata": {
      "tags": []
     },
     "output_type": "execute_result"
    }
   ],
   "source": [
    "lr_model.fit(v2w_train5, df_train['score'])"
   ]
  },
  {
   "cell_type": "code",
   "execution_count": 76,
   "metadata": {
    "colab": {
     "base_uri": "https://localhost:8080/"
    },
    "id": "rfpXbQFuCSiZ",
    "outputId": "73c9d23d-edc1-4ef4-dd53-c6b9b0468192"
   },
   "outputs": [
    {
     "data": {
      "text/plain": [
       "0.986646959400278"
      ]
     },
     "execution_count": 76,
     "metadata": {
      "tags": []
     },
     "output_type": "execute_result"
    }
   ],
   "source": [
    "mae5 = mean_absolute_error(lr_model.predict(v2w_test5), df_test['score'])\n",
    "mae5"
   ]
  },
  {
   "cell_type": "code",
   "execution_count": 77,
   "metadata": {
    "colab": {
     "base_uri": "https://localhost:8080/"
    },
    "id": "aGNokONGCX4b",
    "outputId": "59277825-7ed7-4d11-a7db-fea27a4b65fc"
   },
   "outputs": [
    {
     "name": "stderr",
     "output_type": "stream",
     "text": [
      "/usr/local/lib/python3.6/dist-packages/ipykernel_launcher.py:5: DeprecationWarning: Call to deprecated `__getitem__` (Method will be removed in 4.0.0, use self.wv.__getitem__() instead).\n",
      "  \"\"\"\n"
     ]
    }
   ],
   "source": [
    "v2w_train5_idf = df_w2v_idf(wv_train, w2v_five)"
   ]
  },
  {
   "cell_type": "code",
   "execution_count": 78,
   "metadata": {
    "colab": {
     "base_uri": "https://localhost:8080/"
    },
    "id": "j8aUl8qPCmKs",
    "outputId": "9a60e688-6199-4fe9-c7b8-e052ff13e321"
   },
   "outputs": [
    {
     "name": "stderr",
     "output_type": "stream",
     "text": [
      "/usr/local/lib/python3.6/dist-packages/ipykernel_launcher.py:5: DeprecationWarning: Call to deprecated `__getitem__` (Method will be removed in 4.0.0, use self.wv.__getitem__() instead).\n",
      "  \"\"\"\n"
     ]
    }
   ],
   "source": [
    "v2w_test5_idf = df_w2v_idf(wv_test, w2v_five)"
   ]
  },
  {
   "cell_type": "code",
   "execution_count": 79,
   "metadata": {
    "colab": {
     "base_uri": "https://localhost:8080/"
    },
    "id": "8e-rcNo0CrKO",
    "outputId": "dbee55fb-8cca-4a6f-8603-75d0617981c6"
   },
   "outputs": [
    {
     "data": {
      "text/plain": [
       "LinearRegression(copy_X=True, fit_intercept=True, n_jobs=None, normalize=False)"
      ]
     },
     "execution_count": 79,
     "metadata": {
      "tags": []
     },
     "output_type": "execute_result"
    }
   ],
   "source": [
    "lr_model.fit(v2w_train5_idf, df_train['score'])"
   ]
  },
  {
   "cell_type": "code",
   "execution_count": 80,
   "metadata": {
    "colab": {
     "base_uri": "https://localhost:8080/"
    },
    "id": "qjI9BCZnCuVO",
    "outputId": "5910d294-658d-4524-9006-95991513e6dd"
   },
   "outputs": [
    {
     "data": {
      "text/plain": [
       "0.9408995057102069"
      ]
     },
     "execution_count": 80,
     "metadata": {
      "tags": []
     },
     "output_type": "execute_result"
    }
   ],
   "source": [
    "mae5_idf = mean_absolute_error(lr_model.predict(v2w_test5_idf), df_test['score'])\n",
    "mae5_idf"
   ]
  },
  {
   "cell_type": "markdown",
   "metadata": {
    "id": "Ta3dPGRQAOPG"
   },
   "source": [
    "Проведите эксперименты с размерностью эмбеддинга. Для каждого из двух методов постройте график зависимости качества модели от размерности эмбеддинга. \n",
    "#### Сделайте выводы:"
   ]
  },
  {
   "cell_type": "code",
   "execution_count": 81,
   "metadata": {
    "id": "oUy1wTkGvctu"
   },
   "outputs": [],
   "source": [
    "import matplotlib.pyplot as plt"
   ]
  },
  {
   "cell_type": "code",
   "execution_count": 82,
   "metadata": {
    "colab": {
     "base_uri": "https://localhost:8080/",
     "height": 294
    },
    "id": "lvggPSPLjDpi",
    "outputId": "5e332de0-223d-4699-9b8e-226b2c8add66"
   },
   "outputs": [
    {
     "data": {
      "image/png": "[encoded data removed]",
      "text/plain": [
       "<Figure size 432x288 with 1 Axes>"
      ]
     },
     "metadata": {
      "needs_background": "light",
      "tags": []
     },
     "output_type": "display_data"
    }
   ],
   "source": [
    "res = [mae1, mae2, mae3, mae4, mae5]\n",
    "res_idf = [mae1_idf, mae2_idf, mae3_idf, mae4_idf, mae5_idf]\n",
    "size = [100, 200, 300, 500, 800]\n",
    "plt.plot(size, res, label = 'no idf weights')\n",
    "plt.plot(size, res_idf, label = 'idf weights')\n",
    "plt.suptitle('MAE with different embedding sizes')\n",
    "plt.legend();"
   ]
  },
  {
   "cell_type": "markdown",
   "metadata": {
    "id": "t9OW2r7v_3Dl"
   },
   "source": [
    "Вводы: \n",
    "1. С повышением размерности представления растет качество для обоих типов модели (MAE снижается).  \n",
    "2. Домножение на idf сильно помогает нам обучаться \n",
    "3. С увеличением размерности качество на модели с idf растет быстрее, а не модели без – особо не меняется.  \n",
    "4. Мы взяли максимальный размер эмбеддинга 800, и обе модели все еще не переобучились (ошибка не начала расти). Возможно, это случилось бы более высоких зачениях, но 800 – это уже достаточно много "
   ]
  },
  {
   "cell_type": "markdown",
   "metadata": {
    "id": "XQOM40U-AOPG"
   },
   "source": [
    "Теперь попробуйте обучить логистическую регрессию на любых других эмбеддингах размерности 300 и сравните качество с Word2Vec.\n",
    "#### Выводы:"
   ]
  },
  {
   "cell_type": "markdown",
   "metadata": {
    "id": "uLwE9NFReU8E"
   },
   "source": [
    "Я буду смотреть на предобученные модели"
   ]
  },
  {
   "cell_type": "code",
   "execution_count": 83,
   "metadata": {
    "colab": {
     "base_uri": "https://localhost:8080/"
    },
    "id": "Ap6pe-iVEgcR",
    "outputId": "3ccc215e-cb4a-41de-8efc-6ced108a6786"
   },
   "outputs": [
    {
     "name": "stdout",
     "output_type": "stream",
     "text": [
      "[===============================================---] 95.2% 358.0/376.1MB downloaded"
     ]
    },
    {
     "data": {
      "text/plain": [
       "[('dog', 0.6816747188568115),\n",
       " ('cats', 0.6815836429595947),\n",
       " ('pet', 0.5870364904403687),\n",
       " ('dogs', 0.540766716003418),\n",
       " ('feline', 0.48979705572128296),\n",
       " ('monkey', 0.48794347047805786),\n",
       " ('horse', 0.4732130467891693),\n",
       " ('pets', 0.4634858965873718),\n",
       " ('rabbit', 0.4608757495880127),\n",
       " ('leopard', 0.4585462808609009)]"
      ]
     },
     "execution_count": 83,
     "metadata": {
      "tags": []
     },
     "output_type": "execute_result"
    }
   ],
   "source": [
    "import gensim.downloader as api\n",
    "glove = api.load(\"glove-wiki-gigaword-300\")\n",
    "glove.most_similar(\"cat\")"
   ]
  },
  {
   "cell_type": "code",
   "execution_count": 84,
   "metadata": {
    "colab": {
     "base_uri": "https://localhost:8080/"
    },
    "id": "on-PHQtBpbpm",
    "outputId": "fb34bc8f-4440-4160-9075-a59bb78c4099"
   },
   "outputs": [
    {
     "name": "stderr",
     "output_type": "stream",
     "text": [
      "/usr/local/lib/python3.6/dist-packages/ipykernel_launcher.py:4: DeprecationWarning: Call to deprecated `wv` (Attribute will be removed in 4.0.0, use self instead).\n",
      "  after removing the cwd from sys.path.\n"
     ]
    }
   ],
   "source": [
    "g_train = df_w2v(wv_train, glove)"
   ]
  },
  {
   "cell_type": "code",
   "execution_count": 85,
   "metadata": {
    "colab": {
     "base_uri": "https://localhost:8080/"
    },
    "id": "Flraz2ZAT1em",
    "outputId": "722f25bf-ae9a-404a-b8ee-8f6c852f2271"
   },
   "outputs": [
    {
     "name": "stderr",
     "output_type": "stream",
     "text": [
      "/usr/local/lib/python3.6/dist-packages/ipykernel_launcher.py:4: DeprecationWarning: Call to deprecated `wv` (Attribute will be removed in 4.0.0, use self instead).\n",
      "  after removing the cwd from sys.path.\n"
     ]
    }
   ],
   "source": [
    "g_test = df_w2v(wv_test, glove)"
   ]
  },
  {
   "cell_type": "code",
   "execution_count": 86,
   "metadata": {
    "colab": {
     "base_uri": "https://localhost:8080/"
    },
    "id": "i0UJ4YFRT5t6",
    "outputId": "96c8b2f2-e7b5-403c-a45b-034ab0dad35a"
   },
   "outputs": [
    {
     "data": {
      "text/plain": [
       "300"
      ]
     },
     "execution_count": 86,
     "metadata": {
      "tags": []
     },
     "output_type": "execute_result"
    }
   ],
   "source": [
    "len(g_train[0])"
   ]
  },
  {
   "cell_type": "code",
   "execution_count": 87,
   "metadata": {
    "colab": {
     "base_uri": "https://localhost:8080/"
    },
    "id": "PcWxQ0TvqHVU",
    "outputId": "f5a9c81b-9ff3-46a0-e739-4ed75e5aa17b"
   },
   "outputs": [
    {
     "data": {
      "text/plain": [
       "LinearRegression(copy_X=True, fit_intercept=True, n_jobs=None, normalize=False)"
      ]
     },
     "execution_count": 87,
     "metadata": {
      "tags": []
     },
     "output_type": "execute_result"
    }
   ],
   "source": [
    "lr_model.fit(g_train, df_train['score'])"
   ]
  },
  {
   "cell_type": "code",
   "execution_count": 88,
   "metadata": {
    "colab": {
     "base_uri": "https://localhost:8080/"
    },
    "id": "LXCD5R_ytIK-",
    "outputId": "e2e1028f-08e0-46ad-e3cb-983b75c7d08d"
   },
   "outputs": [
    {
     "data": {
      "text/plain": [
       "1.0463026853480533"
      ]
     },
     "execution_count": 88,
     "metadata": {
      "tags": []
     },
     "output_type": "execute_result"
    }
   ],
   "source": [
    "mae_g = mean_absolute_error(lr_model.predict(g_test), df_test['score'])\n",
    "mae_g"
   ]
  },
  {
   "cell_type": "code",
   "execution_count": 89,
   "metadata": {
    "colab": {
     "base_uri": "https://localhost:8080/"
    },
    "id": "JV0dWGaytRDF",
    "outputId": "37038aa6-2656-47c6-d626-f18c1cd728cd"
   },
   "outputs": [
    {
     "name": "stdout",
     "output_type": "stream",
     "text": [
      "[================================================--] 97.9% 938.1/958.4MB downloaded\n"
     ]
    }
   ],
   "source": [
    "ft = api.load('fasttext-wiki-news-subwords-300') "
   ]
  },
  {
   "cell_type": "code",
   "execution_count": 90,
   "metadata": {
    "colab": {
     "base_uri": "https://localhost:8080/"
    },
    "id": "5zzzqeTCtnWO",
    "outputId": "32eb1def-b893-48c3-b791-9b300391ad58"
   },
   "outputs": [
    {
     "name": "stderr",
     "output_type": "stream",
     "text": [
      "/usr/local/lib/python3.6/dist-packages/ipykernel_launcher.py:4: DeprecationWarning: Call to deprecated `wv` (Attribute will be removed in 4.0.0, use self instead).\n",
      "  after removing the cwd from sys.path.\n"
     ]
    }
   ],
   "source": [
    "ft_train = df_w2v(wv_train, ft)\n",
    "ft_test = df_w2v(wv_test, ft)"
   ]
  },
  {
   "cell_type": "code",
   "execution_count": 91,
   "metadata": {
    "colab": {
     "base_uri": "https://localhost:8080/"
    },
    "id": "WHKJ2MT-twoo",
    "outputId": "1e7c6a85-e4e3-4e05-b8b5-d87ee751a063"
   },
   "outputs": [
    {
     "data": {
      "text/plain": [
       "1.0262326833497744"
      ]
     },
     "execution_count": 91,
     "metadata": {
      "tags": []
     },
     "output_type": "execute_result"
    }
   ],
   "source": [
    "lr_model.fit(ft_train, df_train['score'])\n",
    "mae_ft = mean_absolute_error(lr_model.predict(ft_test), df_test['score'])\n",
    "mae_ft"
   ]
  },
  {
   "cell_type": "code",
   "execution_count": 92,
   "metadata": {
    "colab": {
     "base_uri": "https://localhost:8080/"
    },
    "id": "CPd2BteIxTFz",
    "outputId": "af85ec6f-075c-43d6-986b-600f2d7c77d9"
   },
   "outputs": [
    {
     "data": {
      "text/plain": [
       "1.0142415639780809"
      ]
     },
     "execution_count": 92,
     "metadata": {
      "tags": []
     },
     "output_type": "execute_result"
    }
   ],
   "source": [
    "mae3 #ошибка на w2v с размерностью 300 "
   ]
  },
  {
   "cell_type": "markdown",
   "metadata": {
    "id": "p0gAHuR3m9Mx"
   },
   "source": [
    "Как видно, на тренированном w2v качество чуть лучше, но и предобученные модели выдают довольно низкую ошибку. Можно предположить, что у нас в отзывах не особо редкие слова, и fasttext и glove их также знают "
   ]
  },
  {
   "cell_type": "markdown",
   "metadata": {
    "id": "1HpU-jC_AOPG"
   },
   "source": [
    "### Часть 3. 6 баллов"
   ]
  },
  {
   "cell_type": "markdown",
   "metadata": {
    "id": "Gx_Ni3tMAOPG"
   },
   "source": [
    "Теперь давайте воспользуемся более продвинутыми методами обработки текстовых данных, которые мы проходили в нашем курсе. Обучите RNN/Transformer для предсказания пользовательской оценки. Получите ошибку меньше, чем во всех вышеперечисленных методах."
   ]
  },
  {
   "cell_type": "markdown",
   "metadata": {
    "id": "n6wXSxfjvyoa"
   },
   "source": [
    "Наименьшая ошибка у меня была на tfidfvectorizer ~ 0.92 "
   ]
  },
  {
   "cell_type": "markdown",
   "metadata": {
    "id": "XDtt42d-AOPG"
   },
   "source": [
    "Если будете обучать RNN, попробуйте ограничить максимальную длину предложения. Некоторые отзывы могут быть слишком длинные относительно остальных.\n",
    "\n",
    "Чтобы пользоваться DataLoader, все его элементы должны быть одинаковой размерности. Для этого вы можете добавить нулевой паддинг ко всем предложениям (см пример pad_sequence)"
   ]
  },
  {
   "cell_type": "code",
   "execution_count": 93,
   "metadata": {
    "id": "V0HR-s-AAOPH"
   },
   "outputs": [],
   "source": [
    "import torch\n",
    "from torch import nn\n",
    "from torch.nn import functional as F"
   ]
  },
  {
   "cell_type": "code",
   "execution_count": 94,
   "metadata": {
    "colab": {
     "base_uri": "https://localhost:8080/"
    },
    "id": "jqz0jnIdni7r",
    "outputId": "f0518013-482b-4fac-bfcf-fe6ffd91cbe2"
   },
   "outputs": [
    {
     "name": "stdout",
     "output_type": "stream",
     "text": [
      "[nltk_data] Downloading package punkt to /root/nltk_data...\n",
      "[nltk_data]   Package punkt is already up-to-date!\n"
     ]
    }
   ],
   "source": [
    "import string\n",
    "\n",
    "import nltk\n",
    "nltk.download('punkt')\n",
    "\n",
    "from nltk.tokenize import word_tokenize\n",
    "\n",
    "def process_text(text):\n",
    "    return [word for word in word_tokenize(text.lower()) if word not in string.punctuation]"
   ]
  },
  {
   "cell_type": "code",
   "execution_count": 95,
   "metadata": {
    "id": "FW2pnKyRlhdn"
   },
   "outputs": [],
   "source": [
    "all_reviews = df['combined']\n",
    "all_reviews = all_reviews.apply(process_text)"
   ]
  },
  {
   "cell_type": "code",
   "execution_count": 96,
   "metadata": {
    "id": "BQ6C9MyOAOPH"
   },
   "outputs": [],
   "source": [
    "WORDS = set()\n",
    "for sent in list(all_reviews):\n",
    "    for word in sent: \n",
    "      WORDS.add(word)"
   ]
  },
  {
   "cell_type": "code",
   "execution_count": 97,
   "metadata": {
    "id": "njwZ4lPeAOPH"
   },
   "outputs": [],
   "source": [
    "int2word = dict(enumerate(tuple(WORDS))) #словарь будет со всеми словами в датасете – и на трейне и на тесте \n",
    "word2int = {w: ii for ii, w in int2word.items()} #обучаться конечно буду только на трейне "
   ]
  },
  {
   "cell_type": "code",
   "execution_count": 98,
   "metadata": {
    "colab": {
     "base_uri": "https://localhost:8080/"
    },
    "id": "RFueFddPbwo-",
    "outputId": "b4f59efc-a5d5-431d-d712-92a9539cb357"
   },
   "outputs": [
    {
     "data": {
      "text/plain": [
       "34728"
      ]
     },
     "execution_count": 98,
     "metadata": {
      "tags": []
     },
     "output_type": "execute_result"
    }
   ],
   "source": [
    "len(WORDS)"
   ]
  },
  {
   "cell_type": "code",
   "execution_count": 99,
   "metadata": {
    "colab": {
     "base_uri": "https://localhost:8080/"
    },
    "id": "Leqc4AImgvq7",
    "outputId": "46ca4a47-63c0-450d-adaf-1c064c780035"
   },
   "outputs": [
    {
     "data": {
      "text/plain": [
       "16889"
      ]
     },
     "execution_count": 99,
     "metadata": {
      "tags": []
     },
     "output_type": "execute_result"
    }
   ],
   "source": [
    "word2int['room']"
   ]
  },
  {
   "cell_type": "code",
   "execution_count": 100,
   "metadata": {
    "colab": {
     "base_uri": "https://localhost:8080/"
    },
    "id": "CywAt-4eAOPH",
    "outputId": "17479e0d-0905-4333-fa53-76272257ef2b"
   },
   "outputs": [
    {
     "data": {
      "text/plain": [
       "633"
      ]
     },
     "execution_count": 100,
     "metadata": {
      "tags": []
     },
     "output_type": "execute_result"
    }
   ],
   "source": [
    "MAX_LEN = max(all_reviews.apply(len))\n",
    "MAX_LEN"
   ]
  },
  {
   "cell_type": "code",
   "execution_count": 101,
   "metadata": {
    "colab": {
     "base_uri": "https://localhost:8080/"
    },
    "id": "_dj0lB1jpIdm",
    "outputId": "3e1c4e31-b304-4acb-b0ac-a63faa6acaeb"
   },
   "outputs": [
    {
     "data": {
      "text/plain": [
       "34.40696"
      ]
     },
     "execution_count": 101,
     "metadata": {
      "tags": []
     },
     "output_type": "execute_result"
    }
   ],
   "source": [
    "mean_len = np.mean(all_reviews.apply(len))\n",
    "mean_len"
   ]
  },
  {
   "cell_type": "code",
   "execution_count": 102,
   "metadata": {
    "id": "OWMxdAxNAOPI"
   },
   "outputs": [],
   "source": [
    "from torch.nn.utils.rnn import pad_sequence\n",
    "\n",
    "MAX_LEN = 100 #я ограничу длину предложений до 100, так как средняя длина – 34, а максимальная 600+. При макисмальной длине больше 100 модель очень плохо \n",
    "#обучалась, видимо, из-за большого чсила нулей \n",
    "\n",
    "train_rew_pad = pad_sequence([torch.as_tensor([word2int[w] for w in seq][:MAX_LEN]) for seq in df_train['combined'].apply(process_text)],\n",
    "                             batch_first=True)"
   ]
  },
  {
   "cell_type": "code",
   "execution_count": 103,
   "metadata": {
    "id": "6NzGuiGsb14B"
   },
   "outputs": [],
   "source": [
    "test_rew_pad = pad_sequence([torch.as_tensor([word2int[w] for w in seq][:MAX_LEN]) for seq in df_test['combined'].apply(process_text)], batch_first=True)"
   ]
  },
  {
   "cell_type": "code",
   "execution_count": 104,
   "metadata": {
    "id": "WAGqkaDxCmjB"
   },
   "outputs": [],
   "source": [
    "from torch.utils.data import TensorDataset, DataLoader"
   ]
  },
  {
   "cell_type": "code",
   "execution_count": 105,
   "metadata": {
    "colab": {
     "base_uri": "https://localhost:8080/"
    },
    "id": "Mq6V4l6EDIXc",
    "outputId": "54a7e8b2-c9bc-466e-dae0-80be728ff458"
   },
   "outputs": [
    {
     "data": {
      "text/plain": [
       "tensor([10.0000,  8.3000,  9.2000,  ...,  9.6000,  7.1000,  6.3000])"
      ]
     },
     "execution_count": 105,
     "metadata": {
      "tags": []
     },
     "output_type": "execute_result"
    }
   ],
   "source": [
    "torch.tensor(list(df_train['score']))"
   ]
  },
  {
   "cell_type": "code",
   "execution_count": 106,
   "metadata": {
    "id": "zr6pItZ8ooYG"
   },
   "outputs": [],
   "source": [
    "rnn_train = TensorDataset(train_rew_pad, torch.tensor(list(df_train['score']))) #Тензордатасет можно сразу передать в даталоудер"
   ]
  },
  {
   "cell_type": "code",
   "execution_count": 107,
   "metadata": {
    "id": "i9Pm893Q-COm"
   },
   "outputs": [],
   "source": [
    "rnn_test = TensorDataset(test_rew_pad, torch.tensor(list(df_test['score'])))"
   ]
  },
  {
   "cell_type": "code",
   "execution_count": 108,
   "metadata": {
    "id": "kowyzLYPAOPI"
   },
   "outputs": [],
   "source": [
    "batch_size = 5\n",
    "train_dataloader = torch.utils.data.DataLoader(rnn_train, batch_size=batch_size)\n",
    "test_dataloader = torch.utils.data.DataLoader(rnn_test, batch_size=batch_size)"
   ]
  },
  {
   "cell_type": "code",
   "execution_count": 109,
   "metadata": {
    "colab": {
     "base_uri": "https://localhost:8080/"
    },
    "id": "MzuxAdjO_vBt",
    "outputId": "f9216a71-ae90-4fd5-e80f-5518ae322ed0"
   },
   "outputs": [
    {
     "data": {
      "text/plain": [
       "tensor([[27975, 34019, 14677, 30505, 20013, 13276, 27975,  8310,  6142, 13028,\n",
       "         21839, 29964,  8790,     0,     0,     0,     0,     0,     0,     0,\n",
       "             0,     0,     0,     0,     0,     0,     0,     0,     0,     0,\n",
       "             0,     0,     0,     0,     0,     0,     0,     0,     0,     0,\n",
       "             0,     0,     0,     0,     0,     0,     0,     0,     0,     0,\n",
       "             0,     0,     0,     0,     0,     0,     0,     0,     0,     0,\n",
       "             0,     0,     0,     0,     0,     0,     0,     0,     0,     0,\n",
       "             0,     0,     0,     0,     0,     0,     0,     0,     0,     0,\n",
       "             0,     0,     0,     0,     0,     0,     0,     0,     0,     0,\n",
       "             0,     0,     0,     0,     0,     0,     0,     0,     0,     0],\n",
       "        [20666, 10666, 30505,  9475, 31263,  8310, 23932, 26271, 12576, 20073,\n",
       "          9182, 17395, 25112, 13276,  6891, 19679, 33451, 26472, 18104, 24218,\n",
       "         23155,  9890, 21096, 10555, 27975, 11283,  8510, 25593, 24218, 27975,\n",
       "         18333, 13276,  4756, 26170, 22052, 21856,   418, 27975, 11283, 13257,\n",
       "         20666, 14292, 23453, 27975,  8545, 33226, 30505, 16562,  1139, 22052,\n",
       "         20666, 23912, 12525,  4450, 29770, 14389, 27975, 26472, 27200, 22645,\n",
       "         32222, 20311, 14672,  7325, 27975, 23922, 10555, 27975, 11283, 25771,\n",
       "         19113, 29421, 33083,  4020, 13835, 19583,  2332, 32746,  5271, 13276,\n",
       "         27975, 11844, 19113, 19235, 17395, 22645, 12108,  3916, 16172, 12291,\n",
       "         26170, 33451, 22157, 27147, 27975, 26097, 16889, 15093, 22052, 10666],\n",
       "        [29824, 25746, 10690, 22977, 23453,  3183,  3226, 27975,  7673,     0,\n",
       "             0,     0,     0,     0,     0,     0,     0,     0,     0,     0,\n",
       "             0,     0,     0,     0,     0,     0,     0,     0,     0,     0,\n",
       "             0,     0,     0,     0,     0,     0,     0,     0,     0,     0,\n",
       "             0,     0,     0,     0,     0,     0,     0,     0,     0,     0,\n",
       "             0,     0,     0,     0,     0,     0,     0,     0,     0,     0,\n",
       "             0,     0,     0,     0,     0,     0,     0,     0,     0,     0,\n",
       "             0,     0,     0,     0,     0,     0,     0,     0,     0,     0,\n",
       "             0,     0,     0,     0,     0,     0,     0,     0,     0,     0,\n",
       "             0,     0,     0,     0,     0,     0,     0,     0,     0,     0],\n",
       "        [17395, 14677,  5957,  8310, 15202,  3694,    33, 16214, 15512, 16079,\n",
       "          4373, 26153, 29964,   350,     0,     0,     0,     0,     0,     0,\n",
       "             0,     0,     0,     0,     0,     0,     0,     0,     0,     0,\n",
       "             0,     0,     0,     0,     0,     0,     0,     0,     0,     0,\n",
       "             0,     0,     0,     0,     0,     0,     0,     0,     0,     0,\n",
       "             0,     0,     0,     0,     0,     0,     0,     0,     0,     0,\n",
       "             0,     0,     0,     0,     0,     0,     0,     0,     0,     0,\n",
       "             0,     0,     0,     0,     0,     0,     0,     0,     0,     0,\n",
       "             0,     0,     0,     0,     0,     0,     0,     0,     0,     0,\n",
       "             0,     0,     0,     0,     0,     0,     0,     0,     0,     0],\n",
       "        [27975,  6067, 19113,  7536, 12009,  9475, 30505, 20666,  6572, 29964,\n",
       "           350,     0,     0,     0,     0,     0,     0,     0,     0,     0,\n",
       "             0,     0,     0,     0,     0,     0,     0,     0,     0,     0,\n",
       "             0,     0,     0,     0,     0,     0,     0,     0,     0,     0,\n",
       "             0,     0,     0,     0,     0,     0,     0,     0,     0,     0,\n",
       "             0,     0,     0,     0,     0,     0,     0,     0,     0,     0,\n",
       "             0,     0,     0,     0,     0,     0,     0,     0,     0,     0,\n",
       "             0,     0,     0,     0,     0,     0,     0,     0,     0,     0,\n",
       "             0,     0,     0,     0,     0,     0,     0,     0,     0,     0,\n",
       "             0,     0,     0,     0,     0,     0,     0,     0,     0,     0]])"
      ]
     },
     "execution_count": 109,
     "metadata": {
      "tags": []
     },
     "output_type": "execute_result"
    }
   ],
   "source": [
    "dataiter = iter(train_dataloader) #проверяю, как выглядит один батч \n",
    "sample_x, sample_y = dataiter.next()\n",
    "sample_x"
   ]
  },
  {
   "cell_type": "code",
   "execution_count": 110,
   "metadata": {
    "colab": {
     "base_uri": "https://localhost:8080/"
    },
    "id": "05xXzq-NEkJU",
    "outputId": "4c29168e-e2b6-4ecf-ee4b-0281362ad98f"
   },
   "outputs": [
    {
     "data": {
      "text/plain": [
       "tensor([10.0000,  8.3000,  9.2000, 10.0000,  9.2000])"
      ]
     },
     "execution_count": 110,
     "metadata": {
      "tags": []
     },
     "output_type": "execute_result"
    }
   ],
   "source": [
    "sample_y"
   ]
  },
  {
   "cell_type": "code",
   "execution_count": 111,
   "metadata": {
    "colab": {
     "base_uri": "https://localhost:8080/"
    },
    "id": "Qn4mZcqfEr7R",
    "outputId": "e045d478-83e8-4475-cb36-a50ec39b4f3f"
   },
   "outputs": [
    {
     "data": {
      "text/plain": [
       "torch.Size([5, 100])"
      ]
     },
     "execution_count": 111,
     "metadata": {
      "tags": []
     },
     "output_type": "execute_result"
    }
   ],
   "source": [
    "sample_x.size()"
   ]
  },
  {
   "cell_type": "code",
   "execution_count": 112,
   "metadata": {
    "colab": {
     "base_uri": "https://localhost:8080/"
    },
    "id": "STvjpQexExGA",
    "outputId": "d6b05aca-e0cb-4faa-bef7-f2d4eea38339"
   },
   "outputs": [
    {
     "name": "stdout",
     "output_type": "stream",
     "text": [
      "Training on GPU!\n"
     ]
    }
   ],
   "source": [
    "train_on_gpu = torch.cuda.is_available()\n",
    "if(train_on_gpu):\n",
    "    print('Training on GPU!')\n",
    "else: \n",
    "    print('No GPU available, training on CPU; consider making n_epochs very small.')"
   ]
  },
  {
   "cell_type": "code",
   "execution_count": 113,
   "metadata": {
    "id": "qDVqNHOtFcAO"
   },
   "outputs": [],
   "source": [
    "class SentimentRNN(nn.Module): #модель вдохновлена семинаром и одинм ноутбуком, ссылка на него внизу\n",
    "\n",
    "    def __init__(self, vocab_size, output_size, embedding_dim, hidden_dim, n_layers, drop_prob=0.3):\n",
    "     \n",
    "        super(SentimentRNN, self).__init__()\n",
    "\n",
    "        self.output_size = output_size\n",
    "        self.n_layers = n_layers\n",
    "        self.hidden_dim = hidden_dim\n",
    "        \n",
    "        # embedding and LSTM layers\n",
    "        self.embedding = nn.Embedding(vocab_size, embedding_dim) #вместо кажого слова получим какой-то вектор\n",
    "        self.lstm = nn.LSTM(embedding_dim, hidden_dim, n_layers, #из lstm будем брать выход6 и скрытое состояние\n",
    "                            dropout=drop_prob, batch_first=True)\n",
    "        \n",
    "        # dropout layer\n",
    "        self.dropout = nn.Dropout(0.3)\n",
    "        \n",
    "        # linear layer\n",
    "        self.fc = nn.Linear(hidden_dim, output_size) #для предсказания – линейная регрессия\n",
    "\n",
    "    def forward(self, x, hidden):\n",
    "        \"\"\"\n",
    "        Perform a forward pass of our model on some input and hidden state.\n",
    "        \"\"\"\n",
    "        batch_size = x.size(0)\n",
    "        \n",
    "        # embeddings and lstm_out\n",
    "        embeds = self.embedding(x)\n",
    "        lstm_out, hidden = self.lstm(embeds, hidden)\n",
    "        \n",
    "        # stack up lstm outputs\n",
    "        lstm_out = lstm_out.contiguous().view(-1, self.hidden_dim)\n",
    "        \n",
    "        # dropout and fully connected layer\n",
    "        out = self.dropout(lstm_out)\n",
    "        out = self.fc(out)\n",
    "        \n",
    "        # reshape to be batch_size first\n",
    "        out = out.view(batch_size, -1)\n",
    "        out = out[:, -1] # get last batch of labels\n",
    "        \n",
    "        # return last output and hidden state\n",
    "        return out, hidden\n",
    "    \n",
    "    \n",
    "    def init_hidden(self, batch_size):\n",
    "        \n",
    "        # Create two new tensors with sizes n_layers x batch_size x hidden_dim,\n",
    "        # initialized to zero, for hidden state and cell state of LSTM\n",
    "        weight = next(self.parameters()).data\n",
    "        \n",
    "        if(train_on_gpu):\n",
    "          hidden = (weight.new(self.n_layers, batch_size, self.hidden_dim).zero_().cuda(),\n",
    "                   weight.new(self.n_layers, batch_size, self.hidden_dim).zero_().cuda())\n",
    "        else:\n",
    "          hidden = (weight.new(self.n_layers, batch_size, self.hidden_dim).zero_(),\n",
    "                   weight.new(self.n_layers, batch_size, self.hidden_dim).zero_())\n",
    "        \n",
    "        return hidden\n",
    "        \n",
    "        "
   ]
  },
  {
   "cell_type": "code",
   "execution_count": 114,
   "metadata": {
    "colab": {
     "base_uri": "https://localhost:8080/"
    },
    "id": "P22sHTYPLaGy",
    "outputId": "0414c1e8-f560-4f77-dca0-bc6eb0efd503"
   },
   "outputs": [
    {
     "name": "stdout",
     "output_type": "stream",
     "text": [
      "SentimentRNN(\n",
      "  (embedding): Embedding(34729, 600)\n",
      "  (lstm): LSTM(600, 64, num_layers=2, batch_first=True, dropout=0.5)\n",
      "  (dropout): Dropout(p=0.3, inplace=False)\n",
      "  (fc): Linear(in_features=64, out_features=1, bias=True)\n",
      ")\n"
     ]
    }
   ],
   "source": [
    "vocab_size = len(word2int) + 1 # +1 добавляется из-за паддинга \n",
    "output_size = 1 #модель предсказывет одно число \n",
    "embedding_dim = 600 #из второго задания было ясно, что чем больше размер эмбеддинга, тем лучше \n",
    "hidden_dim = 64 #если взять больше сеть очень тяжело и долго обучалась \n",
    "n_layers = 2\n",
    "\n",
    "net = SentimentRNN(vocab_size, output_size, embedding_dim, hidden_dim, n_layers)\n",
    "\n",
    "print(net)"
   ]
  },
  {
   "cell_type": "code",
   "execution_count": 115,
   "metadata": {
    "colab": {
     "base_uri": "https://localhost:8080/"
    },
    "id": "kqJPpmHwNYX_",
    "outputId": "105287c9-6928-4da1-a1e7-650e199b5aff"
   },
   "outputs": [
    {
     "name": "stdout",
     "output_type": "stream",
     "text": [
      "Epoch: 1/4... Step: 5000... Loss: 1.529429... Val Loss: 1.152990\n",
      "Epoch: 1/4... Step: 10000... Loss: 2.004452... Val Loss: 1.115179\n",
      "Epoch: 1/4... Step: 15000... Loss: 0.831468... Val Loss: 1.059871\n",
      "Epoch: 2/4... Step: 20000... Loss: 1.064122... Val Loss: 1.021471\n",
      "Epoch: 2/4... Step: 25000... Loss: 1.804907... Val Loss: 0.992588\n",
      "Epoch: 2/4... Step: 30000... Loss: 0.764526... Val Loss: 0.963415\n",
      "Epoch: 3/4... Step: 35000... Loss: 1.385325... Val Loss: 0.935809\n",
      "Epoch: 3/4... Step: 40000... Loss: 1.525259... Val Loss: 0.925402\n",
      "Epoch: 3/4... Step: 45000... Loss: 0.895082... Val Loss: 0.933424\n",
      "Epoch: 4/4... Step: 50000... Loss: 1.354910... Val Loss: 0.902682\n",
      "Epoch: 4/4... Step: 55000... Loss: 1.407071... Val Loss: 0.903139\n",
      "Epoch: 4/4... Step: 60000... Loss: 1.600182... Val Loss: 0.891100\n"
     ]
    }
   ],
   "source": [
    "epochs = 4 #после четвертой эпохи лосс особо не падает, минимум был 0.89 на пятой эпохе, так что я ограничилась 4 \n",
    "\n",
    "counter = 0\n",
    "print_every = 5000\n",
    "clip=5 # gradient clipping\n",
    "\n",
    "\n",
    "lr=0.005\n",
    "\n",
    "if train_on_gpu:\n",
    "    net.cuda()\n",
    "\n",
    "criterion = nn.L1Loss() #это MAE \n",
    "optimizer = torch.optim.Adagrad(net.parameters(), lr = lr)\n",
    "\n",
    "net.train()\n",
    "for e in range(epochs):\n",
    "    h = net.init_hidden(batch_size)\n",
    "\n",
    "    # batch loop\n",
    "    for inputs, labels in train_dataloader:\n",
    "        counter += 1\n",
    "\n",
    "        if(train_on_gpu):\n",
    "            inputs, labels = inputs.cuda(), labels.cuda()\n",
    "\n",
    "        h = tuple([each.data for each in h])\n",
    "\n",
    "        net.zero_grad()\n",
    "\n",
    "        output, h = net(inputs, h)\n",
    "\n",
    "        loss = criterion(output.squeeze(), labels.float())\n",
    "        loss.backward()\n",
    "        # `clip_grad_norm` helps prevent the exploding gradient problem in RNNs / LSTMs.\n",
    "        nn.utils.clip_grad_norm_(net.parameters(), clip)\n",
    "        optimizer.step()\n",
    "\n",
    "        if counter % print_every == 0:\n",
    "            val_h = net.init_hidden(batch_size)\n",
    "            val_losses = []\n",
    "            net.eval()\n",
    "            for inputs, labels in test_dataloader:\n",
    "\n",
    "                val_h = tuple([each.data for each in val_h])\n",
    "\n",
    "                if(train_on_gpu):\n",
    "                    inputs, labels = inputs.cuda(), labels.cuda()\n",
    "\n",
    "                output, val_h = net(inputs, val_h)\n",
    "                val_loss = criterion(output.squeeze(), labels.float())\n",
    "\n",
    "                val_losses.append(val_loss.item())\n",
    "\n",
    "            net.train()\n",
    "            print(\"Epoch: {}/{}...\".format(e+1, epochs),\n",
    "                  \"Step: {}...\".format(counter),\n",
    "                  \"Loss: {:.6f}...\".format(loss.item()), #выводится лосс последнего элемента в батче на трейне (поэтому он так скачет)\n",
    "                  \"Val Loss: {:.6f}\".format(np.mean(val_losses))) #и средняя mae по тесту "
   ]
  },
  {
   "cell_type": "markdown",
   "metadata": {
    "id": "f4L04U63xpLG"
   },
   "source": [
    "Честно признаюсь, что вдохновлялась [этой тетрадкой](https://colab.research.google.com/github/agungsantoso/deep-learning-v2-pytorch/blob/master/sentiment-rnn/Sentiment_RNN_Exercise.ipynb#scrollTo=rJqrvKg0pmwu), и еще мне очень помог вот [этот пост](https://datascience.stackexchange.com/questions/45503/understanding-output-of-lstm-for-regression), чтобы адаптировать код под линейную регрессию, а не под классификацию "
   ]
  },
  {
   "cell_type": "markdown",
   "metadata": {
    "id": "NmZeekLFAOPI"
   },
   "source": [
    "### Бонус. 10 баллов\n",
    "\n",
    "Побейте качество 0.75 в [соревновании](https://www.kaggle.com/c/hseds-texts-2020/leaderboard). Можете воспользоваться вышеперечисленными методами или попробовать что-нибудь еще."
   ]
  },
  {
   "cell_type": "code",
   "execution_count": 115,
   "metadata": {
    "id": "cB6aJhlzAOPJ"
   },
   "outputs": [],
   "source": []
  }
 ],
 "metadata": {
  "accelerator": "GPU",
  "colab": {
   "collapsed_sections": [],
   "name": "hw3 (1).ipynb",
   "provenance": []
  },
  "kernelspec": {
   "display_name": "Python 3",
   "language": "python",
   "name": "python3"
  },
  "language_info": {
   "codemirror_mode": {
    "name": "ipython",
    "version": 3
   },
   "file_extension": ".py",
   "mimetype": "text/x-python",
   "name": "python",
   "nbconvert_exporter": "python",
   "pygments_lexer": "ipython3",
   "version": "3.8.3"
  }
 },
 "nbformat": 4,
 "nbformat_minor": 1
}
